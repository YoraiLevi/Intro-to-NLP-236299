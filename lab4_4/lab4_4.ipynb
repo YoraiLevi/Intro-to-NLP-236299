{
  "cells": [
    {
      "cell_type": "code",
      "execution_count": 1,
      "id": "435ac9f5",
      "metadata": {
        "deletable": false,
        "editable": false,
        "jupyter": {
          "outputs_hidden": true,
          "source_hidden": true
        },
        "colab": {
          "base_uri": "https://localhost:8080/"
        },
        "id": "435ac9f5",
        "outputId": "714cf1d0-9378-492d-93db-a71689fc625d"
      },
      "outputs": [
        {
          "output_type": "stream",
          "name": "stdout",
          "text": [
            "     ━━━━━━━━━━━━━━━━━━━━━━━━━━━━━━━━━━━━━━━ 164.0/164.0 kB 4.3 MB/s eta 0:00:00\n",
            "     ━━━━━━━━━━━━━━━━━━━━━━━━━━━━━━━━━━━━━━━━ 6.3/6.3 MB 58.4 MB/s eta 0:00:00\n",
            "     ━━━━━━━━━━━━━━━━━━━━━━━━━━━━━━━━━━━━━━━━ 7.6/7.6 MB 74.5 MB/s eta 0:00:00\n",
            "     ━━━━━━━━━━━━━━━━━━━━━━━━━━━━━━━━━━━━━━ 462.8/462.8 kB 44.8 MB/s eta 0:00:00\n",
            "     ━━━━━━━━━━━━━━━━━━━━━━━━━━━━━━━━━━━━━━ 148.1/148.1 kB 16.4 MB/s eta 0:00:00\n",
            "     ━━━━━━━━━━━━━━━━━━━━━━━━━━━━━━━━━━━━━━ 110.5/110.5 kB 13.5 MB/s eta 0:00:00\n",
            "     ━━━━━━━━━━━━━━━━━━━━━━━━━━━━━━━━━━━━━━ 232.6/232.6 kB 27.3 MB/s eta 0:00:00\n",
            "     ━━━━━━━━━━━━━━━━━━━━━━━━━━━━━━━━━━━━━━ 236.8/236.8 kB 25.0 MB/s eta 0:00:00\n",
            "     ━━━━━━━━━━━━━━━━━━━━━━━━━━━━━━━━━━━━━━ 212.5/212.5 kB 24.9 MB/s eta 0:00:00\n",
            "     ━━━━━━━━━━━━━━━━━━━━━━━━━━━━━━━━━━━━━━ 134.3/134.3 kB 15.7 MB/s eta 0:00:00\n",
            "     ━━━━━━━━━━━━━━━━━━━━━━━━━━━━━━━━━━━━━━━━ 1.6/1.6 MB 76.2 MB/s eta 0:00:00\n"
          ]
        }
      ],
      "source": [
        "# Please do not change this cell because some hidden tests might depend on it.\n",
        "import os\n",
        "\n",
        "# Otter grader does not handle ! commands well, so we define and use our\n",
        "# own function to execute shell commands.\n",
        "def shell(commands, warn=True):\n",
        "    \"\"\"Executes the string `commands` as a sequence of shell commands.\n",
        "\n",
        "       Prints the result to stdout and returns the exit status.\n",
        "       Provides a printed warning on non-zero exit status unless `warn`\n",
        "       flag is unset.\n",
        "    \"\"\"\n",
        "    file = os.popen(commands)\n",
        "    print (file.read().rstrip('\\n'))\n",
        "    exit_status = file.close()\n",
        "    if warn and exit_status != None:\n",
        "        print(f\"Completed with errors. Exit status: {exit_status}\\n\")\n",
        "    return exit_status\n",
        "\n",
        "shell(\"\"\"\n",
        "ls requirements.txt >/dev/null 2>&1\n",
        "if [ ! $? = 0 ]; then\n",
        " rm -rf .tmp\n",
        " git clone git@github.com:cs236299-2023-spring/lab4-4.git .tmp\n",
        " mv .tmp/tests ./\n",
        " mv .tmp/requirements.txt ./\n",
        " rm -rf .tmp\n",
        "fi\n",
        "pip install -q -r requirements.txt\n",
        "\"\"\")"
      ]
    },
    {
      "cell_type": "code",
      "execution_count": 2,
      "id": "41308453",
      "metadata": {
        "deletable": false,
        "editable": false,
        "id": "41308453"
      },
      "outputs": [],
      "source": [
        "# Initialize Otter\n",
        "import otter\n",
        "grader = otter.Notebook()"
      ]
    },
    {
      "cell_type": "raw",
      "id": "39bbb02c",
      "metadata": {
        "jupyter": {
          "source_hidden": true
        },
        "id": "39bbb02c"
      },
      "source": [
        "%%latex\n",
        "\\newcommand{\\vect}[1]{\\mathbf{#1}}\n",
        "\\newcommand{\\cnt}[1]{\\sharp(#1)}\n",
        "\\newcommand{\\argmax}[1]{\\underset{#1}{\\operatorname{argmax}}}\n",
        "\\newcommand{\\softmax}{\\operatorname{softmax}}\n",
        "\\newcommand{\\Prob}{\\Pr}\n",
        "\\newcommand{\\given}{\\,|\\,}"
      ]
    },
    {
      "cell_type": "markdown",
      "id": "c8dd3185",
      "metadata": {
        "jupyter": {
          "source_hidden": true
        },
        "id": "c8dd3185"
      },
      "source": [
        "$$\n",
        "\\renewcommand{\\vect}[1]{\\mathbf{#1}}\n",
        "\\renewcommand{\\cnt}[1]{\\sharp(#1)}\n",
        "\\renewcommand{\\argmax}[1]{\\underset{#1}{\\operatorname{argmax}}}\n",
        "\\renewcommand{\\softmax}{\\operatorname{softmax}}\n",
        "\\renewcommand{\\Prob}{\\Pr}\n",
        "\\renewcommand{\\given}{\\,|\\,}\n",
        "$$"
      ]
    },
    {
      "cell_type": "markdown",
      "id": "2636e77e",
      "metadata": {
        "tags": [
          "remove_for_latex"
        ],
        "id": "2636e77e"
      },
      "source": [
        "# Course 236299\n",
        "## Lab 4-4 - Sequence-to-sequence models"
      ]
    },
    {
      "cell_type": "markdown",
      "id": "01b395a0",
      "metadata": {
        "id": "01b395a0"
      },
      "source": [
        "In lab 4-2, we used a syntactic-semantic grammar for semantic parsing to convert natural language to meaning representations in SQL. In this lab, we consider an alternative approach, sequence-to-sequence models, which can solve this task by directly learning the mapping from a sequence of inputs to a sequence of outputs. Since sequence-to-sequence models make few assumptions about the data, they can be applied to a variety of tasks, including machine translation, document summarization, and speech recognition.\n",
        "\n",
        "In this lab, we will implement a sequence-to-sequence model in its most basic form (as in [this seminal paper](https://arxiv.org/pdf/1409.3215.pdf)), and apply it to the task of converting English number phrases to numbers, as exemplified in the table below.\n",
        "\n",
        "|                 Input                                            |       Output         |\n",
        "|:-----------------------------------------------------------------|---------------------:|\n",
        "| seven thousand nine hundred and twenty nine                      |       7929           |\n",
        "| eight hundred and forty two thousand two hundred and fifty nine  |       842259         |\n",
        "| five hundred and eight thousand two hundred and seventeen        |       508217         |\n",
        "\n",
        "For this simple task, it is possible to write a rule-based program to do the conversion. However, here we take a learning-based approach and learn the mapping from demonstrations, with the benefit that the system we implement here can be applied to other sequence-to-sequence tasks as well (including the ATIS-to-SQL problem in project segment 4)."
      ]
    },
    {
      "cell_type": "markdown",
      "id": "baf76190",
      "metadata": {
        "id": "baf76190"
      },
      "source": [
        "New bits of Pytorch used in this lab, and which you may find useful include:\n",
        "\n",
        "* [torch.transpose](https://pytorch.org/docs/stable/generated/torch.transpose.html): Swaps two dimensions of a tensor.\n",
        "* [torch.reshape](https://pytorch.org/docs/stable/generated/torch.reshape.html): Redistributes the elements of a tensor to form a tensor of a different shape, e.g., from 3 x 4 to 6 x 2.\n",
        "* [torch.nn.utils.rnn.pack_padded_sequence](https://pytorch.org/docs/stable/generated/torch.nn.utils.rnn.pack_padded_sequence.html) (imported as `pack`): Handles paddings. A more detailed explanation can be found [here](https://stackoverflow.com/a/56211056)."
      ]
    },
    {
      "cell_type": "markdown",
      "id": "0d898eb5",
      "metadata": {
        "id": "0d898eb5"
      },
      "source": [
        "## Preparation - Loading data"
      ]
    },
    {
      "cell_type": "code",
      "execution_count": 3,
      "id": "0f1dda1e",
      "metadata": {
        "deletable": false,
        "id": "0f1dda1e"
      },
      "outputs": [],
      "source": [
        "import copy\n",
        "import math\n",
        "import os\n",
        "import wget\n",
        "\n",
        "import torch\n",
        "import torch.nn as nn\n",
        "\n",
        "from datasets import load_dataset\n",
        "from tokenizers import Tokenizer\n",
        "from tokenizers.pre_tokenizers import WhitespaceSplit\n",
        "from tokenizers.processors import TemplateProcessing\n",
        "from tokenizers import normalizers\n",
        "from tokenizers.models import WordLevel\n",
        "from tokenizers.trainers import WordLevelTrainer\n",
        "from transformers import PreTrainedTokenizerFast\n",
        "\n",
        "from tqdm import tqdm\n",
        "import csv\n",
        "\n",
        "from torch.nn.utils.rnn import pack_padded_sequence as pack"
      ]
    },
    {
      "cell_type": "code",
      "execution_count": 4,
      "id": "0b74c57a",
      "metadata": {
        "colab": {
          "base_uri": "https://localhost:8080/"
        },
        "id": "0b74c57a",
        "outputId": "ae829836-6d40-4f7b-84a9-524978a7418f"
      },
      "outputs": [
        {
          "output_type": "stream",
          "name": "stdout",
          "text": [
            "cuda\n"
          ]
        }
      ],
      "source": [
        "# GPU check, make sure to use GPU where available\n",
        "device = torch.device(\"cuda\" if torch.cuda.is_available() else \"cpu\")\n",
        "print (device)"
      ]
    },
    {
      "cell_type": "code",
      "execution_count": 5,
      "id": "1c103a14",
      "metadata": {
        "id": "1c103a14"
      },
      "outputs": [],
      "source": [
        "# Download data\n",
        "def download_if_needed(source, dest, filename):\n",
        "    os.makedirs(dest, exist_ok=True) # ensure destination\n",
        "    os.path.exists(f\"./{dest}{filename}\") or wget.download(source + filename, out=dest)\n",
        "\n",
        "local_dir = \"data/\"\n",
        "remote_dir = \"https://github.com/nlp-236299/data/raw/master/Words2Num/\"\n",
        "os.makedirs(local_dir, exist_ok=True)\n",
        "\n",
        "for filename in [\n",
        "    \"train.src\",\n",
        "    \"train.tgt\",\n",
        "    \"dev.src\",\n",
        "    \"dev.tgt\",\n",
        "    \"test.src\",\n",
        "    \"test.tgt\",\n",
        "]:\n",
        "    download_if_needed(remote_dir, local_dir, filename)"
      ]
    },
    {
      "cell_type": "markdown",
      "id": "2f1e60f5",
      "metadata": {
        "id": "2f1e60f5"
      },
      "source": [
        "Next, we process the dataset by extracting the sequences and their corresponding labels and save it in CSV format."
      ]
    },
    {
      "cell_type": "code",
      "execution_count": 6,
      "id": "8573d614",
      "metadata": {
        "id": "8573d614"
      },
      "outputs": [],
      "source": [
        "# Process data\n",
        "for split in ['train', 'dev', 'test']:\n",
        "    src_in_file = f'{local_dir}{split}.src'\n",
        "    tgt_in_file = f'{local_dir}{split}.tgt'\n",
        "    out_file = f'{local_dir}{split}.csv'\n",
        "\n",
        "    with open(src_in_file, 'r') as f_src_in, open(tgt_in_file, 'r') as f_tgt_in:\n",
        "        with open(out_file, 'w') as f_out:\n",
        "            src, tgt= [], []\n",
        "            writer = csv.writer(f_out)\n",
        "            writer.writerow(('src','tgt'))\n",
        "            for src_line, tgt_line in zip(f_src_in, f_tgt_in):\n",
        "                writer.writerow((src_line.strip(), tgt_line.strip()))"
      ]
    },
    {
      "cell_type": "markdown",
      "id": "93212dea",
      "metadata": {
        "id": "93212dea"
      },
      "source": [
        "Let's take a look at what each data file looks like."
      ]
    },
    {
      "cell_type": "code",
      "execution_count": 7,
      "id": "47945aef",
      "metadata": {
        "colab": {
          "base_uri": "https://localhost:8080/"
        },
        "id": "47945aef",
        "outputId": "d42b23fb-4e7b-4779-bc29-0af4ba6c08ab"
      },
      "outputs": [
        {
          "output_type": "stream",
          "name": "stdout",
          "text": [
            "src,tgt\n",
            "five million eight hundred and seventy nine thousand four hundred and sixty four,5 8 7 9 4 6 4\n",
            "twenty thousand eight hundred and eighty five,2 0 8 8 5\n",
            "one thousand five hundred and ten,1 5 1 0\n",
            "fifty nine thousand one hundred and six,5 9 1 0 6\n",
            "forty three thousand one hundred and forty six,4 3 1 4 6\n",
            "three hundred and fifty five million four hundred and fifty eight thousand six hundred and eighty six,3 5 5 4 5 8 6 8 6\n",
            "five billion eight hundred and sixty three million sixty five thousand six hundred and seventy three,5 8 6 3 0 6 5 6 7 3\n",
            "two hundred and forty six thousand four hundred and seventy one,2 4 6 4 7 1\n",
            "eight hundred and twenty nine thousand eight hundred and one,8 2 9 8 0 1\n"
          ]
        }
      ],
      "source": [
        "shell('head \"data/train.csv\"')"
      ]
    },
    {
      "cell_type": "markdown",
      "id": "f8926fdd",
      "metadata": {
        "id": "f8926fdd"
      },
      "source": [
        "# The dataset\n",
        "\n",
        "Let's take a first look at the dataset of English number phrases and their translations into digit-sequence form."
      ]
    },
    {
      "cell_type": "code",
      "execution_count": 8,
      "id": "c4c8d447",
      "metadata": {
        "colab": {
          "base_uri": "https://localhost:8080/"
        },
        "id": "c4c8d447",
        "outputId": "061ebd48-3c85-4914-f973-2c7195f21ca3"
      },
      "outputs": [
        {
          "output_type": "stream",
          "name": "stdout",
          "text": [
            "src                                                                             tgt\n",
            "seven thousand nine hundred and twenty nine                                 7 9 2 9\n",
            "eight hundred and forty two thousand two hundred and fifty nine         8 4 2 2 5 9\n"
          ]
        }
      ],
      "source": [
        "with open(local_dir + \"dev.csv\") as f:\n",
        "    for line, _ in zip(f, range(3)):\n",
        "        src, tgt = line.split(',')\n",
        "        print (f'{src.strip():70s} {tgt.strip():>12s}')"
      ]
    },
    {
      "cell_type": "markdown",
      "id": "7ed594bf",
      "metadata": {
        "id": "7ed594bf"
      },
      "source": [
        "As before, we use `datasets` to load data."
      ]
    },
    {
      "cell_type": "code",
      "execution_count": 9,
      "id": "958c8f68",
      "metadata": {
        "colab": {
          "base_uri": "https://localhost:8080/",
          "height": 549,
          "referenced_widgets": [
            "454726668aed4dec99442ec62ffd2cd6",
            "7996953f8e6d427fb9de11fd68fcc341",
            "d39800d6b07b4db3a9af79435b3be5d1",
            "84618ae6087a44a8a0ee0b5954e7305a",
            "9bf8cb1a99184f2e9336b05320d339e7",
            "514a2812a8e7437da8c7dc56a3839e4b",
            "90ef8dff79aa4c44822935fc9c70d281",
            "874d2ae36b7b48c784650152ef16de07",
            "4d383c057e094e75ba345ba476e34123",
            "79c685d0258c44c885b020fa0b997884",
            "f25f18692a384c04bc437dd3e08e6a32",
            "fc01b75f30924d768260cd4b773ea426",
            "910c7d5a9fe844c798a9f2de45fa32ce",
            "b918719238794ceb9baecdc943fc5fff",
            "f1bf475725e84961a5f970381f586455",
            "b073bb69336c4d43b26cb6d2bd8c04a6",
            "56bbafea299f454599fef7b9929c6e33",
            "a102146476c34ba9b09db251f2e54eca",
            "87ed2b0791f44cc5aa07751acaf1dda2",
            "a71c4c0bbc1541e4ad3836160702e2fe",
            "fcc2806039e74d6fa7f33775014de76b",
            "29023f5ac0b140518c3e7359c62f3985",
            "864f97df078a4da683b8eefb987bfda5",
            "e15d859bca0246849f157f4080be9ab3",
            "cd443a17889f4d6dacf5e72033760745",
            "8123cbc42aeb43cd85417324a446ae9a",
            "d43e9ce21b484a5a884fbf8168714bf8",
            "78a49443dca645799268192672a737c7",
            "45d8eb2c31fc4557848f788e00b1a451",
            "311bbac5b8554250b4384b0f5f865084",
            "3d2f9459acda4280a173249d38a3da2d",
            "24c16053e7204ab0ab542d2591ada355",
            "0eacb7de90b447e68636d19f9d4af89a",
            "4d584cdf89eb46bf9e293d20c0f4393e",
            "c8d1f0f8e6004e20a4d679d325e4c55c",
            "d31006e1cc104ab4870fd954e0ea6c2d",
            "5f54c117506b4e1f882bf7bc1040a51d",
            "d95d6a32534441dfb12efa0d35dfe1ac",
            "960a1536d6314d7f963bfe85517aff61",
            "5100ba4830b5494197e7541ecc550bf4",
            "0e2fce5a063f473795fcfeaf2bf7986b",
            "d460158da1024f349dbc794852f1121e",
            "e6ad119eb4104cffacccc26d395997df",
            "4d5978b281df48309356091d5d9f81f6",
            "9e91d511bdc741f28b385d241275362b",
            "dfda102ebf704d7a8d198bbe243a0507",
            "1eb03c3eeb7546b8b29f7dd4a588d15f",
            "be582492411d49ecbae77385b95f89ab",
            "cd83386bac884057b2dc4542a2895344",
            "5d1a398efed541cd898397975474289a",
            "822ae74dd08f427681bb10a88b9d8310",
            "f30be3b0c594450e9c54483d26c60d4d",
            "3b8829788137461b93547a5321d43538",
            "9961f7fda4c34d1294fa91231cf9e33f",
            "f8c6820676bf4567885bd5168c172167",
            "3f8240fc82fd4942835f14c8f4561385",
            "1a16925194bf462e9df1ec06e5b77e80",
            "72425e2fdc6946538e3c58d02c678fd5",
            "e12125e383604e4a83ef583f016f832e",
            "580f9e832e1f4dcd9aadf947e6404193",
            "1c2bf4ef79714a769971ca132f01e584",
            "56166bbed92b41dcae09accc730f812f",
            "086b7cdd8ab54163985e9cfe79839fa5",
            "8d63ee55f4834f0985bb80ac9b1f6f74",
            "9c2b64e8a44c4111b4aa28ae66724bb7",
            "4310105f9a304e7bbe839ac600c511f5"
          ]
        },
        "id": "958c8f68",
        "outputId": "5226ae42-2f0b-4623-ee21-fe86604b319d"
      },
      "outputs": [
        {
          "output_type": "stream",
          "name": "stderr",
          "text": [
            "WARNING:datasets.builder:Using custom data configuration default-5ffda4652cdc49ba\n"
          ]
        },
        {
          "output_type": "stream",
          "name": "stdout",
          "text": [
            "Downloading and preparing dataset csv/default to /root/.cache/huggingface/datasets/csv/default-5ffda4652cdc49ba/0.0.0/6b34fb8fcf56f7c8ba51dc895bfa2bfbe43546f190a60fcf74bb5e8afdcc2317...\n"
          ]
        },
        {
          "output_type": "display_data",
          "data": {
            "text/plain": [
              "Downloading data files:   0%|          | 0/3 [00:00<?, ?it/s]"
            ],
            "application/vnd.jupyter.widget-view+json": {
              "version_major": 2,
              "version_minor": 0,
              "model_id": "454726668aed4dec99442ec62ffd2cd6"
            }
          },
          "metadata": {}
        },
        {
          "output_type": "display_data",
          "data": {
            "text/plain": [
              "Extracting data files:   0%|          | 0/3 [00:00<?, ?it/s]"
            ],
            "application/vnd.jupyter.widget-view+json": {
              "version_major": 2,
              "version_minor": 0,
              "model_id": "fc01b75f30924d768260cd4b773ea426"
            }
          },
          "metadata": {}
        },
        {
          "output_type": "display_data",
          "data": {
            "text/plain": [
              "Generating train split: 0 examples [00:00, ? examples/s]"
            ],
            "application/vnd.jupyter.widget-view+json": {
              "version_major": 2,
              "version_minor": 0,
              "model_id": "864f97df078a4da683b8eefb987bfda5"
            }
          },
          "metadata": {}
        },
        {
          "output_type": "stream",
          "name": "stderr",
          "text": [
            "/usr/local/lib/python3.10/dist-packages/datasets/download/streaming_download_manager.py:776: FutureWarning: the 'mangle_dupe_cols' keyword is deprecated and will be removed in a future version. Please take steps to stop the use of 'mangle_dupe_cols'\n",
            "  return pd.read_csv(xopen(filepath_or_buffer, \"rb\", use_auth_token=use_auth_token), **kwargs)\n"
          ]
        },
        {
          "output_type": "display_data",
          "data": {
            "text/plain": [
              "Generating val split: 0 examples [00:00, ? examples/s]"
            ],
            "application/vnd.jupyter.widget-view+json": {
              "version_major": 2,
              "version_minor": 0,
              "model_id": "4d584cdf89eb46bf9e293d20c0f4393e"
            }
          },
          "metadata": {}
        },
        {
          "output_type": "stream",
          "name": "stderr",
          "text": [
            "/usr/local/lib/python3.10/dist-packages/datasets/download/streaming_download_manager.py:776: FutureWarning: the 'mangle_dupe_cols' keyword is deprecated and will be removed in a future version. Please take steps to stop the use of 'mangle_dupe_cols'\n",
            "  return pd.read_csv(xopen(filepath_or_buffer, \"rb\", use_auth_token=use_auth_token), **kwargs)\n"
          ]
        },
        {
          "output_type": "display_data",
          "data": {
            "text/plain": [
              "Generating test split: 0 examples [00:00, ? examples/s]"
            ],
            "application/vnd.jupyter.widget-view+json": {
              "version_major": 2,
              "version_minor": 0,
              "model_id": "9e91d511bdc741f28b385d241275362b"
            }
          },
          "metadata": {}
        },
        {
          "output_type": "stream",
          "name": "stderr",
          "text": [
            "/usr/local/lib/python3.10/dist-packages/datasets/download/streaming_download_manager.py:776: FutureWarning: the 'mangle_dupe_cols' keyword is deprecated and will be removed in a future version. Please take steps to stop the use of 'mangle_dupe_cols'\n",
            "  return pd.read_csv(xopen(filepath_or_buffer, \"rb\", use_auth_token=use_auth_token), **kwargs)\n"
          ]
        },
        {
          "output_type": "stream",
          "name": "stdout",
          "text": [
            "Dataset csv downloaded and prepared to /root/.cache/huggingface/datasets/csv/default-5ffda4652cdc49ba/0.0.0/6b34fb8fcf56f7c8ba51dc895bfa2bfbe43546f190a60fcf74bb5e8afdcc2317. Subsequent calls will reuse this data.\n"
          ]
        },
        {
          "output_type": "display_data",
          "data": {
            "text/plain": [
              "  0%|          | 0/3 [00:00<?, ?it/s]"
            ],
            "application/vnd.jupyter.widget-view+json": {
              "version_major": 2,
              "version_minor": 0,
              "model_id": "3f8240fc82fd4942835f14c8f4561385"
            }
          },
          "metadata": {}
        },
        {
          "output_type": "execute_result",
          "data": {
            "text/plain": [
              "DatasetDict({\n",
              "    train: Dataset({\n",
              "        features: ['src', 'tgt'],\n",
              "        num_rows: 65022\n",
              "    })\n",
              "    val: Dataset({\n",
              "        features: ['src', 'tgt'],\n",
              "        num_rows: 700\n",
              "    })\n",
              "    test: Dataset({\n",
              "        features: ['src', 'tgt'],\n",
              "        num_rows: 700\n",
              "    })\n",
              "})"
            ]
          },
          "metadata": {},
          "execution_count": 9
        }
      ],
      "source": [
        "dataset = load_dataset('csv', data_files={'train':f'{local_dir}train.csv', \\\n",
        "                                          'val': f'{local_dir}dev.csv', \\\n",
        "                                          'test': f'{local_dir}test.csv'})\n",
        "dataset"
      ]
    },
    {
      "cell_type": "code",
      "execution_count": 10,
      "id": "ce2be780",
      "metadata": {
        "id": "ce2be780"
      },
      "outputs": [],
      "source": [
        "train_data = dataset['train']\n",
        "val_data = dataset['val']\n",
        "test_data = dataset['test']"
      ]
    },
    {
      "cell_type": "markdown",
      "id": "7884f8d7",
      "metadata": {
        "id": "7884f8d7"
      },
      "source": [
        "We build tokenizers from the training data to tokenize the source and target seuqnces and convert them into word ids."
      ]
    },
    {
      "cell_type": "code",
      "execution_count": 11,
      "id": "d536303a",
      "metadata": {
        "id": "d536303a"
      },
      "outputs": [],
      "source": [
        "unk_token = '[UNK]'\n",
        "pad_token = '[PAD]'\n",
        "bos_token = '<bos>'\n",
        "eos_token = '<eos>'\n",
        "src_tokenizer = Tokenizer(WordLevel(unk_token=unk_token))\n",
        "src_tokenizer.pre_tokenizer = WhitespaceSplit()\n",
        "\n",
        "src_trainer = WordLevelTrainer(special_tokens=[pad_token, unk_token])\n",
        "src_tokenizer.train_from_iterator(train_data['src'], trainer=src_trainer)\n",
        "\n",
        "tgt_tokenizer = Tokenizer(WordLevel(unk_token=unk_token))\n",
        "tgt_tokenizer.pre_tokenizer = WhitespaceSplit()\n",
        "\n",
        "tgt_trainer = WordLevelTrainer(special_tokens=[pad_token, unk_token, bos_token, eos_token])\n",
        "\n",
        "tgt_tokenizer.train_from_iterator(train_data['tgt'], trainer=tgt_trainer)\n",
        "\n",
        "tgt_tokenizer.post_processor = TemplateProcessing(single=f\"{bos_token} $A {eos_token}\", special_tokens=[(bos_token, tgt_tokenizer.token_to_id(bos_token)), (eos_token, tgt_tokenizer.token_to_id(eos_token))])"
      ]
    },
    {
      "cell_type": "markdown",
      "id": "b6deb302",
      "metadata": {
        "id": "b6deb302"
      },
      "source": [
        "Note that we prepended `<bos>` and appended `<eos>` to target sentences. The purpose for introducing them will become clear in later parts of this lab.\n",
        "\n",
        "We use `datasets.Dataset.map` to convert text into word ids. As shown in lab 1-5, first we need to wrap `tokenizer` with the `transformers.PreTrainedTokenizerFast` class to be compatible with the `datasets` library."
      ]
    },
    {
      "cell_type": "code",
      "execution_count": 12,
      "id": "ddd34b6a",
      "metadata": {
        "id": "ddd34b6a"
      },
      "outputs": [],
      "source": [
        "hf_src_tokenizer = PreTrainedTokenizerFast(tokenizer_object=src_tokenizer, pad_token=pad_token, unk_token=unk_token)\n",
        "hf_tgt_tokenizer = PreTrainedTokenizerFast(tokenizer_object=tgt_tokenizer, pad_token=pad_token, unk_token=unk_token, bos_token=bos_token, eos_token=eos_token)"
      ]
    },
    {
      "cell_type": "code",
      "execution_count": 13,
      "id": "3da6825e",
      "metadata": {
        "colab": {
          "base_uri": "https://localhost:8080/",
          "height": 113,
          "referenced_widgets": [
            "28da7451dcec40e886ca85ce98123bd5",
            "d8488437018a41b7a5ccc07f0edb6e74",
            "f223e178f58f4648a995e92f3814750f",
            "8ec1b7465b6a45239a5c3c51a6bee7e5",
            "9b97b9488fe64c3499732a05aa42e505",
            "51f2db061d5c4f41be79dc7e7273c129",
            "fd84bff461ba482fabb7599bd5b03b69",
            "2ec99075063e4549be91b84e6ce37553",
            "e845d83d1ab545859d8965810f9463e4",
            "4acc70695e6e43a4999415c87cc60b11",
            "36d5ae2b670c452e81879b8a07c7c2bf",
            "b11abb352ae24c398a8e3ab3282a3255",
            "7b8a62d3ccc44690ab97a293d9d53319",
            "af35f962fe9c4714888652ce7fb6f78a",
            "cc295c67a2434541aefaab380e36065d",
            "72e2481208b949ca99e83572d09897a7",
            "95b1f98a40c64946ab5ae7ee86a6bf61",
            "6264579022124c97b0098cf186cf98a0",
            "79718a9a17184fcb8d3a9e7745bdeb57",
            "83a8e8cd73ac4f09bec165c31743d81c",
            "8ad697d2a1174779a73300e3c2427c44",
            "0176418db73e4af1a5f55a21da79fa73",
            "0b247d49511e4b7fb4859f339f95586a",
            "2917c9b0cd994e2b98a6c11ffd65c2c0",
            "f00895004c594dbe9b14c1d581ff2ce8",
            "1119d259e2ee42a4897c7f1dee593056",
            "fa8f9d94c5264baa8f625fb6886ba280",
            "50615f67eb1143b3b8c9cd73c73482df",
            "ad7d6f6f2e3247b0ae7e509b802e0237",
            "e06d415b66de4d7b85c0020a4fadec0d",
            "5542632d58ad4e3f8cc24459c38228e3",
            "528a8a79a3e74101909f84dcdf17dc18",
            "0f633f070fd0429fba04d453f2f34518"
          ]
        },
        "id": "3da6825e",
        "outputId": "81bc0eeb-444c-4657-839a-a57622d178b1"
      },
      "outputs": [
        {
          "output_type": "display_data",
          "data": {
            "text/plain": [
              "  0%|          | 0/65022 [00:00<?, ?ex/s]"
            ],
            "application/vnd.jupyter.widget-view+json": {
              "version_major": 2,
              "version_minor": 0,
              "model_id": "28da7451dcec40e886ca85ce98123bd5"
            }
          },
          "metadata": {}
        },
        {
          "output_type": "display_data",
          "data": {
            "text/plain": [
              "  0%|          | 0/700 [00:00<?, ?ex/s]"
            ],
            "application/vnd.jupyter.widget-view+json": {
              "version_major": 2,
              "version_minor": 0,
              "model_id": "b11abb352ae24c398a8e3ab3282a3255"
            }
          },
          "metadata": {}
        },
        {
          "output_type": "display_data",
          "data": {
            "text/plain": [
              "  0%|          | 0/700 [00:00<?, ?ex/s]"
            ],
            "application/vnd.jupyter.widget-view+json": {
              "version_major": 2,
              "version_minor": 0,
              "model_id": "0b247d49511e4b7fb4859f339f95586a"
            }
          },
          "metadata": {}
        }
      ],
      "source": [
        "def encode(example):\n",
        "    example['src_ids'] = hf_src_tokenizer(example['src']).input_ids\n",
        "    example['tgt_ids'] = hf_tgt_tokenizer(example['tgt']).input_ids\n",
        "    return example\n",
        "\n",
        "train_data = train_data.map(encode)\n",
        "val_data = val_data.map(encode)\n",
        "test_data = test_data.map(encode)"
      ]
    },
    {
      "cell_type": "code",
      "execution_count": 14,
      "id": "2e38d847",
      "metadata": {
        "colab": {
          "base_uri": "https://localhost:8080/"
        },
        "id": "2e38d847",
        "outputId": "93fd9643-cc93-46f3-d0e3-7ed57136b97a"
      },
      "outputs": [
        {
          "output_type": "stream",
          "name": "stdout",
          "text": [
            "Size of src vocab: 34\n",
            "Size of tgt vocab: 14\n",
            "Index for src padding: 0\n",
            "Index for tgt padding: 0\n",
            "Index for start of sequence token: 2\n",
            "Index for end of sequence token: 3\n"
          ]
        }
      ],
      "source": [
        "# Compute size of vocabulary\n",
        "src_vocab = hf_src_tokenizer.get_vocab()\n",
        "tgt_vocab = hf_tgt_tokenizer.get_vocab()\n",
        "\n",
        "print(f\"Size of src vocab: {len(src_vocab)}\")\n",
        "print(f\"Size of tgt vocab: {len(tgt_vocab)}\")\n",
        "print(f\"Index for src padding: {src_vocab[pad_token]}\")\n",
        "print(f\"Index for tgt padding: {tgt_vocab[pad_token]}\")\n",
        "print(f\"Index for start of sequence token: {tgt_vocab[bos_token]}\")\n",
        "print(f\"Index for end of sequence token: {tgt_vocab[eos_token]}\")"
      ]
    },
    {
      "cell_type": "markdown",
      "id": "7c1aa7cc",
      "metadata": {
        "id": "7c1aa7cc"
      },
      "source": [
        "To load data in batched tensors, we use `torch.utils.data.DataLoader` for data splits, which enables us to iterate over the dataset under a given `BATCH_SIZE`. For the test set, we use a batch size of 1, to make the decoding implementation easier."
      ]
    },
    {
      "cell_type": "code",
      "execution_count": 15,
      "id": "b7ffebe7",
      "metadata": {
        "id": "b7ffebe7"
      },
      "outputs": [],
      "source": [
        "BATCH_SIZE = 32     # batch size for training and validation\n",
        "TEST_BATCH_SIZE = 1 # batch size for test; we use 1 to make implementation easier\n",
        "\n",
        "# Defines how to batch a list of examples together\n",
        "def collate_fn(examples):\n",
        "    batch = {}\n",
        "    bsz = len(examples)\n",
        "    src_ids, tgt_ids = [], []\n",
        "    for example in examples:\n",
        "        src_ids.append(example['src_ids'])\n",
        "        tgt_ids.append(example['tgt_ids'])\n",
        "\n",
        "    src_len = torch.LongTensor([len(word_ids) for word_ids in src_ids]).to(device)\n",
        "    src_max_length = max(src_len)\n",
        "    tgt_max_length = max([len(word_ids) for word_ids in tgt_ids])\n",
        "\n",
        "    src_batch = torch.zeros(bsz, src_max_length).long().fill_(src_vocab[pad_token]).to(device)\n",
        "    tgt_batch = torch.zeros(bsz, tgt_max_length).long().fill_(tgt_vocab[pad_token]).to(device)\n",
        "    for b in range(bsz):\n",
        "        src_batch[b][:len(src_ids[b])] = torch.LongTensor(src_ids[b]).to(device)\n",
        "        tgt_batch[b][:len(tgt_ids[b])] = torch.LongTensor(tgt_ids[b]).to(device)\n",
        "\n",
        "    batch['src_lengths'] = src_len\n",
        "    batch['src_ids'] = src_batch\n",
        "    batch['tgt_ids'] = tgt_batch\n",
        "    return batch\n",
        "\n",
        "train_iter = torch.utils.data.DataLoader(train_data,\n",
        "                                         batch_size=BATCH_SIZE,\n",
        "                                         shuffle=True,\n",
        "                                         collate_fn=collate_fn)\n",
        "val_iter = torch.utils.data.DataLoader(val_data,\n",
        "                                       batch_size=BATCH_SIZE,\n",
        "                                       shuffle=False,\n",
        "                                       collate_fn=collate_fn)\n",
        "test_iter = torch.utils.data.DataLoader(test_data,\n",
        "                                        batch_size=TEST_BATCH_SIZE,\n",
        "                                        shuffle=False,\n",
        "                                        collate_fn=collate_fn)"
      ]
    },
    {
      "cell_type": "markdown",
      "id": "440caa3a",
      "metadata": {
        "id": "440caa3a"
      },
      "source": [
        "Let's take a look at a batch from these iterators."
      ]
    },
    {
      "cell_type": "code",
      "execution_count": 16,
      "id": "1426eccd",
      "metadata": {
        "colab": {
          "base_uri": "https://localhost:8080/"
        },
        "id": "1426eccd",
        "outputId": "8f1c6a28-b561-4106-d71e-fd7c83732dc8"
      },
      "outputs": [
        {
          "output_type": "stream",
          "name": "stdout",
          "text": [
            "Size of src batch: torch.Size([32, 19])\n",
            "Third src sentence in batch: tensor([ 6, 23,  6,  3,  2, 21,  9,  5,  6,  3,  2, 20, 13,  4,  9,  3,  2, 19,\n",
            "         8], device='cuda:0')\n",
            "Length of the third src sentence in batch: 19\n",
            "Converted back to string: two billion two hundred and twenty three million two hundred and seventy eight thousand three hundred and eighty five\n",
            "Size of tgt batch: torch.Size([32, 12])\n",
            "Third tgt sentence in batch: tensor([ 2,  7,  7,  7,  4,  7,  6, 11,  4, 11,  9,  3], device='cuda:0')\n",
            "Converted back to string: <bos> 2 2 2 3 2 7 8 3 8 5 <eos>\n"
          ]
        }
      ],
      "source": [
        "batch = next(iter(train_iter))\n",
        "src_ids = batch['src_ids']\n",
        "src_example = src_ids[2]\n",
        "print (f\"Size of src batch: {src_ids.size()}\")\n",
        "print (f\"Third src sentence in batch: {src_example}\")\n",
        "print (f\"Length of the third src sentence in batch: {len(src_example)}\")\n",
        "print (f\"Converted back to string: {hf_src_tokenizer.decode(src_example)}\")\n",
        "\n",
        "tgt_ids = batch['tgt_ids']\n",
        "tgt_example = tgt_ids[2]\n",
        "print (f\"Size of tgt batch: {tgt_ids.size()}\")\n",
        "print (f\"Third tgt sentence in batch: {tgt_example}\")\n",
        "print (f\"Converted back to string: {hf_tgt_tokenizer.decode(tgt_example)}\")"
      ]
    },
    {
      "cell_type": "markdown",
      "id": "5ac2618b",
      "metadata": {
        "id": "5ac2618b"
      },
      "source": [
        "# Neural Encoder-Decoder Models"
      ]
    },
    {
      "cell_type": "markdown",
      "id": "d0cb74b0",
      "metadata": {
        "id": "d0cb74b0"
      },
      "source": [
        "Sequence-to-sequence models are sometimes called neural encoder-decoder models, as they consist of an encoder, which maps a sequence of source tokens into some vector representations, and a decoder, which generates a sequence of output words from those encoded vectors.\n",
        "\n",
        "Formally, given a sequence of source tokens $\\vect{x} = x_1, \\ldots, x_S$, the goal is to map it to a sequence of target tokens $\\vect{y} = y_1, \\ldots, y_T$.\n",
        "\n",
        "In practice, we prepend a special beginning-of-sequence symbol $y_0$=`<bos>` to the target sequence. Further, in order to provide a way of knowing when to stop generating $\\vect{y}$, we append a special end-of-sequence symbol $y_{T+1}$=`<eos>` to the target sequence, such that when it is produced by the model, the generation process stops.\n",
        "\n",
        "The generation process is structured as a generative model:\n",
        "\n",
        "$$\n",
        "\\Pr(y_0, \\ldots, y_{T+1} \\mid x_1, \\ldots, x_S) = \\prod_{t=1}^{T+1} \\Pr(y_t \\mid y_{<t}, x_1, \\ldots, x_S),\n",
        "$$\n",
        "\n",
        "where $y_{<t}$ denotes the tokens before $y_t$ (that is, $y_0, \\ldots, y_{t-1}$).\n",
        "\n",
        "We use a recurrent neural network with parameters $\\theta$ to parameterize $\\Pr(y_t \\mid y_{<t}, x_1, \\ldots, x_S)$:\n",
        "\n",
        "$$\n",
        "\\Pr(y_t \\mid y_{<t}, x_1, \\ldots, x_S) \\approx {\\Pr}_\\theta(y_t \\mid y_{<t}, x_1, \\ldots, x_S),\n",
        "$$\n",
        "\n",
        "or equivalently,\n",
        "\n",
        "$$\n",
        "{\\Pr}_\\theta(y_1, \\ldots, y_T \\mid x_1, \\ldots, x_S) = \\prod_{t=1}^{T+1} {\\Pr}_\\theta(y_t \\mid y_{<t}, x_1, \\ldots, x_S)\n",
        "$$\n",
        "\n",
        "In neural encoder-decoder models, we first use an encoder to encode $\\vect{x}$ into some vectors (either of fixed length as we'll see in this lab, or of varying length as we'll see in the next lab). Based on the encoded vectors, we use a decoder to generate $\\vect{y}$:\n",
        "\n",
        "$$\n",
        "{\\Pr}_\\theta(y_t \\mid y_{<t}, x_1, \\ldots, x_S) = \\text{decode}(\\text{encode}(x_1, \\ldots, x_S), y_{<t})\n",
        "$$"
      ]
    },
    {
      "cell_type": "markdown",
      "id": "2e0fce1e",
      "metadata": {
        "id": "2e0fce1e"
      },
      "source": [
        "### RNN Encoder-Decoders"
      ]
    },
    {
      "cell_type": "markdown",
      "id": "003b8045",
      "metadata": {
        "deletable": false,
        "editable": false,
        "id": "003b8045"
      },
      "source": [
        "We can use any recurrent neural networks such as LSTMs as encoders and decoders. In this lab, we will use a bidirectional LSTM as the encoder, and a unidirectional LSTM as the decoder, as shown in the illustration below.\n",
        "\n",
        "<img src=\"https://github.com/nlp-course/data/raw/master/img/encoder_decoder.png\" alt=\"encoder-decoder illustration\" />\n",
        "\n",
        "In the above illustration, $S=4$, $T=3$, and there are two encoder/decoder layers. Since we are using a bidirectional encoder, for each layer there are two final states, one for the cell running from left to right (such as $h_{0,4}$), and the other for the cell running from right to left (such as $h_{0,4}'$). We concatenate these two states and use the result to initialize the corresponding layer of the decoder. (In the example, we concatenate $h_{0,4}$ and $h_{0,4}'$ to initialize layer 0, and we concatenate $h_{1,4}$ and $h_{1,4}'$ to initialize layer 1.) Therefore, to make the sizes match, we set the hidden state size of the encoder to be half of that of the decoder.\n",
        "\n",
        "Note that in PyTorch's LSTM implementation, the final hidden state is represented as a tuple `(h, c)` ([documentation here](https://pytorch.org/docs/stable/generated/torch.nn.LSTM.html)), so we want to apply the same operations to `c` to initialize the decoder.\n",
        "\n",
        "You'll implement `forward_encoder` and `forward_decoder` in the code below. The `forward_encoder` function will be reminiscent of a sequence model from labs 2-* and project segment 2. It operates on a batch of source examples and proceeds as follows:\n",
        "\n",
        "1. Map the input words to some word embeddings. You'll notice that the embedding size is an argument to the model.\n",
        "\n",
        "2. Optionally \"pack\" the sequences to save some computation using `torch.nn.utils.rnn.pack_padded_sequence`, imported above as `pack`.\n",
        "\n",
        "3. Run the encoder RNN (a bidirectional LSTM) over the batch, generating a batch of output states.\n",
        "\n",
        "4. Reshape the final state information (which will have `h` and `c` components each of half the size needed to initialize the decoder) so that it is appropriate to initialize the decoder with.\n",
        "\n",
        "The `forward_decoder` function takes the reshaped encoder final state information and the ground truth target sequences and returns logits (unnormalized log probs) for each target word. (These are ready to be converted to probability distributions via a softmax.)\n",
        "\n",
        "The steps in decoding are:\n",
        "\n",
        "1. Map the target words to word embeddings.\n",
        "\n",
        "2. Run the decoder RNN (a unidirectional LSTM) over the batch, initializing the hidden units from the encoder final states, generating a batch of output states.\n",
        "\n",
        "3. Map the RNN outputs to vectors of vocabulary size (so that they could be softmaxed into a distribution over the vocabulary).\n",
        "\n",
        "The components that you'll be plugging together to do all this are already established in the `__init__` method.\n",
        "\n",
        "> The major exception is the reshaping of the encoder output `h` and `c` to form the decoder input `h` and `c`. **This is the trickiest part.** As usual, your best strategy is to keep careful track of the shapes of each input and output of a layer or operation. We recommend that you try out just the reshaping code on small sample data to test it out before running any encodings or decodings.\n",
        "\n",
        "**Hint #1:** The total number of `for` loops in our solution code for the parts you are to write is...zero.\n",
        "\n",
        "**Hint #2:** According to the documentation of [torch.nn.LSTM](https://pytorch.org/docs/stable/generated/torch.nn.LSTM.html), its outputs are: `outputs, (h, c)`. `outputs` contains all the intermediate states, which you don't need in this lab. You will need `h` and `c`, both of them have the shape: `(num_layers * num_directions, batch_size, hidden_size)`.\n",
        "<!--\n",
        "BEGIN QUESTION\n",
        "name: encoder_decoder\n",
        "-->"
      ]
    },
    {
      "cell_type": "code",
      "execution_count": 17,
      "id": "abeb1a6e",
      "metadata": {
        "id": "abeb1a6e"
      },
      "outputs": [],
      "source": [
        "# TODO - finish implementing the `forward_encoder` and `forward_decoder` methods\n",
        "class EncoderDecoder(nn.Module):\n",
        "    def __init__(self, hf_src_tokenizer, hf_tgt_tokenizer, embedding_size=64, hidden_size=64, layers=3):\n",
        "        \"\"\"\n",
        "        Initializer. Creates network modules and loss function.\n",
        "        Arguments:\n",
        "            hf_src_tokenizer: hf src tokenizer\n",
        "            hf_tgt_tokenizer: hf tgt tokenizer\n",
        "            embedding_size: word embedding size\n",
        "            hidden_size: hidden layer size of both encoder and decoder\n",
        "            layers: number of layers of both encoder and decoder\n",
        "        \"\"\"\n",
        "        super(EncoderDecoder, self).__init__()\n",
        "        self.hf_src_tokenizer = hf_src_tokenizer\n",
        "        self.hf_tgt_tokenizer = hf_tgt_tokenizer\n",
        "\n",
        "        # Keep the vocabulary sizes available\n",
        "        self.V_src = len(self.hf_src_tokenizer)\n",
        "        self.V_tgt = len(self.hf_tgt_tokenizer)\n",
        "\n",
        "        # Get special word ids or tokens\n",
        "        self.padding_id_src = self.hf_src_tokenizer.pad_token_id\n",
        "        self.padding_id_tgt = self.hf_tgt_tokenizer.pad_token_id\n",
        "        self.bos_id = self.hf_tgt_tokenizer.bos_token_id\n",
        "        self.eos_id = self.hf_tgt_tokenizer.eos_token_id\n",
        "\n",
        "        # Keep hyper-parameters available\n",
        "        self.embedding_size = embedding_size\n",
        "        self.hidden_size = hidden_size\n",
        "        self.layers = layers\n",
        "\n",
        "        # Create essential modules\n",
        "        self.word_embeddings_src = nn.Embedding(self.V_src, embedding_size)\n",
        "        self.word_embeddings_tgt = nn.Embedding(self.V_tgt, embedding_size)\n",
        "\n",
        "        # RNN cells\n",
        "        self.encoder_rnn = nn.LSTM(\n",
        "            input_size=embedding_size,\n",
        "            hidden_size=hidden_size // 2,  # to match decoder hidden size\n",
        "            num_layers=layers,\n",
        "            batch_first=True,\n",
        "            bidirectional=True,  # bidirectional encoder\n",
        "        )\n",
        "        self.decoder_rnn = nn.LSTM(\n",
        "            input_size=embedding_size,\n",
        "            hidden_size=hidden_size,\n",
        "            num_layers=layers,\n",
        "            batch_first=True,\n",
        "            bidirectional=False,  # unidirectional decoder\n",
        "        )\n",
        "\n",
        "        # Final projection layer\n",
        "        self.hidden2output = nn.Linear(hidden_size, self.V_tgt)\n",
        "\n",
        "        # Create loss function\n",
        "        self.loss_function = nn.CrossEntropyLoss(\n",
        "            reduction=\"sum\", ignore_index=self.padding_id_tgt\n",
        "        )\n",
        "\n",
        "    def forward_encoder(self, src, src_lengths):\n",
        "        \"\"\"\n",
        "        Encodes source words `src`.\n",
        "        Arguments:\n",
        "            src: src batch of size (batch_size, max_src_len)\n",
        "            src_lengths: src lengths of size (batch_size)\n",
        "        Returns:\n",
        "            a tuple (h, c) where h/c is of size (layers, bsz, hidden_size)\n",
        "        \"\"\"\n",
        "        # TODO - implement this function\n",
        "        # Optional: use `pack` to deal with paddings (https://discuss.pytorch.org/t/simple-working-example-how-to-use-packing-for-variable-length-sequence-inputs-for-rnn/2120)\n",
        "        # note that the batch size is the first dimension, and the sequences are not sorted.\n",
        "        batch_size = src.shape[0]\n",
        "        x = self.word_embeddings_src(src)\n",
        "        x = pack(x, lengths=src_lengths.cpu(), batch_first=True,enforce_sorted=False)\n",
        "        _, (hn, cn) = self.encoder_rnn(x)\n",
        "        hn = hn.transpose(0,1).reshape(batch_size,self.layers,self.hidden_size).transpose(0,1).contiguous()\n",
        "        cn = cn.transpose(0,1).reshape(batch_size,self.layers,self.hidden_size).transpose(0,1).contiguous()\n",
        "        return (hn,cn)\n",
        "\n",
        "    def forward_decoder(self, encoder_final_state, tgt_in):\n",
        "        \"\"\"\n",
        "        Decodes based on encoder final state and ground truth target words.\n",
        "        Arguments:\n",
        "            encoder_final_state: a tuple (h, c) where h/c is of size (layers, bsz, hidden_size)\n",
        "            tgt_in: a tensor of size (bsz, tgt_len)\n",
        "        Returns:\n",
        "            Logits of size (bsz, tgt_len, V_tgt) (before the softmax operation)\n",
        "        \"\"\"\n",
        "        x = self.word_embeddings_tgt(tgt_in)\n",
        "        outputs, _ = self.decoder_rnn(x,encoder_final_state)\n",
        "        x = self.hidden2output(outputs)\n",
        "        return x\n",
        "\n",
        "    def forward(self, src, src_lengths, tgt_in):\n",
        "        \"\"\"\n",
        "        Performs forward computation, returns logits.\n",
        "        Arguments:\n",
        "            src: src batch of size (bsz, max_src_len)\n",
        "            src_lengths: src lengths of size (bsz)\n",
        "            tgt_in:  a tensor of size (bsz, tgt_len)\n",
        "        \"\"\"\n",
        "        # Forward encoder\n",
        "        encoder_final_state = self.forward_encoder(src, src_lengths)  # tuple (h, c)\n",
        "        # Forward decoder\n",
        "        logits = self.forward_decoder(encoder_final_state, tgt_in)  # bsz, tgt_len, V_tgt\n",
        "        return logits\n",
        "\n",
        "    def forward_decoder_incrementally(self, decoder_state, tgt_in_token):\n",
        "        \"\"\"\n",
        "        Forward the decoder at `decoder_state` for a single step with token `tgt_in_token`.\n",
        "        This function will only be used in the beam search section.\n",
        "        Arguments:\n",
        "            decoder_state: a tuple (h, c) where h/c is of size (layers, 1, hidden_size)\n",
        "            tgt_in_token: a tensor of size (1), a single token\n",
        "        Returns:\n",
        "            `logits`: Log probabilities for `tgt_in_token` of size (V_tgt)\n",
        "            `decoder_state`: updated decoder state, ready for next incremental update\n",
        "        \"\"\"\n",
        "        bsz = decoder_state[0].size(1)\n",
        "        assert bsz == 1, \"forward_decoder_incrementally only supports batch size 1!\"\n",
        "        # Compute word embeddings\n",
        "        tgt_embeddings = self.word_embeddings_tgt(\n",
        "            tgt_in_token.view(1, 1)\n",
        "        )  # bsz, tgt_len, hidden\n",
        "        # Forward decoder RNN and return all hidden states\n",
        "        decoder_outs, decoder_state = self.decoder_rnn(tgt_embeddings, decoder_state)\n",
        "        # Project to get logits\n",
        "        logits = self.hidden2output(decoder_outs)  # bsz, tgt_len, V_tgt\n",
        "        # Get log probabilities\n",
        "        logits = torch.log_softmax(logits, -1)\n",
        "        return logits.view(-1), decoder_state\n",
        "\n",
        "    def evaluate_ppl(self, iterator):\n",
        "        \"\"\"Returns the model's perplexity on a given dataset `iterator`.\"\"\"\n",
        "        # Switch to eval mode\n",
        "        self.eval()\n",
        "        total_loss = 0\n",
        "        total_words = 0\n",
        "        for batch in iterator:\n",
        "            # Input and target\n",
        "            src = batch['src_ids']              # bsz, max_src_len\n",
        "            src_lengths = batch['src_lengths']  # bsz\n",
        "            tgt_in = batch['tgt_ids'][:, :-1].contiguous() # Remove <eos> for decode input (y_0=<bos>, y_1, y_2)\n",
        "            tgt_out = batch['tgt_ids'][:, 1:].contiguous() # Remove <bos> as target        (y_1, y_2, y_3=<eos>)\n",
        "            # Forward to get logits\n",
        "            logits = self.forward(src, src_lengths, tgt_in) # bsz, tgt_len, V_tgt\n",
        "            # Compute cross entropy loss\n",
        "            loss = self.loss_function(logits.view(-1, self.V_tgt), tgt_out.view(-1))\n",
        "            total_loss += loss.item()\n",
        "            total_words += tgt_out.ne(self.padding_id_tgt).float().sum().item()\n",
        "        return math.exp(total_loss / total_words)\n",
        "\n",
        "    def train_all(self, train_iter, val_iter, epochs=10, learning_rate=0.001):\n",
        "        \"\"\"Train the model.\"\"\"\n",
        "        # Switch the module to training mode\n",
        "        self.train()\n",
        "        # Use Adam to optimize the parameters\n",
        "        optim = torch.optim.Adam(self.parameters(), lr=learning_rate)\n",
        "        best_validation_ppl = float(\"inf\")\n",
        "        best_model = None\n",
        "        # Run the optimization for multiple epochs\n",
        "        for epoch in range(epochs):\n",
        "            total_words = 0\n",
        "            total_loss = 0.0\n",
        "            for batch in tqdm(train_iter):\n",
        "                # Zero the parameter gradients\n",
        "                self.zero_grad()\n",
        "                # Input and target\n",
        "                tgt = batch['tgt_ids']              # bsz, max_tgt_len\n",
        "                src = batch['src_ids']              # bsz, max_src_len\n",
        "                src_lengths = batch['src_lengths']  # bsz\n",
        "                tgt_in = tgt[:, :-1] # Remove <eos> for decode input (y_0=<bos>, y_1, y_2)\n",
        "                tgt_out = tgt[:, 1:] # Remove <bos> as target        (y_1, y_2, y_3=<eos>)\n",
        "                batch_size = src.size(0)\n",
        "                # Run forward pass and compute loss along the way.\n",
        "                logits = self.forward(src, src_lengths, tgt_in) # bsz, tgt_len, V_tgt\n",
        "                loss = self.loss_function(logits.reshape(-1, self.V_tgt), tgt_out.reshape(-1))\n",
        "                # Training stats\n",
        "                num_tgt_words = tgt_out.ne(self.padding_id_tgt).float().sum().item()\n",
        "                total_words += num_tgt_words\n",
        "                total_loss += loss.item()\n",
        "                # Perform backpropagation\n",
        "                loss.div(batch_size).backward()\n",
        "                optim.step()\n",
        "\n",
        "            # Evaluate and track improvements on the validation dataset\n",
        "            validation_ppl = self.evaluate_ppl(val_iter)\n",
        "            self.train()\n",
        "            if validation_ppl < best_validation_ppl:\n",
        "                best_validation_ppl = validation_ppl\n",
        "                self.best_model = copy.deepcopy(self.state_dict())\n",
        "            epoch_loss = total_loss / total_words\n",
        "            print(f\"Epoch: {epoch} Training Perplexity: {math.exp(epoch_loss):.4f} \"\n",
        "                  f\"Validation Perplexity: {validation_ppl:.4f}\")"
      ]
    },
    {
      "cell_type": "code",
      "execution_count": 18,
      "id": "34556a5f",
      "metadata": {
        "colab": {
          "base_uri": "https://localhost:8080/"
        },
        "id": "34556a5f",
        "outputId": "d0d206a5-cad3-46e2-cc81-2786b9638e1a"
      },
      "outputs": [
        {
          "output_type": "stream",
          "name": "stderr",
          "text": [
            "100%|██████████| 2032/2032 [00:32<00:00, 63.39it/s]\n"
          ]
        },
        {
          "output_type": "stream",
          "name": "stdout",
          "text": [
            "Epoch: 0 Training Perplexity: 1.6990 Validation Perplexity: 1.0584\n"
          ]
        },
        {
          "output_type": "stream",
          "name": "stderr",
          "text": [
            "100%|██████████| 2032/2032 [00:30<00:00, 66.97it/s]\n"
          ]
        },
        {
          "output_type": "stream",
          "name": "stdout",
          "text": [
            "Epoch: 1 Training Perplexity: 1.0442 Validation Perplexity: 1.0300\n"
          ]
        },
        {
          "output_type": "execute_result",
          "data": {
            "text/plain": [
              "<All keys matched successfully>"
            ]
          },
          "metadata": {},
          "execution_count": 18
        }
      ],
      "source": [
        "EPOCHS = 2  # epochs, we highly recommend starting with a smaller number like 1\n",
        "LEARNING_RATE = 2e-3  # learning rate\n",
        "\n",
        "# Instantiate and train classifier\n",
        "model = EncoderDecoder(\n",
        "    hf_src_tokenizer,\n",
        "    hf_tgt_tokenizer,\n",
        "    embedding_size=64,\n",
        "    hidden_size=64,\n",
        "    layers=3,\n",
        ").to(device)\n",
        "\n",
        "model.train_all(train_iter, val_iter, epochs=EPOCHS, learning_rate=LEARNING_RATE)\n",
        "model.load_state_dict(model.best_model)"
      ]
    },
    {
      "cell_type": "markdown",
      "id": "e119d5f9",
      "metadata": {
        "id": "e119d5f9"
      },
      "source": [
        "Since the task we consider here is very simple, we should expect a perplexity very close to 1."
      ]
    },
    {
      "cell_type": "code",
      "execution_count": 19,
      "id": "69bde15f",
      "metadata": {
        "colab": {
          "base_uri": "https://localhost:8080/"
        },
        "id": "69bde15f",
        "outputId": "a9428114-2fde-409b-f09e-fd71c1810f66"
      },
      "outputs": [
        {
          "output_type": "stream",
          "name": "stdout",
          "text": [
            "Test perplexity: 1.024\n"
          ]
        }
      ],
      "source": [
        "# Evaluate model performance\n",
        "print (f'Test perplexity: {model.evaluate_ppl(test_iter):.3f}')"
      ]
    },
    {
      "cell_type": "code",
      "execution_count": 20,
      "id": "8b78ec39",
      "metadata": {
        "deletable": false,
        "editable": false,
        "colab": {
          "base_uri": "https://localhost:8080/",
          "height": 46
        },
        "id": "8b78ec39",
        "outputId": "f5a1a169-5fbb-489b-c730-78bdf69af8bd"
      },
      "outputs": [
        {
          "output_type": "execute_result",
          "data": {
            "text/plain": [
              "\n",
              "    All tests passed!\n",
              "    "
            ],
            "text/html": [
              "\n",
              "    \n",
              "    \n",
              "        <p>All tests passed!</p>\n",
              "    \n",
              "    "
            ]
          },
          "metadata": {},
          "execution_count": 20
        }
      ],
      "source": [
        "grader.check(\"encoder_decoder_ppl\")"
      ]
    },
    {
      "cell_type": "markdown",
      "id": "85138f2c",
      "metadata": {
        "deletable": false,
        "editable": false,
        "id": "85138f2c"
      },
      "source": [
        "<!-- BEGIN QUESTION -->\n",
        "\n",
        "#  Decoding\n",
        "\n",
        "\n",
        "Now that we have a well-trained model, we need to consider how to use it to do the actual conversion. At decoding time, given a source sequence $x_1, \\ldots, x_S$, we want to find the target sequence $y_1^*, \\ldots, y_T^*, y_{T+1}^*$ (recall that $y _{T+1} = \\langle\\text{eos}\\rangle$) such that the conditional likelihood is maximized:\n",
        "\n",
        "\\begin{align*}\n",
        "y_1^*, \\ldots, y_T^*, y_{T+1}^* &= \\argmax{y_1, \\ldots, y_T, y_{T+1}} {\\Pr}_\\theta(y_1, \\ldots, y_T \\mid x_1, \\ldots, x_S)\\\\\n",
        "&= \\argmax{y_1, \\ldots, y_T, y_{T+1}} \\prod_{t=1}^{T+1} {\\Pr}_\\theta(y_t \\mid y_{<t}, x_1, \\ldots, x_S)\\\\\n",
        "\\end{align*}\n",
        "\n",
        "In previous labs and project segments, we used _greedy decoding_, i.e., taking $\\hat{y}_1= \\argmax{y_1} {\\Pr}_\\theta(y_1 \\mid y_{0}, x_1, \\ldots, x_S)$, $\\hat{y}_2= \\argmax{y_2} {\\Pr}_\\theta(y_2 \\mid y_{0}, \\hat{y}_1, x_1, \\ldots, x_S)$, ..., $\\hat{y}_{T+1}= \\argmax{y_{T+1}} {\\Pr}_\\theta(y_{T+1} \\mid y_{0}, \\hat{y}_1, \\ldots, \\hat{y}_{T}, x_1, \\ldots, x_S)$, until $\\hat{y}_{T+1}=\\langle\\text{eos}\\rangle$.\n",
        "\n",
        "**Question:**  Does greedy decoding guarantee finding the optimal sequence (the sequence with the highest conditional likelihood)? Why or why not?\n",
        "\n",
        "<!--\n",
        "BEGIN QUESTION\n",
        "name: open_response_decoding\n",
        "manual: true\n",
        "-->"
      ]
    },
    {
      "cell_type": "markdown",
      "id": "57642336",
      "metadata": {
        "id": "57642336"
      },
      "source": [
        "Greedy decoding does not guarantee finding the optimal sequence, since it is possible that a choise in some prediction at time step was the highest probability for this step, but at further steps if we consider this whole **path**, we can get lower probability at the far steps, so the overall path probability will be lower than other path that starts at other y with lower probability than the max. Thus it can be mislead to take just the argmax of the current step."
      ]
    },
    {
      "cell_type": "markdown",
      "id": "640977c7",
      "metadata": {
        "deletable": false,
        "editable": false,
        "id": "640977c7"
      },
      "source": [
        "<!-- END QUESTION -->\n",
        "\n",
        "<!-- BEGIN QUESTION -->\n",
        "\n",
        "## Beam search decoding\n",
        "\n",
        "Beam search decoding is the most commonly used decoding method in sequence-to-sequence approaches. Like greedy decoding, it uses a left-to-right search process. But instead of only keeping the single argmax at each position, beam search maintains the $K$ best partial hypotheses $H_t = \\{(y_1^{(k)}, \\ldots, y_t^{(k)}): k\\in\\{1, \\ldots, K\\}\\}$ at every step $t$. To proceed to $t+1$, we compute the scores of sequences  $y_1^{(k)}, \\ldots, y_t^{(k)}, y_{t+1}$ for every possible extension $y_{t+1}\\in \\mathcal{V}$ and every possible prefix $(y_1^{(k)}, \\ldots, y_t^{(k)}) \\in H_t$, where $\\mathcal{V}$ is the vocabulary. Among these $K\\times |\\mathcal{V}|$ sequences, we only keep the top $K$ sequences with the best partial scores, and that becomes $H_{t+1} = \\{(y_1^{(k)}, \\ldots, y_{t+1}^{(k)}): k\\in\\{1, \\ldots, K\\}\\}$. To start at $t=1$, $H_1 = \\{(y): y \\in \\text{K-argmax}_{y_1\\in\\mathcal{V}} \\log P(y_1|y_0=bos) \\}$. Here $K$ is called the beam size.\n",
        "\n",
        "To summarize,\n",
        "\n",
        "\\begin{align*}\n",
        "H_1 &= \\{(y): y \\in \\operatorname*{K-argmax}_{y_1\\in\\mathcal{V}} \\log P(y_1|y_0=bos) \\}\\\\\n",
        "H_{t+1} &= \\operatorname*{K-argmax}\\limits_{\\{(y_1, y_2, \\ldots, y_{t+1})\\in \\mathcal{V}^{t+1}: (y_1, \\ldots, y_t) \\in H_t \\}} \\log P(y_1, \\ldots, y_{t+1} | x)\n",
        "\\end{align*}\n",
        "\n",
        "until we reach a pre-specified maximum search length, and we collect the completed hypotheses along the way. (By completed we mean ending with `<eos>`.) The finished hypothesis with the best score will then be returned.\n",
        "\n",
        "**Question:** Is beam search better than greedy search when $K=1$? Is it better when $K>1$? Why? How big a $K$ value do we need to get a guarantee that we can find the globally best sequence (assuming a maximum sequence length $T$ and vocabulary size $|\\mathcal{V}|$).\n",
        "\n",
        "<!--\n",
        "BEGIN QUESTION\n",
        "name: open_response_beam_search_greedy\n",
        "manual: true\n",
        "-->"
      ]
    },
    {
      "cell_type": "markdown",
      "id": "e8638025",
      "metadata": {
        "id": "e8638025"
      },
      "source": [
        "When $K=1$, then it is the case where we looking each time step at the single max probability token, such that it is just like to take the argmax each time, so it is the same like argmax decoding.\n",
        "$$$$\n",
        "We assume that in general the beam search with $K>1$ outperforms the argmax decoding, but it dont guaranteed: $$$$\n",
        "Each time we hold the best $K>1$ paths so far (with refer to probabilities), so we look at a path at whole and taking into account each time step the best $K$ path we know to this far, so with take into consideration more paths, the probability to take the global average seem to be more probable than the argmax sampling. But, it is possible that beam search method will omit important paths at the middle of the algorithm, because it doesnt look at all possible paths. Therefore theoretically, it is possible that the argmax sample will get eventually higher probability than the one chosen by the beam search, just because at some point, the argmax path was omitted from the $K$ paths set, and at last steps it get again higher probabilities than the ones at the beam set.\n",
        "\n",
        "$$$$\n",
        "The only thing that will assure us to get the global best sequence via beam search is if we take into consideration all possible paths (because of the aforementioned fact - that even worse paths can eventually be good with higher probabilities).\n",
        "So we need to consider at each time step $t$ the previous paths with all the $|\\mathcal{V}|$ optional branches to each path. So for all $t$ we multiply the number of beam paths by factor of $|\\mathcal{V}|$. Hence eventually we deduce that we need $K=|\\mathcal{V}|\\cdot T$ to get the global optimum."
      ]
    },
    {
      "cell_type": "markdown",
      "id": "95c1b35d",
      "metadata": {
        "id": "95c1b35d"
      },
      "source": [
        "<!-- END QUESTION -->\n",
        "\n",
        "\n",
        "\n",
        "Under the probabilistic formulation of sequence-to-sequence models, the partial scores are decomposable over time steps: $\\log {\\Pr}_\\theta(y_1, \\ldots, y_T \\mid x) = \\sum_{t=1}^T \\log {\\Pr}_\\theta(y_t \\mid y_{<t}, x)$. Therefore, we can save computation in the above process by maintaining the partial sums $\\sum_{t'=1}^t \\log {\\Pr}_\\theta(y_{t'}^{(k)} \\mid y_{<t'}^{(k)}, x)$, such that we only need to compute $\\log {\\Pr}_\\theta(y_{t+1} \\mid y_{<t+1}^{(k)})$ when we want to go from $t$ to $t+1$.\n",
        "\n",
        "Here is pseudo-code for the beam search algorithm to decode a single example `x` of maximum length `max_T` using a beam size of `K`.\n",
        "\n",
        "```\n",
        " 1.  def beam_search(x, K, max_T):\n",
        " 2.      finished = []        # for storing completed hypotheses\n",
        "         # Initialize the beam\n",
        " 3.      beams = [Beam(hyp=(bos), score=0)] # initial hypothesis: bos, initial score: 0\n",
        "\n",
        " 4.      for t in [1..max_T]  # main body of search over time steps           \n",
        " 5.          hypotheses = []\n",
        "\n",
        "             # Expand each beam by all possible tokens y_{t+1}\n",
        " 6.          for beam in beams:\n",
        " 7.              y_{1:t}, score = beam.hyp, beam.score\n",
        " 8.              for y_{t+1} in V:\n",
        " 9.                  y_{1:t+1} = y_{1:t} + [y_{t+1}]\n",
        " 10.                 new_score = score + log P(y_{t+1} | y_{1:t}, x)\n",
        " 11.                 hypotheses.append(Beam(hyp=y_{1:t+1}, score=new_score))\n",
        "\n",
        "             # Find K best next beams\n",
        " 12.         beams = sorted(hypotheses, key=lambda beam: -beam.score)[:K]\n",
        "\n",
        "             # Set aside finished beams (those that end in <eos>)\n",
        " 13.         for beam in beams:\n",
        " 14.             y_{t+1} = beam.hyp[-1]\n",
        " 15.             if y_{t+1} == eos:\n",
        " 16.                 finished.append(beam)\n",
        " 17.                 beams.remove(beam)\n",
        "\n",
        "             # Break the loop if everything is finished\n",
        " 18.         if len(beams) == 0:\n",
        " 19.             break              \n",
        " 20.     return sorted(finished, key=lambda beam: -beam.score)[0] # return the best finished hypothesis\n",
        "```\n"
      ]
    },
    {
      "cell_type": "markdown",
      "id": "7603cb01",
      "metadata": {
        "deletable": false,
        "editable": false,
        "id": "7603cb01"
      },
      "source": [
        "Implement function `beam_search` in the below code. Note that there are some differences from the pseudo-code: first, we maintained a `decoder_state` in addition to $y_{1:t}$ and score such that we can compute $P(y_{t+1} \\mid y_{<t+1},x)$ efficiently; second, instead of creating a list of actual hypotheses as in lines 8-11, we use tensors to get pointers to the beam id and $y_{t+1}$ that are among the best K next beams.\n",
        "\n",
        "<!--\n",
        "BEGIN QUESTION\n",
        "name: beam_search\n",
        "-->"
      ]
    },
    {
      "cell_type": "code",
      "execution_count": 21,
      "id": "ce5d7aeb",
      "metadata": {
        "id": "ce5d7aeb"
      },
      "outputs": [],
      "source": [
        "from torch.types import Device\n",
        "MAX_T = 15     # max target length\n",
        "\n",
        "class Beam():\n",
        "  \"\"\"Helper class for storing a hypothesis, its score and its decoder hidden state.\"\"\"\n",
        "  def __init__(self, decoder_state, tokens, score):\n",
        "    self.decoder_state = decoder_state\n",
        "    self.tokens = tokens\n",
        "    self.score = score\n",
        "\n",
        "class BeamSearcher():\n",
        "  \"\"\"Main class for beam search.\"\"\"\n",
        "  def __init__(self, model):\n",
        "    self.model = model\n",
        "    self.bos_id = model.bos_id\n",
        "    self.eos_id = model.eos_id\n",
        "    self.V = model.V_tgt\n",
        "\n",
        "\n",
        "  def beam_search(self, src, src_lengths, K, max_T=MAX_T):\n",
        "    \"\"\"Performs beam search decoding.\n",
        "\n",
        "    Arguments:\n",
        "        src: src batch of size (1, max_src_len)\n",
        "        src_lengths: src lengths of size (1)\n",
        "        K: beam size\n",
        "        max_T: max possible target length considered\n",
        "    Returns:\n",
        "        a list of token ids\n",
        "    \"\"\"\n",
        "    finished = []\n",
        "    # Initialize the beam\n",
        "    self.model.eval()\n",
        "    #TODO - fill in encoder_final_state and init_beam below\n",
        "    encoder_final_state = self.model.forward_encoder(src, src_lengths)\n",
        "    init_beam = Beam(decoder_state=encoder_final_state, tokens=[torch.tensor(self.bos_id).to(device)], score=0)\n",
        "    beams = [init_beam]\n",
        "\n",
        "    for t in range(max_T): # main body of search over time steps\n",
        "\n",
        "        # Expand each beam by all possible tokens y_{t+1}\n",
        "        all_total_scores = []\n",
        "        for beam in beams:\n",
        "            y_1_to_t, score, decoder_state = beam.tokens, beam.score, beam.decoder_state\n",
        "            y_t = y_1_to_t[-1]\n",
        "            #TODO - finish the code below\n",
        "            # Hint: you might want to use `model.forward_decoder_incrementally`\n",
        "\n",
        "            logits, decoder_state = self.model.forward_decoder_incrementally(decoder_state, y_t)\n",
        "\n",
        "            total_scores = score + logits\n",
        "            all_total_scores.append(total_scores)\n",
        "            beam.decoder_state = decoder_state # update decoder state in the beam\n",
        "        all_total_scores = torch.stack(all_total_scores) # (K, V) when t>0, (1, V) when t=0\n",
        "\n",
        "        # Find K best next beams\n",
        "        # The below code has the same functionality as line 6-12, but is more efficient\n",
        "        all_scores_flattened = all_total_scores.view(-1) # K*V when t>0, 1*V when t=0\n",
        "        topk_scores, topk_ids = all_scores_flattened.topk(K, 0)\n",
        "        beam_ids = topk_ids.div(self.V, rounding_mode='floor')\n",
        "        next_tokens = topk_ids - beam_ids * self.V\n",
        "        new_beams = []\n",
        "        for k in range(K):\n",
        "            beam_id = beam_ids[k]       # which beam it comes from\n",
        "            y_t_plus_1 = next_tokens[k] # which y_{t+1}\n",
        "            score = topk_scores[k]\n",
        "            beam = beams[beam_id]\n",
        "            decoder_state = beam.decoder_state\n",
        "            y_1_to_t = beam.tokens\n",
        "            #TODO\n",
        "            new_beam = Beam(decoder_state, y_1_to_t+[y_t_plus_1], score)\n",
        "            new_beams.append(new_beam)\n",
        "        beams = new_beams\n",
        "\n",
        "        # Set aside completed beams\n",
        "        # TODO - move completed beams to `finished` (and remove them from `beams`)\n",
        "\n",
        "        for beam in beams:\n",
        "            y_t_plus_1 = beam.tokens[-1]\n",
        "            if y_t_plus_1 == self.eos_id:\n",
        "                finished.append(beam)\n",
        "                beams.remove(beam)\n",
        "\n",
        "        # Break the loop if everything is completed\n",
        "        if len(beams) == 0:\n",
        "            break\n",
        "\n",
        "    # Return the best hypothesis\n",
        "    if len(finished) > 0:\n",
        "        finished = sorted(finished, key=lambda beam: -beam.score)\n",
        "        return [token.item() for token in finished[0].tokens]\n",
        "    else: # when nothing is finished, return an unfinished hypothesis\n",
        "        return [token.item() for token in beams[0].tokens]"
      ]
    },
    {
      "cell_type": "code",
      "execution_count": 22,
      "id": "240814d3",
      "metadata": {
        "deletable": false,
        "editable": false,
        "colab": {
          "base_uri": "https://localhost:8080/",
          "height": 46
        },
        "id": "240814d3",
        "outputId": "6e70ecf9-81e0-4ee4-aee0-d4003aaf08b6"
      },
      "outputs": [
        {
          "output_type": "execute_result",
          "data": {
            "text/plain": [
              "\n",
              "    All tests passed!\n",
              "    "
            ],
            "text/html": [
              "\n",
              "    \n",
              "    \n",
              "        <p>All tests passed!</p>\n",
              "    \n",
              "    "
            ]
          },
          "metadata": {},
          "execution_count": 22
        }
      ],
      "source": [
        "grader.check(\"beam_search\")"
      ]
    },
    {
      "cell_type": "markdown",
      "id": "6b2bf4e0",
      "metadata": {
        "id": "6b2bf4e0"
      },
      "source": [
        "Now we can use beam search decoding to predict the outputs for the test set inputs using the trained model."
      ]
    },
    {
      "cell_type": "code",
      "execution_count": 23,
      "id": "b221d614",
      "metadata": {
        "colab": {
          "base_uri": "https://localhost:8080/"
        },
        "id": "b221d614",
        "outputId": "58ec7e52-f4a5-4a66-9598-372af7f8ea78"
      },
      "outputs": [
        {
          "output_type": "stream",
          "name": "stdout",
          "text": [
            "Source:       1. sixteen thousand eight hundred and thirty two\n",
            "Prediction:   1 6 8 3 2\n",
            "Ground truth: 1 6 8 3 2\n",
            "\n",
            "Source:       2. sixty seven million six hundred and eighty five thousand two hundred and thirty\n",
            "Prediction:   6 7 6 8 5 2 3 0\n",
            "Ground truth: 6 7 6 8 5 2 3 0\n",
            "\n",
            "Source:       3. six thousand two hundred and twelve\n",
            "Prediction:   6 2 1 2\n",
            "Ground truth: 6 2 1 2\n",
            "\n",
            "Source:       4. seven hundred and ninety eight million three hundred and thirty one thousand eight hundred and eighteen\n",
            "Prediction:   7 9 8 3 3 1 8 1 8\n",
            "Ground truth: 7 9 8 3 3 1 8 1 8\n",
            "\n",
            "Source:       5. eighty eight million four hundred and thirteen thousand nine hundred and eighteen\n",
            "Prediction:   8 8 4 1 3 9 1 8\n",
            "Ground truth: 8 8 4 1 3 9 1 8\n",
            "\n",
            "Source:       6. three hundred and seventy four thousand two hundred and seventy\n",
            "Prediction:   3 7 4 2 7 0\n",
            "Ground truth: 3 7 4 2 7 0\n",
            "\n",
            "Source:       7. ninety eight million three hundred and seventy thousand five hundred and forty five\n",
            "Prediction:   9 8 3 7 0 5 4 5\n",
            "Ground truth: 9 8 3 7 0 5 4 5\n",
            "\n",
            "Source:       8. ninety seven thousand seven hundred and sixty two\n",
            "Prediction:   9 7 7 6 2\n",
            "Ground truth: 9 7 7 6 2\n",
            "\n",
            "Source:       9. four hundred and ten thousand two hundred and three\n",
            "Prediction:   4 1 0 2 0 3\n",
            "Ground truth: 4 1 0 2 0 3\n",
            "\n",
            "Source:       10. five hundred and ninety eight thousand three hundred and ninety seven\n",
            "Prediction:   5 9 8 3 9 7\n",
            "Ground truth: 5 9 8 3 9 7\n",
            "\n",
            "Accuracy: 0.95\n"
          ]
        }
      ],
      "source": [
        "DEBUG_FIRST = 10  # set to 0 to disable printing predictions\n",
        "K = 5             # beam size 5\n",
        "\n",
        "correct = 0\n",
        "total = 0\n",
        "\n",
        "# create beam searcher\n",
        "beam_searcher = BeamSearcher(model)\n",
        "\n",
        "for index, batch in enumerate(test_iter, start=1):\n",
        "  # Input and output\n",
        "  src = batch['src_ids']\n",
        "  src_lengths = batch['src_lengths']\n",
        "  # Predict\n",
        "  prediction = beam_searcher.beam_search(src, src_lengths, K)\n",
        "  # Convert to string\n",
        "  prediction = hf_tgt_tokenizer.decode(prediction, skip_special_tokens=True)\n",
        "  ground_truth = hf_tgt_tokenizer.decode(batch['tgt_ids'][0], skip_special_tokens=True)\n",
        "  # Print out the first few examples\n",
        "  if DEBUG_FIRST >= index :\n",
        "    src = hf_src_tokenizer.decode(src[0], skip_special_tokens=True)\n",
        "    print (f'Source:       {index}. {src}\\n'\n",
        "           f'Prediction:   {prediction}\\n'\n",
        "           f'Ground truth: {ground_truth}\\n')\n",
        "  if ground_truth == prediction:\n",
        "    correct += 1\n",
        "  total += 1\n",
        "\n",
        "print (f'Accuracy: {correct/total:.2f}')"
      ]
    },
    {
      "cell_type": "markdown",
      "id": "293f8141",
      "metadata": {
        "id": "293f8141"
      },
      "source": [
        "You might have noticed that using a larger $K$ might lead to very similar performance as using $K=1$ (greedy decoding). This is largely due to the fact that there are no dependencies among target tokens in our dataset (e.g., knowing that $y_1$ is 1 does not affect our prediction on $y_2$ conditioned on the source). In real world applications, people usually find using a fixed value of $K>1$ (such as $K=5$) performs better than greedy decoding."
      ]
    },
    {
      "cell_type": "markdown",
      "id": "f55044a8",
      "metadata": {
        "deletable": false,
        "editable": false,
        "id": "f55044a8"
      },
      "source": [
        "<!-- BEGIN QUESTION -->\n",
        "\n",
        "**Question:** Can we use beam search decoding to decode an HMM? For state space $Q$, sequence length $T$, what is the complexity of beam search with beam size $K$? What is the complexity of Viterbi decoding? What are their pros and cons?\n",
        "\n",
        "<!--\n",
        "BEGIN QUESTION\n",
        "name: open_response_decoding_hmm\n",
        "manual: true\n",
        "-->"
      ]
    },
    {
      "cell_type": "markdown",
      "id": "cc0de70e",
      "metadata": {
        "id": "cc0de70e"
      },
      "source": [
        "We can use beam search decoding to decode an HMM by saving at each time step $t$ the highest $K$ paths revealed so far. Thus, we will have to update the recursive formula to calculate each state $q\\in Q$ transitioned from ${q\\in H_t}$ where $|H_t|=K$ best paths found until step $t$ (instead of calculating through all $q\\in Q$).\n",
        "\n",
        "The complexity for this approach is:\n",
        "\n",
        "For each time step $t$, we calculate $K \\cdot |Q|$ probabilities and taking the maximum $K$ among them (including the emmisions of course).\n",
        "\n",
        "So in total time complexity of $O(K\\cdot |Q|\\cdot T)$ and the space complexity for the ptr + table is $O(K\\cdot T)$.\n",
        "\n",
        "While the Viterby complexities are $O(|Q|^2\\cdot T)$ and $O(|Q|\\cdot T)$ respectively.\n",
        "\n",
        "We assume that the pros are the cons in this case:\n",
        "\n",
        "1. With high state space $Q$ the complexity of regular Viterbi is getting high (e.g. when there are many p.o.s in language), thus choosing lower $K$ reduces the time/space complexities.\n",
        "2. limit the number of paths to be $K$ consequently limits the possibility to get optimal path with the highest probability, thus we can get worse paths then the Viterby algorithm.\n"
      ]
    },
    {
      "cell_type": "markdown",
      "id": "bf9c0d1b",
      "metadata": {
        "deletable": false,
        "editable": false,
        "id": "bf9c0d1b"
      },
      "source": [
        "<!-- END QUESTION -->\n",
        "\n",
        "<!-- BEGIN QUESTION -->\n",
        "\n",
        "# Lab debrief\n",
        "\n",
        "**Question:** We're interested in any thoughts your group has about this lab so that we can improve this lab for later years, and to inform later labs for this year. Please list any issues that arose or comments you have to improve the lab. Useful things to comment on might include the following:\n",
        "\n",
        "* Was the lab too long or too short?\n",
        "* Were the readings appropriate for the lab?\n",
        "* Was it clear (at least after you completed the lab) what the points of the exercises were?\n",
        "* Are there additions or changes you think would make the lab better?\n",
        "\n",
        "but you should comment on whatever aspects you found especially positive or negative.\n",
        "\n",
        "<!--\n",
        "BEGIN QUESTION\n",
        "name: open_response_debrief\n",
        "manual: true\n",
        "-->"
      ]
    },
    {
      "cell_type": "markdown",
      "id": "9defa93a",
      "metadata": {
        "id": "9defa93a"
      },
      "source": [
        "_Type your answer here, replacing this text._"
      ]
    },
    {
      "cell_type": "markdown",
      "id": "5fb96e0c",
      "metadata": {
        "id": "5fb96e0c"
      },
      "source": [
        "<!-- END QUESTION -->\n",
        "\n",
        "\n",
        "\n",
        "# End of Lab 4-4"
      ]
    },
    {
      "cell_type": "markdown",
      "id": "a475d427",
      "metadata": {
        "deletable": false,
        "editable": false,
        "id": "a475d427"
      },
      "source": [
        "---\n",
        "\n",
        "To double-check your work, the cell below will rerun all of the autograder tests."
      ]
    },
    {
      "cell_type": "code",
      "execution_count": 24,
      "id": "ef9fb86e",
      "metadata": {
        "deletable": false,
        "editable": false,
        "colab": {
          "base_uri": "https://localhost:8080/",
          "height": 116
        },
        "id": "ef9fb86e",
        "outputId": "8393bf10-6222-4f09-92d3-5266d7ff480e"
      },
      "outputs": [
        {
          "output_type": "execute_result",
          "data": {
            "text/plain": [
              "beam_search:\n",
              "\n",
              "    All tests passed!\n",
              "    \n",
              "\n",
              "encoder_decoder_ppl:\n",
              "\n",
              "    All tests passed!\n",
              "    \n"
            ],
            "text/html": [
              "<p><strong>beam_search:</strong></p>\n",
              "\n",
              "    \n",
              "    \n",
              "        <p>All tests passed!</p>\n",
              "    \n",
              "    \n",
              "\n",
              "<p><strong>encoder_decoder_ppl:</strong></p>\n",
              "\n",
              "    \n",
              "    \n",
              "        <p>All tests passed!</p>\n",
              "    \n",
              "    \n",
              "\n"
            ]
          },
          "metadata": {},
          "execution_count": 24
        }
      ],
      "source": [
        "grader.check_all()"
      ]
    }
  ],
  "metadata": {
    "accelerator": "GPU",
    "colab": {
      "provenance": [],
      "machine_shape": "hm",
      "gpuType": "T4"
    },
    "kernelspec": {
      "display_name": "Python 3",
      "name": "python3"
    },
    "language_info": {
      "codemirror_mode": {
        "name": "ipython",
        "version": 3
      },
      "file_extension": ".py",
      "mimetype": "text/x-python",
      "name": "python",
      "nbconvert_exporter": "python",
      "pygments_lexer": "ipython3",
      "version": "3.8.3"
    },
    "title": "CS236299 Lab 4-4: Sequence-to-sequence models",
    "vscode": {
      "interpreter": {
        "hash": "4fba83c08fc02185bb2310bd24d0cd81fb04529c933f82aa81c61aab9d5528dc"
      }
    },
    "widgets": {
      "application/vnd.jupyter.widget-state+json": {
        "454726668aed4dec99442ec62ffd2cd6": {
          "model_module": "@jupyter-widgets/controls",
          "model_name": "HBoxModel",
          "model_module_version": "1.5.0",
          "state": {
            "_dom_classes": [],
            "_model_module": "@jupyter-widgets/controls",
            "_model_module_version": "1.5.0",
            "_model_name": "HBoxModel",
            "_view_count": null,
            "_view_module": "@jupyter-widgets/controls",
            "_view_module_version": "1.5.0",
            "_view_name": "HBoxView",
            "box_style": "",
            "children": [
              "IPY_MODEL_7996953f8e6d427fb9de11fd68fcc341",
              "IPY_MODEL_d39800d6b07b4db3a9af79435b3be5d1",
              "IPY_MODEL_84618ae6087a44a8a0ee0b5954e7305a"
            ],
            "layout": "IPY_MODEL_9bf8cb1a99184f2e9336b05320d339e7"
          }
        },
        "7996953f8e6d427fb9de11fd68fcc341": {
          "model_module": "@jupyter-widgets/controls",
          "model_name": "HTMLModel",
          "model_module_version": "1.5.0",
          "state": {
            "_dom_classes": [],
            "_model_module": "@jupyter-widgets/controls",
            "_model_module_version": "1.5.0",
            "_model_name": "HTMLModel",
            "_view_count": null,
            "_view_module": "@jupyter-widgets/controls",
            "_view_module_version": "1.5.0",
            "_view_name": "HTMLView",
            "description": "",
            "description_tooltip": null,
            "layout": "IPY_MODEL_514a2812a8e7437da8c7dc56a3839e4b",
            "placeholder": "​",
            "style": "IPY_MODEL_90ef8dff79aa4c44822935fc9c70d281",
            "value": "Downloading data files: 100%"
          }
        },
        "d39800d6b07b4db3a9af79435b3be5d1": {
          "model_module": "@jupyter-widgets/controls",
          "model_name": "FloatProgressModel",
          "model_module_version": "1.5.0",
          "state": {
            "_dom_classes": [],
            "_model_module": "@jupyter-widgets/controls",
            "_model_module_version": "1.5.0",
            "_model_name": "FloatProgressModel",
            "_view_count": null,
            "_view_module": "@jupyter-widgets/controls",
            "_view_module_version": "1.5.0",
            "_view_name": "ProgressView",
            "bar_style": "success",
            "description": "",
            "description_tooltip": null,
            "layout": "IPY_MODEL_874d2ae36b7b48c784650152ef16de07",
            "max": 3,
            "min": 0,
            "orientation": "horizontal",
            "style": "IPY_MODEL_4d383c057e094e75ba345ba476e34123",
            "value": 3
          }
        },
        "84618ae6087a44a8a0ee0b5954e7305a": {
          "model_module": "@jupyter-widgets/controls",
          "model_name": "HTMLModel",
          "model_module_version": "1.5.0",
          "state": {
            "_dom_classes": [],
            "_model_module": "@jupyter-widgets/controls",
            "_model_module_version": "1.5.0",
            "_model_name": "HTMLModel",
            "_view_count": null,
            "_view_module": "@jupyter-widgets/controls",
            "_view_module_version": "1.5.0",
            "_view_name": "HTMLView",
            "description": "",
            "description_tooltip": null,
            "layout": "IPY_MODEL_79c685d0258c44c885b020fa0b997884",
            "placeholder": "​",
            "style": "IPY_MODEL_f25f18692a384c04bc437dd3e08e6a32",
            "value": " 3/3 [00:00&lt;00:00, 173.85it/s]"
          }
        },
        "9bf8cb1a99184f2e9336b05320d339e7": {
          "model_module": "@jupyter-widgets/base",
          "model_name": "LayoutModel",
          "model_module_version": "1.2.0",
          "state": {
            "_model_module": "@jupyter-widgets/base",
            "_model_module_version": "1.2.0",
            "_model_name": "LayoutModel",
            "_view_count": null,
            "_view_module": "@jupyter-widgets/base",
            "_view_module_version": "1.2.0",
            "_view_name": "LayoutView",
            "align_content": null,
            "align_items": null,
            "align_self": null,
            "border": null,
            "bottom": null,
            "display": null,
            "flex": null,
            "flex_flow": null,
            "grid_area": null,
            "grid_auto_columns": null,
            "grid_auto_flow": null,
            "grid_auto_rows": null,
            "grid_column": null,
            "grid_gap": null,
            "grid_row": null,
            "grid_template_areas": null,
            "grid_template_columns": null,
            "grid_template_rows": null,
            "height": null,
            "justify_content": null,
            "justify_items": null,
            "left": null,
            "margin": null,
            "max_height": null,
            "max_width": null,
            "min_height": null,
            "min_width": null,
            "object_fit": null,
            "object_position": null,
            "order": null,
            "overflow": null,
            "overflow_x": null,
            "overflow_y": null,
            "padding": null,
            "right": null,
            "top": null,
            "visibility": null,
            "width": null
          }
        },
        "514a2812a8e7437da8c7dc56a3839e4b": {
          "model_module": "@jupyter-widgets/base",
          "model_name": "LayoutModel",
          "model_module_version": "1.2.0",
          "state": {
            "_model_module": "@jupyter-widgets/base",
            "_model_module_version": "1.2.0",
            "_model_name": "LayoutModel",
            "_view_count": null,
            "_view_module": "@jupyter-widgets/base",
            "_view_module_version": "1.2.0",
            "_view_name": "LayoutView",
            "align_content": null,
            "align_items": null,
            "align_self": null,
            "border": null,
            "bottom": null,
            "display": null,
            "flex": null,
            "flex_flow": null,
            "grid_area": null,
            "grid_auto_columns": null,
            "grid_auto_flow": null,
            "grid_auto_rows": null,
            "grid_column": null,
            "grid_gap": null,
            "grid_row": null,
            "grid_template_areas": null,
            "grid_template_columns": null,
            "grid_template_rows": null,
            "height": null,
            "justify_content": null,
            "justify_items": null,
            "left": null,
            "margin": null,
            "max_height": null,
            "max_width": null,
            "min_height": null,
            "min_width": null,
            "object_fit": null,
            "object_position": null,
            "order": null,
            "overflow": null,
            "overflow_x": null,
            "overflow_y": null,
            "padding": null,
            "right": null,
            "top": null,
            "visibility": null,
            "width": null
          }
        },
        "90ef8dff79aa4c44822935fc9c70d281": {
          "model_module": "@jupyter-widgets/controls",
          "model_name": "DescriptionStyleModel",
          "model_module_version": "1.5.0",
          "state": {
            "_model_module": "@jupyter-widgets/controls",
            "_model_module_version": "1.5.0",
            "_model_name": "DescriptionStyleModel",
            "_view_count": null,
            "_view_module": "@jupyter-widgets/base",
            "_view_module_version": "1.2.0",
            "_view_name": "StyleView",
            "description_width": ""
          }
        },
        "874d2ae36b7b48c784650152ef16de07": {
          "model_module": "@jupyter-widgets/base",
          "model_name": "LayoutModel",
          "model_module_version": "1.2.0",
          "state": {
            "_model_module": "@jupyter-widgets/base",
            "_model_module_version": "1.2.0",
            "_model_name": "LayoutModel",
            "_view_count": null,
            "_view_module": "@jupyter-widgets/base",
            "_view_module_version": "1.2.0",
            "_view_name": "LayoutView",
            "align_content": null,
            "align_items": null,
            "align_self": null,
            "border": null,
            "bottom": null,
            "display": null,
            "flex": null,
            "flex_flow": null,
            "grid_area": null,
            "grid_auto_columns": null,
            "grid_auto_flow": null,
            "grid_auto_rows": null,
            "grid_column": null,
            "grid_gap": null,
            "grid_row": null,
            "grid_template_areas": null,
            "grid_template_columns": null,
            "grid_template_rows": null,
            "height": null,
            "justify_content": null,
            "justify_items": null,
            "left": null,
            "margin": null,
            "max_height": null,
            "max_width": null,
            "min_height": null,
            "min_width": null,
            "object_fit": null,
            "object_position": null,
            "order": null,
            "overflow": null,
            "overflow_x": null,
            "overflow_y": null,
            "padding": null,
            "right": null,
            "top": null,
            "visibility": null,
            "width": null
          }
        },
        "4d383c057e094e75ba345ba476e34123": {
          "model_module": "@jupyter-widgets/controls",
          "model_name": "ProgressStyleModel",
          "model_module_version": "1.5.0",
          "state": {
            "_model_module": "@jupyter-widgets/controls",
            "_model_module_version": "1.5.0",
            "_model_name": "ProgressStyleModel",
            "_view_count": null,
            "_view_module": "@jupyter-widgets/base",
            "_view_module_version": "1.2.0",
            "_view_name": "StyleView",
            "bar_color": null,
            "description_width": ""
          }
        },
        "79c685d0258c44c885b020fa0b997884": {
          "model_module": "@jupyter-widgets/base",
          "model_name": "LayoutModel",
          "model_module_version": "1.2.0",
          "state": {
            "_model_module": "@jupyter-widgets/base",
            "_model_module_version": "1.2.0",
            "_model_name": "LayoutModel",
            "_view_count": null,
            "_view_module": "@jupyter-widgets/base",
            "_view_module_version": "1.2.0",
            "_view_name": "LayoutView",
            "align_content": null,
            "align_items": null,
            "align_self": null,
            "border": null,
            "bottom": null,
            "display": null,
            "flex": null,
            "flex_flow": null,
            "grid_area": null,
            "grid_auto_columns": null,
            "grid_auto_flow": null,
            "grid_auto_rows": null,
            "grid_column": null,
            "grid_gap": null,
            "grid_row": null,
            "grid_template_areas": null,
            "grid_template_columns": null,
            "grid_template_rows": null,
            "height": null,
            "justify_content": null,
            "justify_items": null,
            "left": null,
            "margin": null,
            "max_height": null,
            "max_width": null,
            "min_height": null,
            "min_width": null,
            "object_fit": null,
            "object_position": null,
            "order": null,
            "overflow": null,
            "overflow_x": null,
            "overflow_y": null,
            "padding": null,
            "right": null,
            "top": null,
            "visibility": null,
            "width": null
          }
        },
        "f25f18692a384c04bc437dd3e08e6a32": {
          "model_module": "@jupyter-widgets/controls",
          "model_name": "DescriptionStyleModel",
          "model_module_version": "1.5.0",
          "state": {
            "_model_module": "@jupyter-widgets/controls",
            "_model_module_version": "1.5.0",
            "_model_name": "DescriptionStyleModel",
            "_view_count": null,
            "_view_module": "@jupyter-widgets/base",
            "_view_module_version": "1.2.0",
            "_view_name": "StyleView",
            "description_width": ""
          }
        },
        "fc01b75f30924d768260cd4b773ea426": {
          "model_module": "@jupyter-widgets/controls",
          "model_name": "HBoxModel",
          "model_module_version": "1.5.0",
          "state": {
            "_dom_classes": [],
            "_model_module": "@jupyter-widgets/controls",
            "_model_module_version": "1.5.0",
            "_model_name": "HBoxModel",
            "_view_count": null,
            "_view_module": "@jupyter-widgets/controls",
            "_view_module_version": "1.5.0",
            "_view_name": "HBoxView",
            "box_style": "",
            "children": [
              "IPY_MODEL_910c7d5a9fe844c798a9f2de45fa32ce",
              "IPY_MODEL_b918719238794ceb9baecdc943fc5fff",
              "IPY_MODEL_f1bf475725e84961a5f970381f586455"
            ],
            "layout": "IPY_MODEL_b073bb69336c4d43b26cb6d2bd8c04a6"
          }
        },
        "910c7d5a9fe844c798a9f2de45fa32ce": {
          "model_module": "@jupyter-widgets/controls",
          "model_name": "HTMLModel",
          "model_module_version": "1.5.0",
          "state": {
            "_dom_classes": [],
            "_model_module": "@jupyter-widgets/controls",
            "_model_module_version": "1.5.0",
            "_model_name": "HTMLModel",
            "_view_count": null,
            "_view_module": "@jupyter-widgets/controls",
            "_view_module_version": "1.5.0",
            "_view_name": "HTMLView",
            "description": "",
            "description_tooltip": null,
            "layout": "IPY_MODEL_56bbafea299f454599fef7b9929c6e33",
            "placeholder": "​",
            "style": "IPY_MODEL_a102146476c34ba9b09db251f2e54eca",
            "value": "Extracting data files: 100%"
          }
        },
        "b918719238794ceb9baecdc943fc5fff": {
          "model_module": "@jupyter-widgets/controls",
          "model_name": "FloatProgressModel",
          "model_module_version": "1.5.0",
          "state": {
            "_dom_classes": [],
            "_model_module": "@jupyter-widgets/controls",
            "_model_module_version": "1.5.0",
            "_model_name": "FloatProgressModel",
            "_view_count": null,
            "_view_module": "@jupyter-widgets/controls",
            "_view_module_version": "1.5.0",
            "_view_name": "ProgressView",
            "bar_style": "success",
            "description": "",
            "description_tooltip": null,
            "layout": "IPY_MODEL_87ed2b0791f44cc5aa07751acaf1dda2",
            "max": 3,
            "min": 0,
            "orientation": "horizontal",
            "style": "IPY_MODEL_a71c4c0bbc1541e4ad3836160702e2fe",
            "value": 3
          }
        },
        "f1bf475725e84961a5f970381f586455": {
          "model_module": "@jupyter-widgets/controls",
          "model_name": "HTMLModel",
          "model_module_version": "1.5.0",
          "state": {
            "_dom_classes": [],
            "_model_module": "@jupyter-widgets/controls",
            "_model_module_version": "1.5.0",
            "_model_name": "HTMLModel",
            "_view_count": null,
            "_view_module": "@jupyter-widgets/controls",
            "_view_module_version": "1.5.0",
            "_view_name": "HTMLView",
            "description": "",
            "description_tooltip": null,
            "layout": "IPY_MODEL_fcc2806039e74d6fa7f33775014de76b",
            "placeholder": "​",
            "style": "IPY_MODEL_29023f5ac0b140518c3e7359c62f3985",
            "value": " 3/3 [00:00&lt;00:00, 158.69it/s]"
          }
        },
        "b073bb69336c4d43b26cb6d2bd8c04a6": {
          "model_module": "@jupyter-widgets/base",
          "model_name": "LayoutModel",
          "model_module_version": "1.2.0",
          "state": {
            "_model_module": "@jupyter-widgets/base",
            "_model_module_version": "1.2.0",
            "_model_name": "LayoutModel",
            "_view_count": null,
            "_view_module": "@jupyter-widgets/base",
            "_view_module_version": "1.2.0",
            "_view_name": "LayoutView",
            "align_content": null,
            "align_items": null,
            "align_self": null,
            "border": null,
            "bottom": null,
            "display": null,
            "flex": null,
            "flex_flow": null,
            "grid_area": null,
            "grid_auto_columns": null,
            "grid_auto_flow": null,
            "grid_auto_rows": null,
            "grid_column": null,
            "grid_gap": null,
            "grid_row": null,
            "grid_template_areas": null,
            "grid_template_columns": null,
            "grid_template_rows": null,
            "height": null,
            "justify_content": null,
            "justify_items": null,
            "left": null,
            "margin": null,
            "max_height": null,
            "max_width": null,
            "min_height": null,
            "min_width": null,
            "object_fit": null,
            "object_position": null,
            "order": null,
            "overflow": null,
            "overflow_x": null,
            "overflow_y": null,
            "padding": null,
            "right": null,
            "top": null,
            "visibility": null,
            "width": null
          }
        },
        "56bbafea299f454599fef7b9929c6e33": {
          "model_module": "@jupyter-widgets/base",
          "model_name": "LayoutModel",
          "model_module_version": "1.2.0",
          "state": {
            "_model_module": "@jupyter-widgets/base",
            "_model_module_version": "1.2.0",
            "_model_name": "LayoutModel",
            "_view_count": null,
            "_view_module": "@jupyter-widgets/base",
            "_view_module_version": "1.2.0",
            "_view_name": "LayoutView",
            "align_content": null,
            "align_items": null,
            "align_self": null,
            "border": null,
            "bottom": null,
            "display": null,
            "flex": null,
            "flex_flow": null,
            "grid_area": null,
            "grid_auto_columns": null,
            "grid_auto_flow": null,
            "grid_auto_rows": null,
            "grid_column": null,
            "grid_gap": null,
            "grid_row": null,
            "grid_template_areas": null,
            "grid_template_columns": null,
            "grid_template_rows": null,
            "height": null,
            "justify_content": null,
            "justify_items": null,
            "left": null,
            "margin": null,
            "max_height": null,
            "max_width": null,
            "min_height": null,
            "min_width": null,
            "object_fit": null,
            "object_position": null,
            "order": null,
            "overflow": null,
            "overflow_x": null,
            "overflow_y": null,
            "padding": null,
            "right": null,
            "top": null,
            "visibility": null,
            "width": null
          }
        },
        "a102146476c34ba9b09db251f2e54eca": {
          "model_module": "@jupyter-widgets/controls",
          "model_name": "DescriptionStyleModel",
          "model_module_version": "1.5.0",
          "state": {
            "_model_module": "@jupyter-widgets/controls",
            "_model_module_version": "1.5.0",
            "_model_name": "DescriptionStyleModel",
            "_view_count": null,
            "_view_module": "@jupyter-widgets/base",
            "_view_module_version": "1.2.0",
            "_view_name": "StyleView",
            "description_width": ""
          }
        },
        "87ed2b0791f44cc5aa07751acaf1dda2": {
          "model_module": "@jupyter-widgets/base",
          "model_name": "LayoutModel",
          "model_module_version": "1.2.0",
          "state": {
            "_model_module": "@jupyter-widgets/base",
            "_model_module_version": "1.2.0",
            "_model_name": "LayoutModel",
            "_view_count": null,
            "_view_module": "@jupyter-widgets/base",
            "_view_module_version": "1.2.0",
            "_view_name": "LayoutView",
            "align_content": null,
            "align_items": null,
            "align_self": null,
            "border": null,
            "bottom": null,
            "display": null,
            "flex": null,
            "flex_flow": null,
            "grid_area": null,
            "grid_auto_columns": null,
            "grid_auto_flow": null,
            "grid_auto_rows": null,
            "grid_column": null,
            "grid_gap": null,
            "grid_row": null,
            "grid_template_areas": null,
            "grid_template_columns": null,
            "grid_template_rows": null,
            "height": null,
            "justify_content": null,
            "justify_items": null,
            "left": null,
            "margin": null,
            "max_height": null,
            "max_width": null,
            "min_height": null,
            "min_width": null,
            "object_fit": null,
            "object_position": null,
            "order": null,
            "overflow": null,
            "overflow_x": null,
            "overflow_y": null,
            "padding": null,
            "right": null,
            "top": null,
            "visibility": null,
            "width": null
          }
        },
        "a71c4c0bbc1541e4ad3836160702e2fe": {
          "model_module": "@jupyter-widgets/controls",
          "model_name": "ProgressStyleModel",
          "model_module_version": "1.5.0",
          "state": {
            "_model_module": "@jupyter-widgets/controls",
            "_model_module_version": "1.5.0",
            "_model_name": "ProgressStyleModel",
            "_view_count": null,
            "_view_module": "@jupyter-widgets/base",
            "_view_module_version": "1.2.0",
            "_view_name": "StyleView",
            "bar_color": null,
            "description_width": ""
          }
        },
        "fcc2806039e74d6fa7f33775014de76b": {
          "model_module": "@jupyter-widgets/base",
          "model_name": "LayoutModel",
          "model_module_version": "1.2.0",
          "state": {
            "_model_module": "@jupyter-widgets/base",
            "_model_module_version": "1.2.0",
            "_model_name": "LayoutModel",
            "_view_count": null,
            "_view_module": "@jupyter-widgets/base",
            "_view_module_version": "1.2.0",
            "_view_name": "LayoutView",
            "align_content": null,
            "align_items": null,
            "align_self": null,
            "border": null,
            "bottom": null,
            "display": null,
            "flex": null,
            "flex_flow": null,
            "grid_area": null,
            "grid_auto_columns": null,
            "grid_auto_flow": null,
            "grid_auto_rows": null,
            "grid_column": null,
            "grid_gap": null,
            "grid_row": null,
            "grid_template_areas": null,
            "grid_template_columns": null,
            "grid_template_rows": null,
            "height": null,
            "justify_content": null,
            "justify_items": null,
            "left": null,
            "margin": null,
            "max_height": null,
            "max_width": null,
            "min_height": null,
            "min_width": null,
            "object_fit": null,
            "object_position": null,
            "order": null,
            "overflow": null,
            "overflow_x": null,
            "overflow_y": null,
            "padding": null,
            "right": null,
            "top": null,
            "visibility": null,
            "width": null
          }
        },
        "29023f5ac0b140518c3e7359c62f3985": {
          "model_module": "@jupyter-widgets/controls",
          "model_name": "DescriptionStyleModel",
          "model_module_version": "1.5.0",
          "state": {
            "_model_module": "@jupyter-widgets/controls",
            "_model_module_version": "1.5.0",
            "_model_name": "DescriptionStyleModel",
            "_view_count": null,
            "_view_module": "@jupyter-widgets/base",
            "_view_module_version": "1.2.0",
            "_view_name": "StyleView",
            "description_width": ""
          }
        },
        "864f97df078a4da683b8eefb987bfda5": {
          "model_module": "@jupyter-widgets/controls",
          "model_name": "HBoxModel",
          "model_module_version": "1.5.0",
          "state": {
            "_dom_classes": [],
            "_model_module": "@jupyter-widgets/controls",
            "_model_module_version": "1.5.0",
            "_model_name": "HBoxModel",
            "_view_count": null,
            "_view_module": "@jupyter-widgets/controls",
            "_view_module_version": "1.5.0",
            "_view_name": "HBoxView",
            "box_style": "",
            "children": [
              "IPY_MODEL_e15d859bca0246849f157f4080be9ab3",
              "IPY_MODEL_cd443a17889f4d6dacf5e72033760745",
              "IPY_MODEL_8123cbc42aeb43cd85417324a446ae9a"
            ],
            "layout": "IPY_MODEL_d43e9ce21b484a5a884fbf8168714bf8"
          }
        },
        "e15d859bca0246849f157f4080be9ab3": {
          "model_module": "@jupyter-widgets/controls",
          "model_name": "HTMLModel",
          "model_module_version": "1.5.0",
          "state": {
            "_dom_classes": [],
            "_model_module": "@jupyter-widgets/controls",
            "_model_module_version": "1.5.0",
            "_model_name": "HTMLModel",
            "_view_count": null,
            "_view_module": "@jupyter-widgets/controls",
            "_view_module_version": "1.5.0",
            "_view_name": "HTMLView",
            "description": "",
            "description_tooltip": null,
            "layout": "IPY_MODEL_78a49443dca645799268192672a737c7",
            "placeholder": "​",
            "style": "IPY_MODEL_45d8eb2c31fc4557848f788e00b1a451",
            "value": "Generating train split: "
          }
        },
        "cd443a17889f4d6dacf5e72033760745": {
          "model_module": "@jupyter-widgets/controls",
          "model_name": "FloatProgressModel",
          "model_module_version": "1.5.0",
          "state": {
            "_dom_classes": [],
            "_model_module": "@jupyter-widgets/controls",
            "_model_module_version": "1.5.0",
            "_model_name": "FloatProgressModel",
            "_view_count": null,
            "_view_module": "@jupyter-widgets/controls",
            "_view_module_version": "1.5.0",
            "_view_name": "ProgressView",
            "bar_style": "info",
            "description": "",
            "description_tooltip": null,
            "layout": "IPY_MODEL_311bbac5b8554250b4384b0f5f865084",
            "max": 1,
            "min": 0,
            "orientation": "horizontal",
            "style": "IPY_MODEL_3d2f9459acda4280a173249d38a3da2d",
            "value": 1
          }
        },
        "8123cbc42aeb43cd85417324a446ae9a": {
          "model_module": "@jupyter-widgets/controls",
          "model_name": "HTMLModel",
          "model_module_version": "1.5.0",
          "state": {
            "_dom_classes": [],
            "_model_module": "@jupyter-widgets/controls",
            "_model_module_version": "1.5.0",
            "_model_name": "HTMLModel",
            "_view_count": null,
            "_view_module": "@jupyter-widgets/controls",
            "_view_module_version": "1.5.0",
            "_view_name": "HTMLView",
            "description": "",
            "description_tooltip": null,
            "layout": "IPY_MODEL_24c16053e7204ab0ab542d2591ada355",
            "placeholder": "​",
            "style": "IPY_MODEL_0eacb7de90b447e68636d19f9d4af89a",
            "value": " 40000/0 [00:00&lt;00:00, 304013.28 examples/s]"
          }
        },
        "d43e9ce21b484a5a884fbf8168714bf8": {
          "model_module": "@jupyter-widgets/base",
          "model_name": "LayoutModel",
          "model_module_version": "1.2.0",
          "state": {
            "_model_module": "@jupyter-widgets/base",
            "_model_module_version": "1.2.0",
            "_model_name": "LayoutModel",
            "_view_count": null,
            "_view_module": "@jupyter-widgets/base",
            "_view_module_version": "1.2.0",
            "_view_name": "LayoutView",
            "align_content": null,
            "align_items": null,
            "align_self": null,
            "border": null,
            "bottom": null,
            "display": null,
            "flex": null,
            "flex_flow": null,
            "grid_area": null,
            "grid_auto_columns": null,
            "grid_auto_flow": null,
            "grid_auto_rows": null,
            "grid_column": null,
            "grid_gap": null,
            "grid_row": null,
            "grid_template_areas": null,
            "grid_template_columns": null,
            "grid_template_rows": null,
            "height": null,
            "justify_content": null,
            "justify_items": null,
            "left": null,
            "margin": null,
            "max_height": null,
            "max_width": null,
            "min_height": null,
            "min_width": null,
            "object_fit": null,
            "object_position": null,
            "order": null,
            "overflow": null,
            "overflow_x": null,
            "overflow_y": null,
            "padding": null,
            "right": null,
            "top": null,
            "visibility": "hidden",
            "width": null
          }
        },
        "78a49443dca645799268192672a737c7": {
          "model_module": "@jupyter-widgets/base",
          "model_name": "LayoutModel",
          "model_module_version": "1.2.0",
          "state": {
            "_model_module": "@jupyter-widgets/base",
            "_model_module_version": "1.2.0",
            "_model_name": "LayoutModel",
            "_view_count": null,
            "_view_module": "@jupyter-widgets/base",
            "_view_module_version": "1.2.0",
            "_view_name": "LayoutView",
            "align_content": null,
            "align_items": null,
            "align_self": null,
            "border": null,
            "bottom": null,
            "display": null,
            "flex": null,
            "flex_flow": null,
            "grid_area": null,
            "grid_auto_columns": null,
            "grid_auto_flow": null,
            "grid_auto_rows": null,
            "grid_column": null,
            "grid_gap": null,
            "grid_row": null,
            "grid_template_areas": null,
            "grid_template_columns": null,
            "grid_template_rows": null,
            "height": null,
            "justify_content": null,
            "justify_items": null,
            "left": null,
            "margin": null,
            "max_height": null,
            "max_width": null,
            "min_height": null,
            "min_width": null,
            "object_fit": null,
            "object_position": null,
            "order": null,
            "overflow": null,
            "overflow_x": null,
            "overflow_y": null,
            "padding": null,
            "right": null,
            "top": null,
            "visibility": null,
            "width": null
          }
        },
        "45d8eb2c31fc4557848f788e00b1a451": {
          "model_module": "@jupyter-widgets/controls",
          "model_name": "DescriptionStyleModel",
          "model_module_version": "1.5.0",
          "state": {
            "_model_module": "@jupyter-widgets/controls",
            "_model_module_version": "1.5.0",
            "_model_name": "DescriptionStyleModel",
            "_view_count": null,
            "_view_module": "@jupyter-widgets/base",
            "_view_module_version": "1.2.0",
            "_view_name": "StyleView",
            "description_width": ""
          }
        },
        "311bbac5b8554250b4384b0f5f865084": {
          "model_module": "@jupyter-widgets/base",
          "model_name": "LayoutModel",
          "model_module_version": "1.2.0",
          "state": {
            "_model_module": "@jupyter-widgets/base",
            "_model_module_version": "1.2.0",
            "_model_name": "LayoutModel",
            "_view_count": null,
            "_view_module": "@jupyter-widgets/base",
            "_view_module_version": "1.2.0",
            "_view_name": "LayoutView",
            "align_content": null,
            "align_items": null,
            "align_self": null,
            "border": null,
            "bottom": null,
            "display": null,
            "flex": null,
            "flex_flow": null,
            "grid_area": null,
            "grid_auto_columns": null,
            "grid_auto_flow": null,
            "grid_auto_rows": null,
            "grid_column": null,
            "grid_gap": null,
            "grid_row": null,
            "grid_template_areas": null,
            "grid_template_columns": null,
            "grid_template_rows": null,
            "height": null,
            "justify_content": null,
            "justify_items": null,
            "left": null,
            "margin": null,
            "max_height": null,
            "max_width": null,
            "min_height": null,
            "min_width": null,
            "object_fit": null,
            "object_position": null,
            "order": null,
            "overflow": null,
            "overflow_x": null,
            "overflow_y": null,
            "padding": null,
            "right": null,
            "top": null,
            "visibility": null,
            "width": "20px"
          }
        },
        "3d2f9459acda4280a173249d38a3da2d": {
          "model_module": "@jupyter-widgets/controls",
          "model_name": "ProgressStyleModel",
          "model_module_version": "1.5.0",
          "state": {
            "_model_module": "@jupyter-widgets/controls",
            "_model_module_version": "1.5.0",
            "_model_name": "ProgressStyleModel",
            "_view_count": null,
            "_view_module": "@jupyter-widgets/base",
            "_view_module_version": "1.2.0",
            "_view_name": "StyleView",
            "bar_color": null,
            "description_width": ""
          }
        },
        "24c16053e7204ab0ab542d2591ada355": {
          "model_module": "@jupyter-widgets/base",
          "model_name": "LayoutModel",
          "model_module_version": "1.2.0",
          "state": {
            "_model_module": "@jupyter-widgets/base",
            "_model_module_version": "1.2.0",
            "_model_name": "LayoutModel",
            "_view_count": null,
            "_view_module": "@jupyter-widgets/base",
            "_view_module_version": "1.2.0",
            "_view_name": "LayoutView",
            "align_content": null,
            "align_items": null,
            "align_self": null,
            "border": null,
            "bottom": null,
            "display": null,
            "flex": null,
            "flex_flow": null,
            "grid_area": null,
            "grid_auto_columns": null,
            "grid_auto_flow": null,
            "grid_auto_rows": null,
            "grid_column": null,
            "grid_gap": null,
            "grid_row": null,
            "grid_template_areas": null,
            "grid_template_columns": null,
            "grid_template_rows": null,
            "height": null,
            "justify_content": null,
            "justify_items": null,
            "left": null,
            "margin": null,
            "max_height": null,
            "max_width": null,
            "min_height": null,
            "min_width": null,
            "object_fit": null,
            "object_position": null,
            "order": null,
            "overflow": null,
            "overflow_x": null,
            "overflow_y": null,
            "padding": null,
            "right": null,
            "top": null,
            "visibility": null,
            "width": null
          }
        },
        "0eacb7de90b447e68636d19f9d4af89a": {
          "model_module": "@jupyter-widgets/controls",
          "model_name": "DescriptionStyleModel",
          "model_module_version": "1.5.0",
          "state": {
            "_model_module": "@jupyter-widgets/controls",
            "_model_module_version": "1.5.0",
            "_model_name": "DescriptionStyleModel",
            "_view_count": null,
            "_view_module": "@jupyter-widgets/base",
            "_view_module_version": "1.2.0",
            "_view_name": "StyleView",
            "description_width": ""
          }
        },
        "4d584cdf89eb46bf9e293d20c0f4393e": {
          "model_module": "@jupyter-widgets/controls",
          "model_name": "HBoxModel",
          "model_module_version": "1.5.0",
          "state": {
            "_dom_classes": [],
            "_model_module": "@jupyter-widgets/controls",
            "_model_module_version": "1.5.0",
            "_model_name": "HBoxModel",
            "_view_count": null,
            "_view_module": "@jupyter-widgets/controls",
            "_view_module_version": "1.5.0",
            "_view_name": "HBoxView",
            "box_style": "",
            "children": [
              "IPY_MODEL_c8d1f0f8e6004e20a4d679d325e4c55c",
              "IPY_MODEL_d31006e1cc104ab4870fd954e0ea6c2d",
              "IPY_MODEL_5f54c117506b4e1f882bf7bc1040a51d"
            ],
            "layout": "IPY_MODEL_d95d6a32534441dfb12efa0d35dfe1ac"
          }
        },
        "c8d1f0f8e6004e20a4d679d325e4c55c": {
          "model_module": "@jupyter-widgets/controls",
          "model_name": "HTMLModel",
          "model_module_version": "1.5.0",
          "state": {
            "_dom_classes": [],
            "_model_module": "@jupyter-widgets/controls",
            "_model_module_version": "1.5.0",
            "_model_name": "HTMLModel",
            "_view_count": null,
            "_view_module": "@jupyter-widgets/controls",
            "_view_module_version": "1.5.0",
            "_view_name": "HTMLView",
            "description": "",
            "description_tooltip": null,
            "layout": "IPY_MODEL_960a1536d6314d7f963bfe85517aff61",
            "placeholder": "​",
            "style": "IPY_MODEL_5100ba4830b5494197e7541ecc550bf4",
            "value": "Generating val split: "
          }
        },
        "d31006e1cc104ab4870fd954e0ea6c2d": {
          "model_module": "@jupyter-widgets/controls",
          "model_name": "FloatProgressModel",
          "model_module_version": "1.5.0",
          "state": {
            "_dom_classes": [],
            "_model_module": "@jupyter-widgets/controls",
            "_model_module_version": "1.5.0",
            "_model_name": "FloatProgressModel",
            "_view_count": null,
            "_view_module": "@jupyter-widgets/controls",
            "_view_module_version": "1.5.0",
            "_view_name": "ProgressView",
            "bar_style": "info",
            "description": "",
            "description_tooltip": null,
            "layout": "IPY_MODEL_0e2fce5a063f473795fcfeaf2bf7986b",
            "max": 1,
            "min": 0,
            "orientation": "horizontal",
            "style": "IPY_MODEL_d460158da1024f349dbc794852f1121e",
            "value": 1
          }
        },
        "5f54c117506b4e1f882bf7bc1040a51d": {
          "model_module": "@jupyter-widgets/controls",
          "model_name": "HTMLModel",
          "model_module_version": "1.5.0",
          "state": {
            "_dom_classes": [],
            "_model_module": "@jupyter-widgets/controls",
            "_model_module_version": "1.5.0",
            "_model_name": "HTMLModel",
            "_view_count": null,
            "_view_module": "@jupyter-widgets/controls",
            "_view_module_version": "1.5.0",
            "_view_name": "HTMLView",
            "description": "",
            "description_tooltip": null,
            "layout": "IPY_MODEL_e6ad119eb4104cffacccc26d395997df",
            "placeholder": "​",
            "style": "IPY_MODEL_4d5978b281df48309356091d5d9f81f6",
            "value": " 0/0 [00:00&lt;?, ? examples/s]"
          }
        },
        "d95d6a32534441dfb12efa0d35dfe1ac": {
          "model_module": "@jupyter-widgets/base",
          "model_name": "LayoutModel",
          "model_module_version": "1.2.0",
          "state": {
            "_model_module": "@jupyter-widgets/base",
            "_model_module_version": "1.2.0",
            "_model_name": "LayoutModel",
            "_view_count": null,
            "_view_module": "@jupyter-widgets/base",
            "_view_module_version": "1.2.0",
            "_view_name": "LayoutView",
            "align_content": null,
            "align_items": null,
            "align_self": null,
            "border": null,
            "bottom": null,
            "display": null,
            "flex": null,
            "flex_flow": null,
            "grid_area": null,
            "grid_auto_columns": null,
            "grid_auto_flow": null,
            "grid_auto_rows": null,
            "grid_column": null,
            "grid_gap": null,
            "grid_row": null,
            "grid_template_areas": null,
            "grid_template_columns": null,
            "grid_template_rows": null,
            "height": null,
            "justify_content": null,
            "justify_items": null,
            "left": null,
            "margin": null,
            "max_height": null,
            "max_width": null,
            "min_height": null,
            "min_width": null,
            "object_fit": null,
            "object_position": null,
            "order": null,
            "overflow": null,
            "overflow_x": null,
            "overflow_y": null,
            "padding": null,
            "right": null,
            "top": null,
            "visibility": "hidden",
            "width": null
          }
        },
        "960a1536d6314d7f963bfe85517aff61": {
          "model_module": "@jupyter-widgets/base",
          "model_name": "LayoutModel",
          "model_module_version": "1.2.0",
          "state": {
            "_model_module": "@jupyter-widgets/base",
            "_model_module_version": "1.2.0",
            "_model_name": "LayoutModel",
            "_view_count": null,
            "_view_module": "@jupyter-widgets/base",
            "_view_module_version": "1.2.0",
            "_view_name": "LayoutView",
            "align_content": null,
            "align_items": null,
            "align_self": null,
            "border": null,
            "bottom": null,
            "display": null,
            "flex": null,
            "flex_flow": null,
            "grid_area": null,
            "grid_auto_columns": null,
            "grid_auto_flow": null,
            "grid_auto_rows": null,
            "grid_column": null,
            "grid_gap": null,
            "grid_row": null,
            "grid_template_areas": null,
            "grid_template_columns": null,
            "grid_template_rows": null,
            "height": null,
            "justify_content": null,
            "justify_items": null,
            "left": null,
            "margin": null,
            "max_height": null,
            "max_width": null,
            "min_height": null,
            "min_width": null,
            "object_fit": null,
            "object_position": null,
            "order": null,
            "overflow": null,
            "overflow_x": null,
            "overflow_y": null,
            "padding": null,
            "right": null,
            "top": null,
            "visibility": null,
            "width": null
          }
        },
        "5100ba4830b5494197e7541ecc550bf4": {
          "model_module": "@jupyter-widgets/controls",
          "model_name": "DescriptionStyleModel",
          "model_module_version": "1.5.0",
          "state": {
            "_model_module": "@jupyter-widgets/controls",
            "_model_module_version": "1.5.0",
            "_model_name": "DescriptionStyleModel",
            "_view_count": null,
            "_view_module": "@jupyter-widgets/base",
            "_view_module_version": "1.2.0",
            "_view_name": "StyleView",
            "description_width": ""
          }
        },
        "0e2fce5a063f473795fcfeaf2bf7986b": {
          "model_module": "@jupyter-widgets/base",
          "model_name": "LayoutModel",
          "model_module_version": "1.2.0",
          "state": {
            "_model_module": "@jupyter-widgets/base",
            "_model_module_version": "1.2.0",
            "_model_name": "LayoutModel",
            "_view_count": null,
            "_view_module": "@jupyter-widgets/base",
            "_view_module_version": "1.2.0",
            "_view_name": "LayoutView",
            "align_content": null,
            "align_items": null,
            "align_self": null,
            "border": null,
            "bottom": null,
            "display": null,
            "flex": null,
            "flex_flow": null,
            "grid_area": null,
            "grid_auto_columns": null,
            "grid_auto_flow": null,
            "grid_auto_rows": null,
            "grid_column": null,
            "grid_gap": null,
            "grid_row": null,
            "grid_template_areas": null,
            "grid_template_columns": null,
            "grid_template_rows": null,
            "height": null,
            "justify_content": null,
            "justify_items": null,
            "left": null,
            "margin": null,
            "max_height": null,
            "max_width": null,
            "min_height": null,
            "min_width": null,
            "object_fit": null,
            "object_position": null,
            "order": null,
            "overflow": null,
            "overflow_x": null,
            "overflow_y": null,
            "padding": null,
            "right": null,
            "top": null,
            "visibility": null,
            "width": "20px"
          }
        },
        "d460158da1024f349dbc794852f1121e": {
          "model_module": "@jupyter-widgets/controls",
          "model_name": "ProgressStyleModel",
          "model_module_version": "1.5.0",
          "state": {
            "_model_module": "@jupyter-widgets/controls",
            "_model_module_version": "1.5.0",
            "_model_name": "ProgressStyleModel",
            "_view_count": null,
            "_view_module": "@jupyter-widgets/base",
            "_view_module_version": "1.2.0",
            "_view_name": "StyleView",
            "bar_color": null,
            "description_width": ""
          }
        },
        "e6ad119eb4104cffacccc26d395997df": {
          "model_module": "@jupyter-widgets/base",
          "model_name": "LayoutModel",
          "model_module_version": "1.2.0",
          "state": {
            "_model_module": "@jupyter-widgets/base",
            "_model_module_version": "1.2.0",
            "_model_name": "LayoutModel",
            "_view_count": null,
            "_view_module": "@jupyter-widgets/base",
            "_view_module_version": "1.2.0",
            "_view_name": "LayoutView",
            "align_content": null,
            "align_items": null,
            "align_self": null,
            "border": null,
            "bottom": null,
            "display": null,
            "flex": null,
            "flex_flow": null,
            "grid_area": null,
            "grid_auto_columns": null,
            "grid_auto_flow": null,
            "grid_auto_rows": null,
            "grid_column": null,
            "grid_gap": null,
            "grid_row": null,
            "grid_template_areas": null,
            "grid_template_columns": null,
            "grid_template_rows": null,
            "height": null,
            "justify_content": null,
            "justify_items": null,
            "left": null,
            "margin": null,
            "max_height": null,
            "max_width": null,
            "min_height": null,
            "min_width": null,
            "object_fit": null,
            "object_position": null,
            "order": null,
            "overflow": null,
            "overflow_x": null,
            "overflow_y": null,
            "padding": null,
            "right": null,
            "top": null,
            "visibility": null,
            "width": null
          }
        },
        "4d5978b281df48309356091d5d9f81f6": {
          "model_module": "@jupyter-widgets/controls",
          "model_name": "DescriptionStyleModel",
          "model_module_version": "1.5.0",
          "state": {
            "_model_module": "@jupyter-widgets/controls",
            "_model_module_version": "1.5.0",
            "_model_name": "DescriptionStyleModel",
            "_view_count": null,
            "_view_module": "@jupyter-widgets/base",
            "_view_module_version": "1.2.0",
            "_view_name": "StyleView",
            "description_width": ""
          }
        },
        "9e91d511bdc741f28b385d241275362b": {
          "model_module": "@jupyter-widgets/controls",
          "model_name": "HBoxModel",
          "model_module_version": "1.5.0",
          "state": {
            "_dom_classes": [],
            "_model_module": "@jupyter-widgets/controls",
            "_model_module_version": "1.5.0",
            "_model_name": "HBoxModel",
            "_view_count": null,
            "_view_module": "@jupyter-widgets/controls",
            "_view_module_version": "1.5.0",
            "_view_name": "HBoxView",
            "box_style": "",
            "children": [
              "IPY_MODEL_dfda102ebf704d7a8d198bbe243a0507",
              "IPY_MODEL_1eb03c3eeb7546b8b29f7dd4a588d15f",
              "IPY_MODEL_be582492411d49ecbae77385b95f89ab"
            ],
            "layout": "IPY_MODEL_cd83386bac884057b2dc4542a2895344"
          }
        },
        "dfda102ebf704d7a8d198bbe243a0507": {
          "model_module": "@jupyter-widgets/controls",
          "model_name": "HTMLModel",
          "model_module_version": "1.5.0",
          "state": {
            "_dom_classes": [],
            "_model_module": "@jupyter-widgets/controls",
            "_model_module_version": "1.5.0",
            "_model_name": "HTMLModel",
            "_view_count": null,
            "_view_module": "@jupyter-widgets/controls",
            "_view_module_version": "1.5.0",
            "_view_name": "HTMLView",
            "description": "",
            "description_tooltip": null,
            "layout": "IPY_MODEL_5d1a398efed541cd898397975474289a",
            "placeholder": "​",
            "style": "IPY_MODEL_822ae74dd08f427681bb10a88b9d8310",
            "value": "Generating test split: "
          }
        },
        "1eb03c3eeb7546b8b29f7dd4a588d15f": {
          "model_module": "@jupyter-widgets/controls",
          "model_name": "FloatProgressModel",
          "model_module_version": "1.5.0",
          "state": {
            "_dom_classes": [],
            "_model_module": "@jupyter-widgets/controls",
            "_model_module_version": "1.5.0",
            "_model_name": "FloatProgressModel",
            "_view_count": null,
            "_view_module": "@jupyter-widgets/controls",
            "_view_module_version": "1.5.0",
            "_view_name": "ProgressView",
            "bar_style": "info",
            "description": "",
            "description_tooltip": null,
            "layout": "IPY_MODEL_f30be3b0c594450e9c54483d26c60d4d",
            "max": 1,
            "min": 0,
            "orientation": "horizontal",
            "style": "IPY_MODEL_3b8829788137461b93547a5321d43538",
            "value": 1
          }
        },
        "be582492411d49ecbae77385b95f89ab": {
          "model_module": "@jupyter-widgets/controls",
          "model_name": "HTMLModel",
          "model_module_version": "1.5.0",
          "state": {
            "_dom_classes": [],
            "_model_module": "@jupyter-widgets/controls",
            "_model_module_version": "1.5.0",
            "_model_name": "HTMLModel",
            "_view_count": null,
            "_view_module": "@jupyter-widgets/controls",
            "_view_module_version": "1.5.0",
            "_view_name": "HTMLView",
            "description": "",
            "description_tooltip": null,
            "layout": "IPY_MODEL_9961f7fda4c34d1294fa91231cf9e33f",
            "placeholder": "​",
            "style": "IPY_MODEL_f8c6820676bf4567885bd5168c172167",
            "value": " 0/0 [00:00&lt;?, ? examples/s]"
          }
        },
        "cd83386bac884057b2dc4542a2895344": {
          "model_module": "@jupyter-widgets/base",
          "model_name": "LayoutModel",
          "model_module_version": "1.2.0",
          "state": {
            "_model_module": "@jupyter-widgets/base",
            "_model_module_version": "1.2.0",
            "_model_name": "LayoutModel",
            "_view_count": null,
            "_view_module": "@jupyter-widgets/base",
            "_view_module_version": "1.2.0",
            "_view_name": "LayoutView",
            "align_content": null,
            "align_items": null,
            "align_self": null,
            "border": null,
            "bottom": null,
            "display": null,
            "flex": null,
            "flex_flow": null,
            "grid_area": null,
            "grid_auto_columns": null,
            "grid_auto_flow": null,
            "grid_auto_rows": null,
            "grid_column": null,
            "grid_gap": null,
            "grid_row": null,
            "grid_template_areas": null,
            "grid_template_columns": null,
            "grid_template_rows": null,
            "height": null,
            "justify_content": null,
            "justify_items": null,
            "left": null,
            "margin": null,
            "max_height": null,
            "max_width": null,
            "min_height": null,
            "min_width": null,
            "object_fit": null,
            "object_position": null,
            "order": null,
            "overflow": null,
            "overflow_x": null,
            "overflow_y": null,
            "padding": null,
            "right": null,
            "top": null,
            "visibility": "hidden",
            "width": null
          }
        },
        "5d1a398efed541cd898397975474289a": {
          "model_module": "@jupyter-widgets/base",
          "model_name": "LayoutModel",
          "model_module_version": "1.2.0",
          "state": {
            "_model_module": "@jupyter-widgets/base",
            "_model_module_version": "1.2.0",
            "_model_name": "LayoutModel",
            "_view_count": null,
            "_view_module": "@jupyter-widgets/base",
            "_view_module_version": "1.2.0",
            "_view_name": "LayoutView",
            "align_content": null,
            "align_items": null,
            "align_self": null,
            "border": null,
            "bottom": null,
            "display": null,
            "flex": null,
            "flex_flow": null,
            "grid_area": null,
            "grid_auto_columns": null,
            "grid_auto_flow": null,
            "grid_auto_rows": null,
            "grid_column": null,
            "grid_gap": null,
            "grid_row": null,
            "grid_template_areas": null,
            "grid_template_columns": null,
            "grid_template_rows": null,
            "height": null,
            "justify_content": null,
            "justify_items": null,
            "left": null,
            "margin": null,
            "max_height": null,
            "max_width": null,
            "min_height": null,
            "min_width": null,
            "object_fit": null,
            "object_position": null,
            "order": null,
            "overflow": null,
            "overflow_x": null,
            "overflow_y": null,
            "padding": null,
            "right": null,
            "top": null,
            "visibility": null,
            "width": null
          }
        },
        "822ae74dd08f427681bb10a88b9d8310": {
          "model_module": "@jupyter-widgets/controls",
          "model_name": "DescriptionStyleModel",
          "model_module_version": "1.5.0",
          "state": {
            "_model_module": "@jupyter-widgets/controls",
            "_model_module_version": "1.5.0",
            "_model_name": "DescriptionStyleModel",
            "_view_count": null,
            "_view_module": "@jupyter-widgets/base",
            "_view_module_version": "1.2.0",
            "_view_name": "StyleView",
            "description_width": ""
          }
        },
        "f30be3b0c594450e9c54483d26c60d4d": {
          "model_module": "@jupyter-widgets/base",
          "model_name": "LayoutModel",
          "model_module_version": "1.2.0",
          "state": {
            "_model_module": "@jupyter-widgets/base",
            "_model_module_version": "1.2.0",
            "_model_name": "LayoutModel",
            "_view_count": null,
            "_view_module": "@jupyter-widgets/base",
            "_view_module_version": "1.2.0",
            "_view_name": "LayoutView",
            "align_content": null,
            "align_items": null,
            "align_self": null,
            "border": null,
            "bottom": null,
            "display": null,
            "flex": null,
            "flex_flow": null,
            "grid_area": null,
            "grid_auto_columns": null,
            "grid_auto_flow": null,
            "grid_auto_rows": null,
            "grid_column": null,
            "grid_gap": null,
            "grid_row": null,
            "grid_template_areas": null,
            "grid_template_columns": null,
            "grid_template_rows": null,
            "height": null,
            "justify_content": null,
            "justify_items": null,
            "left": null,
            "margin": null,
            "max_height": null,
            "max_width": null,
            "min_height": null,
            "min_width": null,
            "object_fit": null,
            "object_position": null,
            "order": null,
            "overflow": null,
            "overflow_x": null,
            "overflow_y": null,
            "padding": null,
            "right": null,
            "top": null,
            "visibility": null,
            "width": "20px"
          }
        },
        "3b8829788137461b93547a5321d43538": {
          "model_module": "@jupyter-widgets/controls",
          "model_name": "ProgressStyleModel",
          "model_module_version": "1.5.0",
          "state": {
            "_model_module": "@jupyter-widgets/controls",
            "_model_module_version": "1.5.0",
            "_model_name": "ProgressStyleModel",
            "_view_count": null,
            "_view_module": "@jupyter-widgets/base",
            "_view_module_version": "1.2.0",
            "_view_name": "StyleView",
            "bar_color": null,
            "description_width": ""
          }
        },
        "9961f7fda4c34d1294fa91231cf9e33f": {
          "model_module": "@jupyter-widgets/base",
          "model_name": "LayoutModel",
          "model_module_version": "1.2.0",
          "state": {
            "_model_module": "@jupyter-widgets/base",
            "_model_module_version": "1.2.0",
            "_model_name": "LayoutModel",
            "_view_count": null,
            "_view_module": "@jupyter-widgets/base",
            "_view_module_version": "1.2.0",
            "_view_name": "LayoutView",
            "align_content": null,
            "align_items": null,
            "align_self": null,
            "border": null,
            "bottom": null,
            "display": null,
            "flex": null,
            "flex_flow": null,
            "grid_area": null,
            "grid_auto_columns": null,
            "grid_auto_flow": null,
            "grid_auto_rows": null,
            "grid_column": null,
            "grid_gap": null,
            "grid_row": null,
            "grid_template_areas": null,
            "grid_template_columns": null,
            "grid_template_rows": null,
            "height": null,
            "justify_content": null,
            "justify_items": null,
            "left": null,
            "margin": null,
            "max_height": null,
            "max_width": null,
            "min_height": null,
            "min_width": null,
            "object_fit": null,
            "object_position": null,
            "order": null,
            "overflow": null,
            "overflow_x": null,
            "overflow_y": null,
            "padding": null,
            "right": null,
            "top": null,
            "visibility": null,
            "width": null
          }
        },
        "f8c6820676bf4567885bd5168c172167": {
          "model_module": "@jupyter-widgets/controls",
          "model_name": "DescriptionStyleModel",
          "model_module_version": "1.5.0",
          "state": {
            "_model_module": "@jupyter-widgets/controls",
            "_model_module_version": "1.5.0",
            "_model_name": "DescriptionStyleModel",
            "_view_count": null,
            "_view_module": "@jupyter-widgets/base",
            "_view_module_version": "1.2.0",
            "_view_name": "StyleView",
            "description_width": ""
          }
        },
        "3f8240fc82fd4942835f14c8f4561385": {
          "model_module": "@jupyter-widgets/controls",
          "model_name": "HBoxModel",
          "model_module_version": "1.5.0",
          "state": {
            "_dom_classes": [],
            "_model_module": "@jupyter-widgets/controls",
            "_model_module_version": "1.5.0",
            "_model_name": "HBoxModel",
            "_view_count": null,
            "_view_module": "@jupyter-widgets/controls",
            "_view_module_version": "1.5.0",
            "_view_name": "HBoxView",
            "box_style": "",
            "children": [
              "IPY_MODEL_1a16925194bf462e9df1ec06e5b77e80",
              "IPY_MODEL_72425e2fdc6946538e3c58d02c678fd5",
              "IPY_MODEL_e12125e383604e4a83ef583f016f832e"
            ],
            "layout": "IPY_MODEL_580f9e832e1f4dcd9aadf947e6404193"
          }
        },
        "1a16925194bf462e9df1ec06e5b77e80": {
          "model_module": "@jupyter-widgets/controls",
          "model_name": "HTMLModel",
          "model_module_version": "1.5.0",
          "state": {
            "_dom_classes": [],
            "_model_module": "@jupyter-widgets/controls",
            "_model_module_version": "1.5.0",
            "_model_name": "HTMLModel",
            "_view_count": null,
            "_view_module": "@jupyter-widgets/controls",
            "_view_module_version": "1.5.0",
            "_view_name": "HTMLView",
            "description": "",
            "description_tooltip": null,
            "layout": "IPY_MODEL_1c2bf4ef79714a769971ca132f01e584",
            "placeholder": "​",
            "style": "IPY_MODEL_56166bbed92b41dcae09accc730f812f",
            "value": "100%"
          }
        },
        "72425e2fdc6946538e3c58d02c678fd5": {
          "model_module": "@jupyter-widgets/controls",
          "model_name": "FloatProgressModel",
          "model_module_version": "1.5.0",
          "state": {
            "_dom_classes": [],
            "_model_module": "@jupyter-widgets/controls",
            "_model_module_version": "1.5.0",
            "_model_name": "FloatProgressModel",
            "_view_count": null,
            "_view_module": "@jupyter-widgets/controls",
            "_view_module_version": "1.5.0",
            "_view_name": "ProgressView",
            "bar_style": "success",
            "description": "",
            "description_tooltip": null,
            "layout": "IPY_MODEL_086b7cdd8ab54163985e9cfe79839fa5",
            "max": 3,
            "min": 0,
            "orientation": "horizontal",
            "style": "IPY_MODEL_8d63ee55f4834f0985bb80ac9b1f6f74",
            "value": 3
          }
        },
        "e12125e383604e4a83ef583f016f832e": {
          "model_module": "@jupyter-widgets/controls",
          "model_name": "HTMLModel",
          "model_module_version": "1.5.0",
          "state": {
            "_dom_classes": [],
            "_model_module": "@jupyter-widgets/controls",
            "_model_module_version": "1.5.0",
            "_model_name": "HTMLModel",
            "_view_count": null,
            "_view_module": "@jupyter-widgets/controls",
            "_view_module_version": "1.5.0",
            "_view_name": "HTMLView",
            "description": "",
            "description_tooltip": null,
            "layout": "IPY_MODEL_9c2b64e8a44c4111b4aa28ae66724bb7",
            "placeholder": "​",
            "style": "IPY_MODEL_4310105f9a304e7bbe839ac600c511f5",
            "value": " 3/3 [00:00&lt;00:00, 95.69it/s]"
          }
        },
        "580f9e832e1f4dcd9aadf947e6404193": {
          "model_module": "@jupyter-widgets/base",
          "model_name": "LayoutModel",
          "model_module_version": "1.2.0",
          "state": {
            "_model_module": "@jupyter-widgets/base",
            "_model_module_version": "1.2.0",
            "_model_name": "LayoutModel",
            "_view_count": null,
            "_view_module": "@jupyter-widgets/base",
            "_view_module_version": "1.2.0",
            "_view_name": "LayoutView",
            "align_content": null,
            "align_items": null,
            "align_self": null,
            "border": null,
            "bottom": null,
            "display": null,
            "flex": null,
            "flex_flow": null,
            "grid_area": null,
            "grid_auto_columns": null,
            "grid_auto_flow": null,
            "grid_auto_rows": null,
            "grid_column": null,
            "grid_gap": null,
            "grid_row": null,
            "grid_template_areas": null,
            "grid_template_columns": null,
            "grid_template_rows": null,
            "height": null,
            "justify_content": null,
            "justify_items": null,
            "left": null,
            "margin": null,
            "max_height": null,
            "max_width": null,
            "min_height": null,
            "min_width": null,
            "object_fit": null,
            "object_position": null,
            "order": null,
            "overflow": null,
            "overflow_x": null,
            "overflow_y": null,
            "padding": null,
            "right": null,
            "top": null,
            "visibility": null,
            "width": null
          }
        },
        "1c2bf4ef79714a769971ca132f01e584": {
          "model_module": "@jupyter-widgets/base",
          "model_name": "LayoutModel",
          "model_module_version": "1.2.0",
          "state": {
            "_model_module": "@jupyter-widgets/base",
            "_model_module_version": "1.2.0",
            "_model_name": "LayoutModel",
            "_view_count": null,
            "_view_module": "@jupyter-widgets/base",
            "_view_module_version": "1.2.0",
            "_view_name": "LayoutView",
            "align_content": null,
            "align_items": null,
            "align_self": null,
            "border": null,
            "bottom": null,
            "display": null,
            "flex": null,
            "flex_flow": null,
            "grid_area": null,
            "grid_auto_columns": null,
            "grid_auto_flow": null,
            "grid_auto_rows": null,
            "grid_column": null,
            "grid_gap": null,
            "grid_row": null,
            "grid_template_areas": null,
            "grid_template_columns": null,
            "grid_template_rows": null,
            "height": null,
            "justify_content": null,
            "justify_items": null,
            "left": null,
            "margin": null,
            "max_height": null,
            "max_width": null,
            "min_height": null,
            "min_width": null,
            "object_fit": null,
            "object_position": null,
            "order": null,
            "overflow": null,
            "overflow_x": null,
            "overflow_y": null,
            "padding": null,
            "right": null,
            "top": null,
            "visibility": null,
            "width": null
          }
        },
        "56166bbed92b41dcae09accc730f812f": {
          "model_module": "@jupyter-widgets/controls",
          "model_name": "DescriptionStyleModel",
          "model_module_version": "1.5.0",
          "state": {
            "_model_module": "@jupyter-widgets/controls",
            "_model_module_version": "1.5.0",
            "_model_name": "DescriptionStyleModel",
            "_view_count": null,
            "_view_module": "@jupyter-widgets/base",
            "_view_module_version": "1.2.0",
            "_view_name": "StyleView",
            "description_width": ""
          }
        },
        "086b7cdd8ab54163985e9cfe79839fa5": {
          "model_module": "@jupyter-widgets/base",
          "model_name": "LayoutModel",
          "model_module_version": "1.2.0",
          "state": {
            "_model_module": "@jupyter-widgets/base",
            "_model_module_version": "1.2.0",
            "_model_name": "LayoutModel",
            "_view_count": null,
            "_view_module": "@jupyter-widgets/base",
            "_view_module_version": "1.2.0",
            "_view_name": "LayoutView",
            "align_content": null,
            "align_items": null,
            "align_self": null,
            "border": null,
            "bottom": null,
            "display": null,
            "flex": null,
            "flex_flow": null,
            "grid_area": null,
            "grid_auto_columns": null,
            "grid_auto_flow": null,
            "grid_auto_rows": null,
            "grid_column": null,
            "grid_gap": null,
            "grid_row": null,
            "grid_template_areas": null,
            "grid_template_columns": null,
            "grid_template_rows": null,
            "height": null,
            "justify_content": null,
            "justify_items": null,
            "left": null,
            "margin": null,
            "max_height": null,
            "max_width": null,
            "min_height": null,
            "min_width": null,
            "object_fit": null,
            "object_position": null,
            "order": null,
            "overflow": null,
            "overflow_x": null,
            "overflow_y": null,
            "padding": null,
            "right": null,
            "top": null,
            "visibility": null,
            "width": null
          }
        },
        "8d63ee55f4834f0985bb80ac9b1f6f74": {
          "model_module": "@jupyter-widgets/controls",
          "model_name": "ProgressStyleModel",
          "model_module_version": "1.5.0",
          "state": {
            "_model_module": "@jupyter-widgets/controls",
            "_model_module_version": "1.5.0",
            "_model_name": "ProgressStyleModel",
            "_view_count": null,
            "_view_module": "@jupyter-widgets/base",
            "_view_module_version": "1.2.0",
            "_view_name": "StyleView",
            "bar_color": null,
            "description_width": ""
          }
        },
        "9c2b64e8a44c4111b4aa28ae66724bb7": {
          "model_module": "@jupyter-widgets/base",
          "model_name": "LayoutModel",
          "model_module_version": "1.2.0",
          "state": {
            "_model_module": "@jupyter-widgets/base",
            "_model_module_version": "1.2.0",
            "_model_name": "LayoutModel",
            "_view_count": null,
            "_view_module": "@jupyter-widgets/base",
            "_view_module_version": "1.2.0",
            "_view_name": "LayoutView",
            "align_content": null,
            "align_items": null,
            "align_self": null,
            "border": null,
            "bottom": null,
            "display": null,
            "flex": null,
            "flex_flow": null,
            "grid_area": null,
            "grid_auto_columns": null,
            "grid_auto_flow": null,
            "grid_auto_rows": null,
            "grid_column": null,
            "grid_gap": null,
            "grid_row": null,
            "grid_template_areas": null,
            "grid_template_columns": null,
            "grid_template_rows": null,
            "height": null,
            "justify_content": null,
            "justify_items": null,
            "left": null,
            "margin": null,
            "max_height": null,
            "max_width": null,
            "min_height": null,
            "min_width": null,
            "object_fit": null,
            "object_position": null,
            "order": null,
            "overflow": null,
            "overflow_x": null,
            "overflow_y": null,
            "padding": null,
            "right": null,
            "top": null,
            "visibility": null,
            "width": null
          }
        },
        "4310105f9a304e7bbe839ac600c511f5": {
          "model_module": "@jupyter-widgets/controls",
          "model_name": "DescriptionStyleModel",
          "model_module_version": "1.5.0",
          "state": {
            "_model_module": "@jupyter-widgets/controls",
            "_model_module_version": "1.5.0",
            "_model_name": "DescriptionStyleModel",
            "_view_count": null,
            "_view_module": "@jupyter-widgets/base",
            "_view_module_version": "1.2.0",
            "_view_name": "StyleView",
            "description_width": ""
          }
        },
        "28da7451dcec40e886ca85ce98123bd5": {
          "model_module": "@jupyter-widgets/controls",
          "model_name": "HBoxModel",
          "model_module_version": "1.5.0",
          "state": {
            "_dom_classes": [],
            "_model_module": "@jupyter-widgets/controls",
            "_model_module_version": "1.5.0",
            "_model_name": "HBoxModel",
            "_view_count": null,
            "_view_module": "@jupyter-widgets/controls",
            "_view_module_version": "1.5.0",
            "_view_name": "HBoxView",
            "box_style": "",
            "children": [
              "IPY_MODEL_d8488437018a41b7a5ccc07f0edb6e74",
              "IPY_MODEL_f223e178f58f4648a995e92f3814750f",
              "IPY_MODEL_8ec1b7465b6a45239a5c3c51a6bee7e5"
            ],
            "layout": "IPY_MODEL_9b97b9488fe64c3499732a05aa42e505"
          }
        },
        "d8488437018a41b7a5ccc07f0edb6e74": {
          "model_module": "@jupyter-widgets/controls",
          "model_name": "HTMLModel",
          "model_module_version": "1.5.0",
          "state": {
            "_dom_classes": [],
            "_model_module": "@jupyter-widgets/controls",
            "_model_module_version": "1.5.0",
            "_model_name": "HTMLModel",
            "_view_count": null,
            "_view_module": "@jupyter-widgets/controls",
            "_view_module_version": "1.5.0",
            "_view_name": "HTMLView",
            "description": "",
            "description_tooltip": null,
            "layout": "IPY_MODEL_51f2db061d5c4f41be79dc7e7273c129",
            "placeholder": "​",
            "style": "IPY_MODEL_fd84bff461ba482fabb7599bd5b03b69",
            "value": "100%"
          }
        },
        "f223e178f58f4648a995e92f3814750f": {
          "model_module": "@jupyter-widgets/controls",
          "model_name": "FloatProgressModel",
          "model_module_version": "1.5.0",
          "state": {
            "_dom_classes": [],
            "_model_module": "@jupyter-widgets/controls",
            "_model_module_version": "1.5.0",
            "_model_name": "FloatProgressModel",
            "_view_count": null,
            "_view_module": "@jupyter-widgets/controls",
            "_view_module_version": "1.5.0",
            "_view_name": "ProgressView",
            "bar_style": "success",
            "description": "",
            "description_tooltip": null,
            "layout": "IPY_MODEL_2ec99075063e4549be91b84e6ce37553",
            "max": 65022,
            "min": 0,
            "orientation": "horizontal",
            "style": "IPY_MODEL_e845d83d1ab545859d8965810f9463e4",
            "value": 65022
          }
        },
        "8ec1b7465b6a45239a5c3c51a6bee7e5": {
          "model_module": "@jupyter-widgets/controls",
          "model_name": "HTMLModel",
          "model_module_version": "1.5.0",
          "state": {
            "_dom_classes": [],
            "_model_module": "@jupyter-widgets/controls",
            "_model_module_version": "1.5.0",
            "_model_name": "HTMLModel",
            "_view_count": null,
            "_view_module": "@jupyter-widgets/controls",
            "_view_module_version": "1.5.0",
            "_view_name": "HTMLView",
            "description": "",
            "description_tooltip": null,
            "layout": "IPY_MODEL_4acc70695e6e43a4999415c87cc60b11",
            "placeholder": "​",
            "style": "IPY_MODEL_36d5ae2b670c452e81879b8a07c7c2bf",
            "value": " 65022/65022 [00:14&lt;00:00, 5065.38ex/s]"
          }
        },
        "9b97b9488fe64c3499732a05aa42e505": {
          "model_module": "@jupyter-widgets/base",
          "model_name": "LayoutModel",
          "model_module_version": "1.2.0",
          "state": {
            "_model_module": "@jupyter-widgets/base",
            "_model_module_version": "1.2.0",
            "_model_name": "LayoutModel",
            "_view_count": null,
            "_view_module": "@jupyter-widgets/base",
            "_view_module_version": "1.2.0",
            "_view_name": "LayoutView",
            "align_content": null,
            "align_items": null,
            "align_self": null,
            "border": null,
            "bottom": null,
            "display": null,
            "flex": null,
            "flex_flow": null,
            "grid_area": null,
            "grid_auto_columns": null,
            "grid_auto_flow": null,
            "grid_auto_rows": null,
            "grid_column": null,
            "grid_gap": null,
            "grid_row": null,
            "grid_template_areas": null,
            "grid_template_columns": null,
            "grid_template_rows": null,
            "height": null,
            "justify_content": null,
            "justify_items": null,
            "left": null,
            "margin": null,
            "max_height": null,
            "max_width": null,
            "min_height": null,
            "min_width": null,
            "object_fit": null,
            "object_position": null,
            "order": null,
            "overflow": null,
            "overflow_x": null,
            "overflow_y": null,
            "padding": null,
            "right": null,
            "top": null,
            "visibility": null,
            "width": null
          }
        },
        "51f2db061d5c4f41be79dc7e7273c129": {
          "model_module": "@jupyter-widgets/base",
          "model_name": "LayoutModel",
          "model_module_version": "1.2.0",
          "state": {
            "_model_module": "@jupyter-widgets/base",
            "_model_module_version": "1.2.0",
            "_model_name": "LayoutModel",
            "_view_count": null,
            "_view_module": "@jupyter-widgets/base",
            "_view_module_version": "1.2.0",
            "_view_name": "LayoutView",
            "align_content": null,
            "align_items": null,
            "align_self": null,
            "border": null,
            "bottom": null,
            "display": null,
            "flex": null,
            "flex_flow": null,
            "grid_area": null,
            "grid_auto_columns": null,
            "grid_auto_flow": null,
            "grid_auto_rows": null,
            "grid_column": null,
            "grid_gap": null,
            "grid_row": null,
            "grid_template_areas": null,
            "grid_template_columns": null,
            "grid_template_rows": null,
            "height": null,
            "justify_content": null,
            "justify_items": null,
            "left": null,
            "margin": null,
            "max_height": null,
            "max_width": null,
            "min_height": null,
            "min_width": null,
            "object_fit": null,
            "object_position": null,
            "order": null,
            "overflow": null,
            "overflow_x": null,
            "overflow_y": null,
            "padding": null,
            "right": null,
            "top": null,
            "visibility": null,
            "width": null
          }
        },
        "fd84bff461ba482fabb7599bd5b03b69": {
          "model_module": "@jupyter-widgets/controls",
          "model_name": "DescriptionStyleModel",
          "model_module_version": "1.5.0",
          "state": {
            "_model_module": "@jupyter-widgets/controls",
            "_model_module_version": "1.5.0",
            "_model_name": "DescriptionStyleModel",
            "_view_count": null,
            "_view_module": "@jupyter-widgets/base",
            "_view_module_version": "1.2.0",
            "_view_name": "StyleView",
            "description_width": ""
          }
        },
        "2ec99075063e4549be91b84e6ce37553": {
          "model_module": "@jupyter-widgets/base",
          "model_name": "LayoutModel",
          "model_module_version": "1.2.0",
          "state": {
            "_model_module": "@jupyter-widgets/base",
            "_model_module_version": "1.2.0",
            "_model_name": "LayoutModel",
            "_view_count": null,
            "_view_module": "@jupyter-widgets/base",
            "_view_module_version": "1.2.0",
            "_view_name": "LayoutView",
            "align_content": null,
            "align_items": null,
            "align_self": null,
            "border": null,
            "bottom": null,
            "display": null,
            "flex": null,
            "flex_flow": null,
            "grid_area": null,
            "grid_auto_columns": null,
            "grid_auto_flow": null,
            "grid_auto_rows": null,
            "grid_column": null,
            "grid_gap": null,
            "grid_row": null,
            "grid_template_areas": null,
            "grid_template_columns": null,
            "grid_template_rows": null,
            "height": null,
            "justify_content": null,
            "justify_items": null,
            "left": null,
            "margin": null,
            "max_height": null,
            "max_width": null,
            "min_height": null,
            "min_width": null,
            "object_fit": null,
            "object_position": null,
            "order": null,
            "overflow": null,
            "overflow_x": null,
            "overflow_y": null,
            "padding": null,
            "right": null,
            "top": null,
            "visibility": null,
            "width": null
          }
        },
        "e845d83d1ab545859d8965810f9463e4": {
          "model_module": "@jupyter-widgets/controls",
          "model_name": "ProgressStyleModel",
          "model_module_version": "1.5.0",
          "state": {
            "_model_module": "@jupyter-widgets/controls",
            "_model_module_version": "1.5.0",
            "_model_name": "ProgressStyleModel",
            "_view_count": null,
            "_view_module": "@jupyter-widgets/base",
            "_view_module_version": "1.2.0",
            "_view_name": "StyleView",
            "bar_color": null,
            "description_width": ""
          }
        },
        "4acc70695e6e43a4999415c87cc60b11": {
          "model_module": "@jupyter-widgets/base",
          "model_name": "LayoutModel",
          "model_module_version": "1.2.0",
          "state": {
            "_model_module": "@jupyter-widgets/base",
            "_model_module_version": "1.2.0",
            "_model_name": "LayoutModel",
            "_view_count": null,
            "_view_module": "@jupyter-widgets/base",
            "_view_module_version": "1.2.0",
            "_view_name": "LayoutView",
            "align_content": null,
            "align_items": null,
            "align_self": null,
            "border": null,
            "bottom": null,
            "display": null,
            "flex": null,
            "flex_flow": null,
            "grid_area": null,
            "grid_auto_columns": null,
            "grid_auto_flow": null,
            "grid_auto_rows": null,
            "grid_column": null,
            "grid_gap": null,
            "grid_row": null,
            "grid_template_areas": null,
            "grid_template_columns": null,
            "grid_template_rows": null,
            "height": null,
            "justify_content": null,
            "justify_items": null,
            "left": null,
            "margin": null,
            "max_height": null,
            "max_width": null,
            "min_height": null,
            "min_width": null,
            "object_fit": null,
            "object_position": null,
            "order": null,
            "overflow": null,
            "overflow_x": null,
            "overflow_y": null,
            "padding": null,
            "right": null,
            "top": null,
            "visibility": null,
            "width": null
          }
        },
        "36d5ae2b670c452e81879b8a07c7c2bf": {
          "model_module": "@jupyter-widgets/controls",
          "model_name": "DescriptionStyleModel",
          "model_module_version": "1.5.0",
          "state": {
            "_model_module": "@jupyter-widgets/controls",
            "_model_module_version": "1.5.0",
            "_model_name": "DescriptionStyleModel",
            "_view_count": null,
            "_view_module": "@jupyter-widgets/base",
            "_view_module_version": "1.2.0",
            "_view_name": "StyleView",
            "description_width": ""
          }
        },
        "b11abb352ae24c398a8e3ab3282a3255": {
          "model_module": "@jupyter-widgets/controls",
          "model_name": "HBoxModel",
          "model_module_version": "1.5.0",
          "state": {
            "_dom_classes": [],
            "_model_module": "@jupyter-widgets/controls",
            "_model_module_version": "1.5.0",
            "_model_name": "HBoxModel",
            "_view_count": null,
            "_view_module": "@jupyter-widgets/controls",
            "_view_module_version": "1.5.0",
            "_view_name": "HBoxView",
            "box_style": "",
            "children": [
              "IPY_MODEL_7b8a62d3ccc44690ab97a293d9d53319",
              "IPY_MODEL_af35f962fe9c4714888652ce7fb6f78a",
              "IPY_MODEL_cc295c67a2434541aefaab380e36065d"
            ],
            "layout": "IPY_MODEL_72e2481208b949ca99e83572d09897a7"
          }
        },
        "7b8a62d3ccc44690ab97a293d9d53319": {
          "model_module": "@jupyter-widgets/controls",
          "model_name": "HTMLModel",
          "model_module_version": "1.5.0",
          "state": {
            "_dom_classes": [],
            "_model_module": "@jupyter-widgets/controls",
            "_model_module_version": "1.5.0",
            "_model_name": "HTMLModel",
            "_view_count": null,
            "_view_module": "@jupyter-widgets/controls",
            "_view_module_version": "1.5.0",
            "_view_name": "HTMLView",
            "description": "",
            "description_tooltip": null,
            "layout": "IPY_MODEL_95b1f98a40c64946ab5ae7ee86a6bf61",
            "placeholder": "​",
            "style": "IPY_MODEL_6264579022124c97b0098cf186cf98a0",
            "value": "100%"
          }
        },
        "af35f962fe9c4714888652ce7fb6f78a": {
          "model_module": "@jupyter-widgets/controls",
          "model_name": "FloatProgressModel",
          "model_module_version": "1.5.0",
          "state": {
            "_dom_classes": [],
            "_model_module": "@jupyter-widgets/controls",
            "_model_module_version": "1.5.0",
            "_model_name": "FloatProgressModel",
            "_view_count": null,
            "_view_module": "@jupyter-widgets/controls",
            "_view_module_version": "1.5.0",
            "_view_name": "ProgressView",
            "bar_style": "success",
            "description": "",
            "description_tooltip": null,
            "layout": "IPY_MODEL_79718a9a17184fcb8d3a9e7745bdeb57",
            "max": 700,
            "min": 0,
            "orientation": "horizontal",
            "style": "IPY_MODEL_83a8e8cd73ac4f09bec165c31743d81c",
            "value": 700
          }
        },
        "cc295c67a2434541aefaab380e36065d": {
          "model_module": "@jupyter-widgets/controls",
          "model_name": "HTMLModel",
          "model_module_version": "1.5.0",
          "state": {
            "_dom_classes": [],
            "_model_module": "@jupyter-widgets/controls",
            "_model_module_version": "1.5.0",
            "_model_name": "HTMLModel",
            "_view_count": null,
            "_view_module": "@jupyter-widgets/controls",
            "_view_module_version": "1.5.0",
            "_view_name": "HTMLView",
            "description": "",
            "description_tooltip": null,
            "layout": "IPY_MODEL_8ad697d2a1174779a73300e3c2427c44",
            "placeholder": "​",
            "style": "IPY_MODEL_0176418db73e4af1a5f55a21da79fa73",
            "value": " 700/700 [00:00&lt;00:00, 4414.51ex/s]"
          }
        },
        "72e2481208b949ca99e83572d09897a7": {
          "model_module": "@jupyter-widgets/base",
          "model_name": "LayoutModel",
          "model_module_version": "1.2.0",
          "state": {
            "_model_module": "@jupyter-widgets/base",
            "_model_module_version": "1.2.0",
            "_model_name": "LayoutModel",
            "_view_count": null,
            "_view_module": "@jupyter-widgets/base",
            "_view_module_version": "1.2.0",
            "_view_name": "LayoutView",
            "align_content": null,
            "align_items": null,
            "align_self": null,
            "border": null,
            "bottom": null,
            "display": null,
            "flex": null,
            "flex_flow": null,
            "grid_area": null,
            "grid_auto_columns": null,
            "grid_auto_flow": null,
            "grid_auto_rows": null,
            "grid_column": null,
            "grid_gap": null,
            "grid_row": null,
            "grid_template_areas": null,
            "grid_template_columns": null,
            "grid_template_rows": null,
            "height": null,
            "justify_content": null,
            "justify_items": null,
            "left": null,
            "margin": null,
            "max_height": null,
            "max_width": null,
            "min_height": null,
            "min_width": null,
            "object_fit": null,
            "object_position": null,
            "order": null,
            "overflow": null,
            "overflow_x": null,
            "overflow_y": null,
            "padding": null,
            "right": null,
            "top": null,
            "visibility": null,
            "width": null
          }
        },
        "95b1f98a40c64946ab5ae7ee86a6bf61": {
          "model_module": "@jupyter-widgets/base",
          "model_name": "LayoutModel",
          "model_module_version": "1.2.0",
          "state": {
            "_model_module": "@jupyter-widgets/base",
            "_model_module_version": "1.2.0",
            "_model_name": "LayoutModel",
            "_view_count": null,
            "_view_module": "@jupyter-widgets/base",
            "_view_module_version": "1.2.0",
            "_view_name": "LayoutView",
            "align_content": null,
            "align_items": null,
            "align_self": null,
            "border": null,
            "bottom": null,
            "display": null,
            "flex": null,
            "flex_flow": null,
            "grid_area": null,
            "grid_auto_columns": null,
            "grid_auto_flow": null,
            "grid_auto_rows": null,
            "grid_column": null,
            "grid_gap": null,
            "grid_row": null,
            "grid_template_areas": null,
            "grid_template_columns": null,
            "grid_template_rows": null,
            "height": null,
            "justify_content": null,
            "justify_items": null,
            "left": null,
            "margin": null,
            "max_height": null,
            "max_width": null,
            "min_height": null,
            "min_width": null,
            "object_fit": null,
            "object_position": null,
            "order": null,
            "overflow": null,
            "overflow_x": null,
            "overflow_y": null,
            "padding": null,
            "right": null,
            "top": null,
            "visibility": null,
            "width": null
          }
        },
        "6264579022124c97b0098cf186cf98a0": {
          "model_module": "@jupyter-widgets/controls",
          "model_name": "DescriptionStyleModel",
          "model_module_version": "1.5.0",
          "state": {
            "_model_module": "@jupyter-widgets/controls",
            "_model_module_version": "1.5.0",
            "_model_name": "DescriptionStyleModel",
            "_view_count": null,
            "_view_module": "@jupyter-widgets/base",
            "_view_module_version": "1.2.0",
            "_view_name": "StyleView",
            "description_width": ""
          }
        },
        "79718a9a17184fcb8d3a9e7745bdeb57": {
          "model_module": "@jupyter-widgets/base",
          "model_name": "LayoutModel",
          "model_module_version": "1.2.0",
          "state": {
            "_model_module": "@jupyter-widgets/base",
            "_model_module_version": "1.2.0",
            "_model_name": "LayoutModel",
            "_view_count": null,
            "_view_module": "@jupyter-widgets/base",
            "_view_module_version": "1.2.0",
            "_view_name": "LayoutView",
            "align_content": null,
            "align_items": null,
            "align_self": null,
            "border": null,
            "bottom": null,
            "display": null,
            "flex": null,
            "flex_flow": null,
            "grid_area": null,
            "grid_auto_columns": null,
            "grid_auto_flow": null,
            "grid_auto_rows": null,
            "grid_column": null,
            "grid_gap": null,
            "grid_row": null,
            "grid_template_areas": null,
            "grid_template_columns": null,
            "grid_template_rows": null,
            "height": null,
            "justify_content": null,
            "justify_items": null,
            "left": null,
            "margin": null,
            "max_height": null,
            "max_width": null,
            "min_height": null,
            "min_width": null,
            "object_fit": null,
            "object_position": null,
            "order": null,
            "overflow": null,
            "overflow_x": null,
            "overflow_y": null,
            "padding": null,
            "right": null,
            "top": null,
            "visibility": null,
            "width": null
          }
        },
        "83a8e8cd73ac4f09bec165c31743d81c": {
          "model_module": "@jupyter-widgets/controls",
          "model_name": "ProgressStyleModel",
          "model_module_version": "1.5.0",
          "state": {
            "_model_module": "@jupyter-widgets/controls",
            "_model_module_version": "1.5.0",
            "_model_name": "ProgressStyleModel",
            "_view_count": null,
            "_view_module": "@jupyter-widgets/base",
            "_view_module_version": "1.2.0",
            "_view_name": "StyleView",
            "bar_color": null,
            "description_width": ""
          }
        },
        "8ad697d2a1174779a73300e3c2427c44": {
          "model_module": "@jupyter-widgets/base",
          "model_name": "LayoutModel",
          "model_module_version": "1.2.0",
          "state": {
            "_model_module": "@jupyter-widgets/base",
            "_model_module_version": "1.2.0",
            "_model_name": "LayoutModel",
            "_view_count": null,
            "_view_module": "@jupyter-widgets/base",
            "_view_module_version": "1.2.0",
            "_view_name": "LayoutView",
            "align_content": null,
            "align_items": null,
            "align_self": null,
            "border": null,
            "bottom": null,
            "display": null,
            "flex": null,
            "flex_flow": null,
            "grid_area": null,
            "grid_auto_columns": null,
            "grid_auto_flow": null,
            "grid_auto_rows": null,
            "grid_column": null,
            "grid_gap": null,
            "grid_row": null,
            "grid_template_areas": null,
            "grid_template_columns": null,
            "grid_template_rows": null,
            "height": null,
            "justify_content": null,
            "justify_items": null,
            "left": null,
            "margin": null,
            "max_height": null,
            "max_width": null,
            "min_height": null,
            "min_width": null,
            "object_fit": null,
            "object_position": null,
            "order": null,
            "overflow": null,
            "overflow_x": null,
            "overflow_y": null,
            "padding": null,
            "right": null,
            "top": null,
            "visibility": null,
            "width": null
          }
        },
        "0176418db73e4af1a5f55a21da79fa73": {
          "model_module": "@jupyter-widgets/controls",
          "model_name": "DescriptionStyleModel",
          "model_module_version": "1.5.0",
          "state": {
            "_model_module": "@jupyter-widgets/controls",
            "_model_module_version": "1.5.0",
            "_model_name": "DescriptionStyleModel",
            "_view_count": null,
            "_view_module": "@jupyter-widgets/base",
            "_view_module_version": "1.2.0",
            "_view_name": "StyleView",
            "description_width": ""
          }
        },
        "0b247d49511e4b7fb4859f339f95586a": {
          "model_module": "@jupyter-widgets/controls",
          "model_name": "HBoxModel",
          "model_module_version": "1.5.0",
          "state": {
            "_dom_classes": [],
            "_model_module": "@jupyter-widgets/controls",
            "_model_module_version": "1.5.0",
            "_model_name": "HBoxModel",
            "_view_count": null,
            "_view_module": "@jupyter-widgets/controls",
            "_view_module_version": "1.5.0",
            "_view_name": "HBoxView",
            "box_style": "",
            "children": [
              "IPY_MODEL_2917c9b0cd994e2b98a6c11ffd65c2c0",
              "IPY_MODEL_f00895004c594dbe9b14c1d581ff2ce8",
              "IPY_MODEL_1119d259e2ee42a4897c7f1dee593056"
            ],
            "layout": "IPY_MODEL_fa8f9d94c5264baa8f625fb6886ba280"
          }
        },
        "2917c9b0cd994e2b98a6c11ffd65c2c0": {
          "model_module": "@jupyter-widgets/controls",
          "model_name": "HTMLModel",
          "model_module_version": "1.5.0",
          "state": {
            "_dom_classes": [],
            "_model_module": "@jupyter-widgets/controls",
            "_model_module_version": "1.5.0",
            "_model_name": "HTMLModel",
            "_view_count": null,
            "_view_module": "@jupyter-widgets/controls",
            "_view_module_version": "1.5.0",
            "_view_name": "HTMLView",
            "description": "",
            "description_tooltip": null,
            "layout": "IPY_MODEL_50615f67eb1143b3b8c9cd73c73482df",
            "placeholder": "​",
            "style": "IPY_MODEL_ad7d6f6f2e3247b0ae7e509b802e0237",
            "value": "100%"
          }
        },
        "f00895004c594dbe9b14c1d581ff2ce8": {
          "model_module": "@jupyter-widgets/controls",
          "model_name": "FloatProgressModel",
          "model_module_version": "1.5.0",
          "state": {
            "_dom_classes": [],
            "_model_module": "@jupyter-widgets/controls",
            "_model_module_version": "1.5.0",
            "_model_name": "FloatProgressModel",
            "_view_count": null,
            "_view_module": "@jupyter-widgets/controls",
            "_view_module_version": "1.5.0",
            "_view_name": "ProgressView",
            "bar_style": "success",
            "description": "",
            "description_tooltip": null,
            "layout": "IPY_MODEL_e06d415b66de4d7b85c0020a4fadec0d",
            "max": 700,
            "min": 0,
            "orientation": "horizontal",
            "style": "IPY_MODEL_5542632d58ad4e3f8cc24459c38228e3",
            "value": 700
          }
        },
        "1119d259e2ee42a4897c7f1dee593056": {
          "model_module": "@jupyter-widgets/controls",
          "model_name": "HTMLModel",
          "model_module_version": "1.5.0",
          "state": {
            "_dom_classes": [],
            "_model_module": "@jupyter-widgets/controls",
            "_model_module_version": "1.5.0",
            "_model_name": "HTMLModel",
            "_view_count": null,
            "_view_module": "@jupyter-widgets/controls",
            "_view_module_version": "1.5.0",
            "_view_name": "HTMLView",
            "description": "",
            "description_tooltip": null,
            "layout": "IPY_MODEL_528a8a79a3e74101909f84dcdf17dc18",
            "placeholder": "​",
            "style": "IPY_MODEL_0f633f070fd0429fba04d453f2f34518",
            "value": " 700/700 [00:00&lt;00:00, 4325.00ex/s]"
          }
        },
        "fa8f9d94c5264baa8f625fb6886ba280": {
          "model_module": "@jupyter-widgets/base",
          "model_name": "LayoutModel",
          "model_module_version": "1.2.0",
          "state": {
            "_model_module": "@jupyter-widgets/base",
            "_model_module_version": "1.2.0",
            "_model_name": "LayoutModel",
            "_view_count": null,
            "_view_module": "@jupyter-widgets/base",
            "_view_module_version": "1.2.0",
            "_view_name": "LayoutView",
            "align_content": null,
            "align_items": null,
            "align_self": null,
            "border": null,
            "bottom": null,
            "display": null,
            "flex": null,
            "flex_flow": null,
            "grid_area": null,
            "grid_auto_columns": null,
            "grid_auto_flow": null,
            "grid_auto_rows": null,
            "grid_column": null,
            "grid_gap": null,
            "grid_row": null,
            "grid_template_areas": null,
            "grid_template_columns": null,
            "grid_template_rows": null,
            "height": null,
            "justify_content": null,
            "justify_items": null,
            "left": null,
            "margin": null,
            "max_height": null,
            "max_width": null,
            "min_height": null,
            "min_width": null,
            "object_fit": null,
            "object_position": null,
            "order": null,
            "overflow": null,
            "overflow_x": null,
            "overflow_y": null,
            "padding": null,
            "right": null,
            "top": null,
            "visibility": null,
            "width": null
          }
        },
        "50615f67eb1143b3b8c9cd73c73482df": {
          "model_module": "@jupyter-widgets/base",
          "model_name": "LayoutModel",
          "model_module_version": "1.2.0",
          "state": {
            "_model_module": "@jupyter-widgets/base",
            "_model_module_version": "1.2.0",
            "_model_name": "LayoutModel",
            "_view_count": null,
            "_view_module": "@jupyter-widgets/base",
            "_view_module_version": "1.2.0",
            "_view_name": "LayoutView",
            "align_content": null,
            "align_items": null,
            "align_self": null,
            "border": null,
            "bottom": null,
            "display": null,
            "flex": null,
            "flex_flow": null,
            "grid_area": null,
            "grid_auto_columns": null,
            "grid_auto_flow": null,
            "grid_auto_rows": null,
            "grid_column": null,
            "grid_gap": null,
            "grid_row": null,
            "grid_template_areas": null,
            "grid_template_columns": null,
            "grid_template_rows": null,
            "height": null,
            "justify_content": null,
            "justify_items": null,
            "left": null,
            "margin": null,
            "max_height": null,
            "max_width": null,
            "min_height": null,
            "min_width": null,
            "object_fit": null,
            "object_position": null,
            "order": null,
            "overflow": null,
            "overflow_x": null,
            "overflow_y": null,
            "padding": null,
            "right": null,
            "top": null,
            "visibility": null,
            "width": null
          }
        },
        "ad7d6f6f2e3247b0ae7e509b802e0237": {
          "model_module": "@jupyter-widgets/controls",
          "model_name": "DescriptionStyleModel",
          "model_module_version": "1.5.0",
          "state": {
            "_model_module": "@jupyter-widgets/controls",
            "_model_module_version": "1.5.0",
            "_model_name": "DescriptionStyleModel",
            "_view_count": null,
            "_view_module": "@jupyter-widgets/base",
            "_view_module_version": "1.2.0",
            "_view_name": "StyleView",
            "description_width": ""
          }
        },
        "e06d415b66de4d7b85c0020a4fadec0d": {
          "model_module": "@jupyter-widgets/base",
          "model_name": "LayoutModel",
          "model_module_version": "1.2.0",
          "state": {
            "_model_module": "@jupyter-widgets/base",
            "_model_module_version": "1.2.0",
            "_model_name": "LayoutModel",
            "_view_count": null,
            "_view_module": "@jupyter-widgets/base",
            "_view_module_version": "1.2.0",
            "_view_name": "LayoutView",
            "align_content": null,
            "align_items": null,
            "align_self": null,
            "border": null,
            "bottom": null,
            "display": null,
            "flex": null,
            "flex_flow": null,
            "grid_area": null,
            "grid_auto_columns": null,
            "grid_auto_flow": null,
            "grid_auto_rows": null,
            "grid_column": null,
            "grid_gap": null,
            "grid_row": null,
            "grid_template_areas": null,
            "grid_template_columns": null,
            "grid_template_rows": null,
            "height": null,
            "justify_content": null,
            "justify_items": null,
            "left": null,
            "margin": null,
            "max_height": null,
            "max_width": null,
            "min_height": null,
            "min_width": null,
            "object_fit": null,
            "object_position": null,
            "order": null,
            "overflow": null,
            "overflow_x": null,
            "overflow_y": null,
            "padding": null,
            "right": null,
            "top": null,
            "visibility": null,
            "width": null
          }
        },
        "5542632d58ad4e3f8cc24459c38228e3": {
          "model_module": "@jupyter-widgets/controls",
          "model_name": "ProgressStyleModel",
          "model_module_version": "1.5.0",
          "state": {
            "_model_module": "@jupyter-widgets/controls",
            "_model_module_version": "1.5.0",
            "_model_name": "ProgressStyleModel",
            "_view_count": null,
            "_view_module": "@jupyter-widgets/base",
            "_view_module_version": "1.2.0",
            "_view_name": "StyleView",
            "bar_color": null,
            "description_width": ""
          }
        },
        "528a8a79a3e74101909f84dcdf17dc18": {
          "model_module": "@jupyter-widgets/base",
          "model_name": "LayoutModel",
          "model_module_version": "1.2.0",
          "state": {
            "_model_module": "@jupyter-widgets/base",
            "_model_module_version": "1.2.0",
            "_model_name": "LayoutModel",
            "_view_count": null,
            "_view_module": "@jupyter-widgets/base",
            "_view_module_version": "1.2.0",
            "_view_name": "LayoutView",
            "align_content": null,
            "align_items": null,
            "align_self": null,
            "border": null,
            "bottom": null,
            "display": null,
            "flex": null,
            "flex_flow": null,
            "grid_area": null,
            "grid_auto_columns": null,
            "grid_auto_flow": null,
            "grid_auto_rows": null,
            "grid_column": null,
            "grid_gap": null,
            "grid_row": null,
            "grid_template_areas": null,
            "grid_template_columns": null,
            "grid_template_rows": null,
            "height": null,
            "justify_content": null,
            "justify_items": null,
            "left": null,
            "margin": null,
            "max_height": null,
            "max_width": null,
            "min_height": null,
            "min_width": null,
            "object_fit": null,
            "object_position": null,
            "order": null,
            "overflow": null,
            "overflow_x": null,
            "overflow_y": null,
            "padding": null,
            "right": null,
            "top": null,
            "visibility": null,
            "width": null
          }
        },
        "0f633f070fd0429fba04d453f2f34518": {
          "model_module": "@jupyter-widgets/controls",
          "model_name": "DescriptionStyleModel",
          "model_module_version": "1.5.0",
          "state": {
            "_model_module": "@jupyter-widgets/controls",
            "_model_module_version": "1.5.0",
            "_model_name": "DescriptionStyleModel",
            "_view_count": null,
            "_view_module": "@jupyter-widgets/base",
            "_view_module_version": "1.2.0",
            "_view_name": "StyleView",
            "description_width": ""
          }
        }
      }
    }
  },
  "nbformat": 4,
  "nbformat_minor": 5
}