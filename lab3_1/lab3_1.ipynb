{
  "cells": [
    {
      "cell_type": "code",
      "source": [
        "import os\n",
        "import sys\n",
        "\n",
        "try:\n",
        "    from google.colab import drive\n",
        "    drive.mount('/content/drive', force_remount=True)\n",
        "    MY_DRIVE_PATH = \"/content/drive/MyDrive/Technion - Study/NLP/\"+\"lab3-1-YoraiLevi\"\n",
        "    sys.path.append(MY_DRIVE_PATH)\n",
        "    os.chdir(MY_DRIVE_PATH)\n",
        "    !echo \"PWD:\" $(pwd)\n",
        "    !ls \"$MY_DRIVE_PATH\"\n",
        "    !pip install -r requirements.txt > /dev/null\n",
        "except ModuleNotFoundError as e:\n",
        "    print(e)"
      ],
      "metadata": {
        "colab": {
          "base_uri": "https://localhost:8080/"
        },
        "id": "gMKwnqERiAuQ",
        "outputId": "1fa8b5cb-7ffe-4956-94c8-e9b8d23993d0"
      },
      "id": "gMKwnqERiAuQ",
      "execution_count": 1,
      "outputs": [
        {
          "output_type": "stream",
          "name": "stdout",
          "text": [
            "Mounted at /content/drive\n",
            "PWD: /content/drive/MyDrive/Technion - Study/NLP/lab3-1-YoraiLevi\n",
            "lab3-1.ipynb  requirements.txt\ttests\n"
          ]
        }
      ]
    },
    {
      "cell_type": "code",
      "execution_count": 2,
      "id": "8f5ba5cf",
      "metadata": {
        "deletable": false,
        "editable": false,
        "jupyter": {
          "outputs_hidden": true,
          "source_hidden": true
        },
        "colab": {
          "base_uri": "https://localhost:8080/"
        },
        "id": "8f5ba5cf",
        "outputId": "9ce38607-57fa-430f-ff87-321da59b1287"
      },
      "outputs": [
        {
          "output_type": "stream",
          "name": "stdout",
          "text": [
            "\n"
          ]
        }
      ],
      "source": [
        "# Please do not change this cell because some hidden tests might depend on it.\n",
        "import os\n",
        "\n",
        "# Otter grader does not handle ! commands well, so we define and use our\n",
        "# own function to execute shell commands.\n",
        "def shell(commands, warn=True):\n",
        "    \"\"\"Executes the string `commands` as a sequence of shell commands.\n",
        "     \n",
        "       Prints the result to stdout and returns the exit status. \n",
        "       Provides a printed warning on non-zero exit status unless `warn` \n",
        "       flag is unset.\n",
        "    \"\"\"\n",
        "    file = os.popen(commands)\n",
        "    print (file.read().rstrip('\\n'))\n",
        "    exit_status = file.close()\n",
        "    if warn and exit_status != None:\n",
        "        print(f\"Completed with errors. Exit status: {exit_status}\\n\")\n",
        "    return exit_status\n",
        "\n",
        "shell(\"\"\"\n",
        "ls requirements.txt >/dev/null 2>&1\n",
        "if [ ! $? = 0 ]; then\n",
        " rm -rf .tmp\n",
        " git clone https://github.com/cs236299-2023-spring/lab3-1.git .tmp\n",
        " mv .tmp/tests ./\n",
        " mv .tmp/requirements.txt ./\n",
        " rm -rf .tmp\n",
        "fi\n",
        "pip install -q -r requirements.txt\n",
        "\"\"\")"
      ]
    },
    {
      "cell_type": "code",
      "execution_count": 3,
      "id": "48bc2662",
      "metadata": {
        "deletable": false,
        "editable": false,
        "id": "48bc2662"
      },
      "outputs": [],
      "source": [
        "# Initialize Otter\n",
        "import otter\n",
        "grader = otter.Notebook()"
      ]
    },
    {
      "cell_type": "raw",
      "id": "b2871125",
      "metadata": {
        "jupyter": {
          "source_hidden": true
        },
        "id": "b2871125"
      },
      "source": [
        "%%latex\n",
        "\\newcommand{\\vect}[1]{\\mathbf{#1}}\n",
        "\\newcommand{\\cnt}[1]{\\sharp(#1)}\n",
        "\\newcommand{\\argmax}[1]{\\underset{#1}{\\operatorname{argmax}}}\n",
        "\\newcommand{\\softmax}{\\operatorname{softmax}}\n",
        "\\newcommand{\\Prob}{\\Pr}\n",
        "\\newcommand{\\given}{\\,|\\,}"
      ]
    },
    {
      "cell_type": "markdown",
      "id": "8614ce3d",
      "metadata": {
        "jupyter": {
          "source_hidden": true
        },
        "id": "8614ce3d"
      },
      "source": [
        "$$\n",
        "\\renewcommand{\\vect}[1]{\\mathbf{#1}}\n",
        "\\renewcommand{\\cnt}[1]{\\sharp(#1)}\n",
        "\\renewcommand{\\argmax}[1]{\\underset{#1}{\\operatorname{argmax}}}\n",
        "\\renewcommand{\\softmax}{\\operatorname{softmax}}\n",
        "\\renewcommand{\\Prob}{\\Pr}\n",
        "\\renewcommand{\\given}{\\,|\\,}\n",
        "$$"
      ]
    },
    {
      "cell_type": "markdown",
      "id": "37b1b664",
      "metadata": {
        "id": "37b1b664",
        "tags": [
          "remove_for_latex"
        ]
      },
      "source": [
        "# Course 236299\n",
        "## Lab 3-1 – Context-free grammars introduced"
      ]
    },
    {
      "cell_type": "markdown",
      "id": "036517ae",
      "metadata": {
        "id": "036517ae"
      },
      "source": [
        "# Preparation – Loading packages"
      ]
    },
    {
      "cell_type": "code",
      "execution_count": 4,
      "id": "260440f6",
      "metadata": {
        "deletable": false,
        "editable": false,
        "id": "260440f6"
      },
      "outputs": [],
      "source": [
        "import functools\n",
        "import math\n",
        "import nltk"
      ]
    },
    {
      "cell_type": "markdown",
      "id": "5cdaa633",
      "metadata": {
        "id": "5cdaa633"
      },
      "source": [
        "# Writing CFGs\n",
        "\n",
        "Recall that a context free grammar (CFG) is a set of rules of the form $A \\rightarrow \\beta$, where $A$ is a nonterminal symbol and $\\beta$ is a sequence of terminal and nonterminal symbols. The set of nonterminals is $N$ and the set of terminals is $\\Sigma$. One of the nonterminals is a special start symbol, conventionally denoted $S$.\n",
        "\n",
        "A CFG generates a string by starting with the start symbol and repeatedly replacing a nonterminal symbol by the right-hand side of a rule whose left-hand side matches that nonterminal.\n",
        "\n",
        "We will use the [Natural Language Tool Kit (NLTK)](http://nltk.org) to define, represent, and store context-free grammars and syntactic parse trees in data structures. The toolkit provides for constructing a grammar from a textual description, such as this example:"
      ]
    },
    {
      "cell_type": "code",
      "execution_count": 5,
      "id": "831b1ab1",
      "metadata": {
        "id": "831b1ab1"
      },
      "outputs": [],
      "source": [
        "simple_grammar1 = nltk.CFG.fromstring(\"\"\"\n",
        "    S -> NP VP\n",
        "    NP -> 'dogs'\n",
        "    NP -> 'cats'\n",
        "    NP -> 'husky' 'dogs'\n",
        "    VP -> V\n",
        "    VP -> V NP\n",
        "    V -> 'bark'\n",
        "    V -> 'jump'\n",
        "    V -> 'chase'\n",
        "\"\"\")"
      ]
    },
    {
      "cell_type": "markdown",
      "id": "7a913a79",
      "metadata": {
        "id": "7a913a79"
      },
      "source": [
        "Some things to notice about the NLTK encoding of grammars:\n",
        "\n",
        "* Nonterminals are those symbols that appear on the left-hand side of a rule. \n",
        "* Terminals are any other Python object, but typically (as here) a string. (Notice how to write multi-word expressions on the right-hand side: each word needs to be quoted separately.)\n",
        "* By convention, the start symbol is the left-hand side of the first production of the grammar, and typically denoted as \"S\".\n",
        "\n",
        "We can print the grammar to observe it:"
      ]
    },
    {
      "cell_type": "code",
      "execution_count": 6,
      "id": "97953f41",
      "metadata": {
        "colab": {
          "base_uri": "https://localhost:8080/"
        },
        "id": "97953f41",
        "outputId": "2600586c-0090-4f56-a917-41254ed40885"
      },
      "outputs": [
        {
          "output_type": "stream",
          "name": "stdout",
          "text": [
            "Grammar with 9 productions (start state = S)\n",
            "    S -> NP VP\n",
            "    NP -> 'dogs'\n",
            "    NP -> 'cats'\n",
            "    NP -> 'husky' 'dogs'\n",
            "    VP -> V\n",
            "    VP -> V NP\n",
            "    V -> 'bark'\n",
            "    V -> 'jump'\n",
            "    V -> 'chase'\n"
          ]
        }
      ],
      "source": [
        "print(simple_grammar1)"
      ]
    },
    {
      "cell_type": "markdown",
      "id": "4b1d9351",
      "metadata": {
        "id": "4b1d9351"
      },
      "source": [
        "Some sentences that are *generated* by this grammar include \"dogs bark\", \"cats jump\",  \"husky dogs chase cats\". The last of these is generated as specified by the following derivation:\n",
        "\n",
        "```\n",
        "S => NP VP\n",
        "  => husky dogs VP\n",
        "  => husky dogs V NP\n",
        "  => husky dogs chase NP\n",
        "  => husky dogs chase cats\n",
        "```\n",
        "\n",
        "> This grammar also generates sentences that are ungrammatical in English, such as \"dogs bark cats\", as it makes no distinction between intransitive verbs (like \"bark\") and transitive verbs (like \"chase\"). For now, we'll ignore this issue.\n",
        "\n",
        "The [`nltk.CFG.fromstring`](http://www.nltk.org/api/nltk.html#nltk.CFG.fromstring) function also accepts grammars in a shorthand notation using the \"or\" operator `|` to combine multiple productions with the same left-hand side."
      ]
    },
    {
      "cell_type": "code",
      "execution_count": 7,
      "id": "774bc48f",
      "metadata": {
        "id": "774bc48f"
      },
      "outputs": [],
      "source": [
        "simple_grammar2 = nltk.CFG.fromstring(\"\"\"\n",
        "    S -> NP VP\n",
        "    NP -> 'dogs' | 'cats' | 'husky' 'dogs'\n",
        "    VP -> V | V NP\n",
        "    V -> 'bark' | 'jump' | 'chase'\n",
        "\"\"\")"
      ]
    },
    {
      "cell_type": "markdown",
      "id": "ff628959",
      "metadata": {
        "id": "ff628959"
      },
      "source": [
        "You can verify that the grammar is identical by printing it."
      ]
    },
    {
      "cell_type": "code",
      "execution_count": 8,
      "id": "38e20ce3",
      "metadata": {
        "colab": {
          "base_uri": "https://localhost:8080/"
        },
        "id": "38e20ce3",
        "outputId": "3b11c31b-9551-4cea-ae03-1f85e97f07f7"
      },
      "outputs": [
        {
          "output_type": "stream",
          "name": "stdout",
          "text": [
            "Grammar with 9 productions (start state = S)\n",
            "    S -> NP VP\n",
            "    NP -> 'dogs'\n",
            "    NP -> 'cats'\n",
            "    NP -> 'husky' 'dogs'\n",
            "    VP -> V\n",
            "    VP -> V NP\n",
            "    V -> 'bark'\n",
            "    V -> 'jump'\n",
            "    V -> 'chase'\n"
          ]
        }
      ],
      "source": [
        "print(simple_grammar2)"
      ]
    },
    {
      "cell_type": "markdown",
      "id": "625b9269",
      "metadata": {
        "deletable": false,
        "editable": false,
        "id": "625b9269"
      },
      "source": [
        "# Textual arithmetic expressions\n",
        "\n",
        "**What is four plus one divided by two?** As you can see in the screenshot at right, Alexa has a specific answer to this question. \n",
        "<img src=\"https://github.com/nlp-course/data/raw/master/img/alexa_arithmetic.jpg\" width=150 align=right />\n",
        "\n",
        "In this lab, you will learn how to implement the first part of answering such \"arithmetic in English\" questions. In particular, you will write CFGs for a subset of the language of arithmetic expressions. You can assume that numbers are integers between zero and twenty and that the allowed operations are addition, subtraction, multiplication, and division. First, construct a CFG that generates the following expressions and similar ones. (For now, don't worry about issues of ambiguity.) \n",
        "\n",
        "1. twenty plus two\n",
        "1. fifteen minus five\n",
        "1. four divided by two plus one\n",
        "1. two plus nine times five minus three\n",
        "1. sixteen plus two minus ten times one\n",
        "\n",
        "<!--\n",
        "BEGIN QUESTION\n",
        "name: arithmetic_grammar\n",
        "-->"
      ]
    },
    {
      "cell_type": "code",
      "execution_count": 9,
      "id": "f29325f3",
      "metadata": {
        "id": "f29325f3",
        "colab": {
          "base_uri": "https://localhost:8080/"
        },
        "outputId": "ce7bd4f5-3fe4-448e-823c-9a5b61a867a0"
      },
      "outputs": [
        {
          "output_type": "stream",
          "name": "stdout",
          "text": [
            "\n",
            "S -> Number | Number Op_Number\n",
            "Op_Number -> Single_Op | Single_Op Op_Number\n",
            "Single_Op -> Op Number\n",
            "Op -> 'plus' | 'minus' | 'divided' 'by' | 'times'\n",
            "Number -> 'zero' | 'one' | 'two' | 'three' | 'four' | 'five' | 'six' | 'seven' | 'eight' | 'nine' | 'ten' | 'eleven' | 'twelve' | 'thirteen' | 'fourteen' | 'fifteen' | 'sixteen' | 'seventeen' | 'eighteen' | 'nineteen' | 'twenty'\n"
          ]
        }
      ],
      "source": [
        "#TODO - construct a CFG for simple arithmetic expressions in English \n",
        "all_numbers = \"'zero' | 'one' | 'two' | 'three' | 'four' | 'five' \" \\\n",
        "            + \"| 'six' | 'seven' | 'eight' | 'nine' | 'ten' | 'eleven' \" \\\n",
        "            + \"| 'twelve' | 'thirteen' | 'fourteen' | 'fifteen' \" \\\n",
        "            + \"| 'sixteen' | 'seventeen' | 'eighteen' | 'nineteen' | 'twenty'\"\n",
        "arithmetic_grammar_str = \"\"\"\n",
        "S -> Number | Number Op_Number\n",
        "Op_Number -> Single_Op | Single_Op Op_Number\n",
        "Single_Op -> Op Number\n",
        "Op -> 'plus' | 'minus' | 'divided' 'by' | 'times'\n",
        "Number -> \"\"\" + all_numbers\n",
        "print(arithmetic_grammar_str)\n",
        "arithmetic_grammar = nltk.CFG.fromstring(arithmetic_grammar_str)"
      ]
    },
    {
      "cell_type": "code",
      "execution_count": 10,
      "id": "3ce285b1",
      "metadata": {
        "deletable": false,
        "editable": false,
        "colab": {
          "base_uri": "https://localhost:8080/",
          "height": 46
        },
        "id": "3ce285b1",
        "outputId": "64733dfc-bfcb-47e3-b103-f38b1eaacd80"
      },
      "outputs": [
        {
          "output_type": "execute_result",
          "data": {
            "text/plain": [
              "\n",
              "    All tests passed!\n",
              "    "
            ],
            "text/html": [
              "\n",
              "    \n",
              "    \n",
              "        <p>All tests passed!</p>\n",
              "    \n",
              "    "
            ]
          },
          "metadata": {},
          "execution_count": 10
        }
      ],
      "source": [
        "grader.check(\"arithmetic_grammar\")"
      ]
    },
    {
      "cell_type": "markdown",
      "id": "254fde02",
      "metadata": {
        "id": "254fde02"
      },
      "source": [
        "# Trees and grammars\n",
        "\n",
        "Create a parse tree each for sentences 2 and 3 according to your grammar. Draw the parse trees on a piece of paper or any drawing application. You'll use these drawings in this notebook shortly.\n",
        "\n",
        "Go ahead; we'll wait...."
      ]
    },
    {
      "cell_type": "markdown",
      "id": "a0194ddc",
      "metadata": {
        "id": "a0194ddc"
      },
      "source": [
        "You're back. Good.\n",
        "\n",
        "Drawing parse trees is a helpful visualization, but we need a machine-readable format for trees. One such format is a bracket notation.  For example, a parse tree for \"dogs bark\" can be made as follows, using the [`nltk.Tree.fromstring`](http://www.nltk.org/api/nltk.html#nltk.tree.Tree.fromstring) function (notice that you don't need quotation marks for terminals here): "
      ]
    },
    {
      "cell_type": "code",
      "execution_count": 11,
      "id": "80641415",
      "metadata": {
        "id": "80641415"
      },
      "outputs": [],
      "source": [
        "tree = nltk.Tree.fromstring(\"(S (NP dogs) (VP (V bark)))\")"
      ]
    },
    {
      "cell_type": "markdown",
      "id": "37f81f54",
      "metadata": {
        "id": "37f81f54"
      },
      "source": [
        "We can visualize the tree using the `pretty_print` method:"
      ]
    },
    {
      "cell_type": "code",
      "execution_count": 12,
      "id": "8a0678ae",
      "metadata": {
        "colab": {
          "base_uri": "https://localhost:8080/"
        },
        "id": "8a0678ae",
        "outputId": "77b20553-e7bc-464f-ee7f-3a22187545bd"
      },
      "outputs": [
        {
          "output_type": "stream",
          "name": "stdout",
          "text": [
            "      S      \n",
            "  ____|___    \n",
            " |        VP \n",
            " |        |   \n",
            " NP       V  \n",
            " |        |   \n",
            "dogs     bark\n",
            "\n"
          ]
        }
      ],
      "source": [
        "tree.pretty_print()"
      ]
    },
    {
      "cell_type": "markdown",
      "id": "b9547c49",
      "metadata": {
        "id": "b9547c49"
      },
      "source": [
        "You can get the rules that generated a tree using the `productions` method, which returns a list of productions according to a [preorder tree traversal](https://en.wikipedia.org/wiki/Tree_traversal#Pre-order,_NLR):"
      ]
    },
    {
      "cell_type": "code",
      "execution_count": 13,
      "id": "4a3e185a",
      "metadata": {
        "colab": {
          "base_uri": "https://localhost:8080/"
        },
        "id": "4a3e185a",
        "outputId": "3931ec03-9aa2-4f71-a445-885a8f6387cb"
      },
      "outputs": [
        {
          "output_type": "execute_result",
          "data": {
            "text/plain": [
              "[S -> NP VP, NP -> 'dogs', VP -> V, V -> 'bark']"
            ]
          },
          "metadata": {},
          "execution_count": 13
        }
      ],
      "source": [
        "tree.productions()"
      ]
    },
    {
      "cell_type": "markdown",
      "id": "63eabe2d",
      "metadata": {
        "deletable": false,
        "editable": false,
        "id": "63eabe2d"
      },
      "source": [
        "Convert the parse trees you drew for sentences 2 and 3 into NLTK format by converting them from a string using bracket notation, as done above for `tree`.\n",
        "\n",
        "<!--\n",
        "BEGIN QUESTION\n",
        "name: parse_trees\n",
        "-->"
      ]
    },
    {
      "cell_type": "code",
      "execution_count": 14,
      "id": "72565cb4",
      "metadata": {
        "id": "72565cb4"
      },
      "outputs": [],
      "source": [
        "#TODO -- Construct trees for sentences 2 and 3 by converting from the bracket notation.\n",
        "# \"fifteen minus five\"\n",
        "tree2 = nltk.Tree.fromstring(\"(S (Number fifteen) (Op_Number (Single_Op (Op minus) (Number five))))\")\n",
        "# \"four divided by two plus one\"\n",
        "tree3 = nltk.Tree.fromstring(\"(S (Number four) (Op_Number (Single_Op (Op divided by) (Number two)) (Op_Number (Single_Op (Op plus) (Number one)))))\")"
      ]
    },
    {
      "cell_type": "code",
      "execution_count": 15,
      "id": "fee0f672",
      "metadata": {
        "deletable": false,
        "editable": false,
        "colab": {
          "base_uri": "https://localhost:8080/",
          "height": 46
        },
        "id": "fee0f672",
        "outputId": "e74263e6-80c3-4082-c9c8-05b7e70bd8b3"
      },
      "outputs": [
        {
          "output_type": "execute_result",
          "data": {
            "text/plain": [
              "\n",
              "    All tests passed!\n",
              "    "
            ],
            "text/html": [
              "\n",
              "    \n",
              "    \n",
              "        <p>All tests passed!</p>\n",
              "    \n",
              "    "
            ]
          },
          "metadata": {},
          "execution_count": 15
        }
      ],
      "source": [
        "grader.check(\"parse_trees\")"
      ]
    },
    {
      "cell_type": "markdown",
      "id": "196ff2d9",
      "metadata": {
        "id": "196ff2d9"
      },
      "source": [
        "It's useful to draw the trees to make it easier to visually inspect them. "
      ]
    },
    {
      "cell_type": "code",
      "execution_count": 16,
      "id": "ea4803c0",
      "metadata": {
        "colab": {
          "base_uri": "https://localhost:8080/"
        },
        "id": "ea4803c0",
        "outputId": "793b2502-32e3-4465-c655-c22a65113e36"
      },
      "outputs": [
        {
          "output_type": "stream",
          "name": "stdout",
          "text": [
            "          S                   \n",
            "    ______|_______             \n",
            "   |          Op_Number       \n",
            "   |              |            \n",
            "   |          Single_Op       \n",
            "   |       _______|_______     \n",
            " Number   Op            Number\n",
            "   |      |               |    \n",
            "fifteen minus            five \n",
            "\n",
            "                       S                                    \n",
            "   ____________________|_________                            \n",
            "  |                          Op_Number                      \n",
            "  |                     _________|______________             \n",
            "  |                    |                    Op_Number       \n",
            "  |                    |                        |            \n",
            "  |                Single_Op                Single_Op       \n",
            "  |              ______|_________        _______|_______     \n",
            "Number          Op             Number   Op            Number\n",
            "  |        _____|______          |      |               |    \n",
            " four  divided         by       two    plus            one  \n",
            "\n"
          ]
        }
      ],
      "source": [
        "tree2.pretty_print()\n",
        "tree3.pretty_print()"
      ]
    },
    {
      "cell_type": "markdown",
      "id": "0ec6e175",
      "metadata": {
        "id": "0ec6e175"
      },
      "source": [
        "The following function validates that a tree only contains productions that are valid according to given grammar. "
      ]
    },
    {
      "cell_type": "code",
      "execution_count": 17,
      "id": "83e2a326",
      "metadata": {
        "id": "83e2a326"
      },
      "outputs": [],
      "source": [
        "def validate(tree, grammar):\n",
        "    return functools.reduce(lambda accum, production: \n",
        "                               accum and production in grammar.productions(),\n",
        "                            tree.productions())"
      ]
    },
    {
      "cell_type": "markdown",
      "id": "0cb3eab7",
      "metadata": {
        "id": "0cb3eab7"
      },
      "source": [
        "Using the `validate` function, we can validate that the trees your wrote are valid with respect to your grammar. "
      ]
    },
    {
      "cell_type": "code",
      "execution_count": 18,
      "id": "8a6dce3f",
      "metadata": {
        "id": "8a6dce3f",
        "colab": {
          "base_uri": "https://localhost:8080/"
        },
        "outputId": "7fb24e83-5602-4218-9ce0-9a69e77c5753"
      },
      "outputs": [
        {
          "output_type": "stream",
          "name": "stdout",
          "text": [
            "True\n",
            "True\n"
          ]
        }
      ],
      "source": [
        "print(validate(tree2, arithmetic_grammar))\n",
        "print(validate(tree3, arithmetic_grammar))"
      ]
    },
    {
      "cell_type": "markdown",
      "id": "e23ded33",
      "metadata": {
        "deletable": false,
        "editable": false,
        "id": "e23ded33"
      },
      "source": [
        "# Expanding the grammar\n",
        "The arithmetic expressions we considered so far were rather limited. In practice, there are many ways to express such expressions. Expand your grammar to generate also the following expressions, which use other ways of indicating the arithmetic operations, in addition to the previous ones:\n",
        "\n",
        "6. the sum of twenty and two\n",
        "1. the difference between fifteen and five\n",
        "1. the quotient of three and five\n",
        "1. the sum of the product of four and two and one \n",
        "\n",
        "<!--\n",
        "BEGIN QUESTION\n",
        "name: expanded_arithmetic_grammar\n",
        "-->"
      ]
    },
    {
      "cell_type": "code",
      "execution_count": 19,
      "id": "90630cd5",
      "metadata": {
        "id": "90630cd5"
      },
      "outputs": [],
      "source": [
        "#TODO\n",
        "all_numbers = \"'zero' | 'one' | 'two' | 'three' | 'four' | 'five' \" \\\n",
        "            + \"| 'six' | 'seven' | 'eight' | 'nine' | 'ten' | 'eleven' \" \\\n",
        "            + \"| 'twelve' | 'thirteen' | 'fourteen' | 'fifteen' \" \\\n",
        "            + \"| 'sixteen' | 'seventeen' | 'eighteen' | 'nineteen' | 'twenty'\"\n",
        "\n",
        "expanded_arithmetic_grammar_str = \"\"\"\n",
        "S -> Big_Number\n",
        "Big_Number -> Original_Number | Prefix\n",
        "Op_Number -> Single_Op | Single_Op Op_Number\n",
        "Single_Op -> Op Number\n",
        "Op -> 'plus' | 'minus' | 'divided' 'by' | 'times'\n",
        "Quotient_Op -> 'quotient' 'of'\n",
        "Difference_Op -> 'difference' 'between'\n",
        "List_Op -> 'product' 'of' | 'sum' 'of'  \n",
        "Prefix -> THE List_Op Number_List | THE Binary_Op\n",
        "Binary_Op -> Quotient_Op Big_Number AND Big_Number | Difference_Op Big_Number AND Big_Number\n",
        "Original_Number -> Number | Number Op_Number\n",
        "Number_List -> Big_Number | Big_Number AND Number_List\n",
        "THE -> 'the'\n",
        "AND -> 'and'\n",
        "\n",
        "Number -> \"\"\" + all_numbers\n",
        "\n",
        "expanded_arithmetic_grammar = nltk.CFG.fromstring(expanded_arithmetic_grammar_str)"
      ]
    },
    {
      "cell_type": "code",
      "execution_count": 20,
      "id": "886001a4",
      "metadata": {
        "deletable": false,
        "editable": false,
        "id": "886001a4",
        "colab": {
          "base_uri": "https://localhost:8080/",
          "height": 46
        },
        "outputId": "4280f73f-fa16-4af7-d005-bbb6cdf053d7"
      },
      "outputs": [
        {
          "output_type": "execute_result",
          "data": {
            "text/plain": [
              "\n",
              "    All tests passed!\n",
              "    "
            ],
            "text/html": [
              "\n",
              "    \n",
              "    \n",
              "        <p>All tests passed!</p>\n",
              "    \n",
              "    "
            ]
          },
          "metadata": {},
          "execution_count": 20
        }
      ],
      "source": [
        "grader.check(\"expanded_arithmetic_grammar\")"
      ]
    },
    {
      "cell_type": "markdown",
      "id": "c8c97013",
      "metadata": {
        "deletable": false,
        "editable": false,
        "id": "c8c97013"
      },
      "source": [
        "Create parse trees for sentences 6 and 9 according to your grammar. Again, you might find it useful to first draw the trees by hand and then write them in bracket notation using the `nltk.Tree.fromstring` function. \n",
        "\n",
        "<!--\n",
        "BEGIN QUESTION\n",
        "name: expanded_arithmetic_trees\n",
        "-->"
      ]
    },
    {
      "cell_type": "code",
      "execution_count": 21,
      "id": "dae29699",
      "metadata": {
        "id": "dae29699"
      },
      "outputs": [],
      "source": [
        "#TODO\n",
        "# \"the sum of twenty and two\"\n",
        "tree6 = nltk.Tree.fromstring(\"(S (Big_Number (Prefix (THE the)  (List_Op sum of ) (Number_List (Big_Number (Original_Number (Number twenty) )) (AND and) (Number_List (Big_Number (Original_Number (Number two)))))  )  )     )\")\n",
        "\n",
        "# \"the sum of the product of four and two and one\" \n",
        "tree9 = nltk.Tree.fromstring(\"(S (Big_Number (Prefix (THE the) (List_Op sum of) (Number_List (Big_Number (Prefix (THE the) (List_Op product of) (Number_List (Big_Number (Original_Number (Number four))) (AND and) (Number_List (Big_Number (Original_Number (Number two))))))) (AND and) (Number_List (Big_Number (Original_Number (Number one))))))))\")\n"
      ]
    },
    {
      "cell_type": "code",
      "execution_count": 22,
      "id": "8f921df5",
      "metadata": {
        "deletable": false,
        "editable": false,
        "id": "8f921df5",
        "colab": {
          "base_uri": "https://localhost:8080/",
          "height": 46
        },
        "outputId": "40890ff4-b970-4b1b-90c1-4b1a119bc19d"
      },
      "outputs": [
        {
          "output_type": "execute_result",
          "data": {
            "text/plain": [
              "\n",
              "    All tests passed!\n",
              "    "
            ],
            "text/html": [
              "\n",
              "    \n",
              "    \n",
              "        <p>All tests passed!</p>\n",
              "    \n",
              "    "
            ]
          },
          "metadata": {},
          "execution_count": 22
        }
      ],
      "source": [
        "grader.check(\"expanded_arithmetic_trees\")"
      ]
    },
    {
      "cell_type": "code",
      "execution_count": 23,
      "id": "460d5429",
      "metadata": {
        "id": "460d5429",
        "colab": {
          "base_uri": "https://localhost:8080/"
        },
        "outputId": "426f1eb0-fc42-4b63-93a6-bf8ea74fb0b2"
      },
      "outputs": [
        {
          "output_type": "stream",
          "name": "stdout",
          "text": [
            "                    S                                                 \n",
            "                    |                                                  \n",
            "                Big_Number                                            \n",
            "                    |                                                  \n",
            "                  Prefix                                              \n",
            "  __________________|___________________________                       \n",
            " |         |                               Number_List                \n",
            " |         |                       _____________|_____________         \n",
            " |         |                      |             |        Number_List  \n",
            " |         |                      |             |             |        \n",
            " |         |                  Big_Number        |         Big_Number  \n",
            " |         |                      |             |             |        \n",
            " |         |               Original_Number      |      Original_Number\n",
            " |         |                      |             |             |        \n",
            "THE     List_Op                 Number         AND          Number    \n",
            " |    _____|________              |             |             |        \n",
            "the sum             of          twenty         and           two      \n",
            "\n",
            "                                            S                                                                     \n",
            "                                            |                                                                      \n",
            "                                        Big_Number                                                                \n",
            "                                            |                                                                      \n",
            "                                          Prefix                                                                  \n",
            "  __________________________________________|_____________                                                         \n",
            " |         |                                         Number_List                                                  \n",
            " |         |                                 _____________|_______________________________________________         \n",
            " |         |                            Big_Number                                              |         |       \n",
            " |         |                                |                                                   |         |        \n",
            " |         |                              Prefix                                                |         |       \n",
            " |         |          ______________________|___________________________                        |         |        \n",
            " |         |         |             |                               Number_List                  |         |       \n",
            " |         |         |             |                       _____________|_____________          |         |        \n",
            " |         |         |             |                      |             |        Number_List    |    Number_List  \n",
            " |         |         |             |                      |             |             |         |         |        \n",
            " |         |         |             |                  Big_Number        |         Big_Number    |     Big_Number  \n",
            " |         |         |             |                      |             |             |         |         |        \n",
            " |         |         |             |               Original_Number      |      Original_Number  |  Original_Number\n",
            " |         |         |             |                      |             |             |         |         |        \n",
            "THE     List_Op     THE         List_Op                 Number         AND          Number     AND      Number    \n",
            " |    _____|_____    |      _______|________              |             |             |         |         |        \n",
            "the sum          of the product             of           four          and           two       and       one      \n",
            "\n"
          ]
        }
      ],
      "source": [
        "tree6.pretty_print()\n",
        "tree9.pretty_print()"
      ]
    },
    {
      "cell_type": "markdown",
      "id": "bffc5581",
      "metadata": {
        "deletable": false,
        "editable": false,
        "id": "bffc5581"
      },
      "source": [
        "# Testing the grammar\n",
        "\n",
        "Now that you have a CFG for arithmetic expressions, it is time to test its capabilities. Can your grammar generate the following new expressions? If not, edit the grammar to make sure it can handle such expressions.\n",
        "\n",
        "10. three added to eight\n",
        "1. the sum of two and nine times the difference between five and three\n",
        "1. ten\n",
        "\n",
        "<!--\n",
        "BEGIN QUESTION\n",
        "name: further_testing\n",
        "-->"
      ]
    },
    {
      "cell_type": "code",
      "execution_count": 24,
      "id": "4e0f8e09",
      "metadata": {
        "id": "4e0f8e09"
      },
      "outputs": [],
      "source": [
        "#TODO\n",
        "expanded_arithmetic_grammar_str = \"\"\"\n",
        "S -> Number\n",
        "Number -> Number_Literal | Operator_Result\n",
        "Operator_Result -> Infix_Binary_Operator_Result | Prefix_Binary_Operator_Result | ListOperator_Result\n",
        "\n",
        "Infix_Binary_Operator_Result -> Number Infix_Binary_Operator Number\n",
        "Infix_Binary_Operator -> Infix_Binary_Operator_Literal\n",
        "\n",
        "Prefix_Binary_Operator_Result -> OPTIONAL_THE_Prefix_Binary_Operator Number AND_Literal Number\n",
        "Prefix_Binary_Operator -> Prefix_Binary_Operator_Literal\n",
        "THE_Prefix_Binary_Operator -> THE_Literal Prefix_Binary_Operator\n",
        "OPTIONAL_THE_Prefix_Binary_Operator -> Prefix_Binary_Operator | THE_Prefix_Binary_Operator\n",
        "\n",
        "\n",
        "ListOperator_Result -> OPTIONAL_THE_ListOperator List_Numbers\n",
        "ListOperator -> ListOperator_Literal\n",
        "THE_ListOperator -> THE_Literal ListOperator\n",
        "OPTIONAL_THE_ListOperator -> ListOperator | THE_ListOperator\n",
        "List_Numbers -> Number | Number AND_Literal List_Numbers\n",
        "\n",
        "\n",
        "Prefix_Binary_Operator_Literal -> Quotient_Operator_Literal | Difference_Operator_Literal\n",
        "Infix_Binary_Operator_Literal -> 'plus' | 'minus' | 'divided' 'by' | 'times' | 'added' 'to'\n",
        "Quotient_Operator_Literal -> 'quotient' 'of'\n",
        "Difference_Operator_Literal -> 'difference' 'between'\n",
        "ListOperator_Literal -> 'product' 'of' | 'sum' 'of'\n",
        "THE_Literal -> 'the'\n",
        "AND_Literal -> 'and'\n",
        "Number_Literal -> \"\"\" + all_numbers\n",
        "\n",
        "expanded_arithmetic_grammar = nltk.CFG.fromstring(expanded_arithmetic_grammar_str)"
      ]
    },
    {
      "cell_type": "code",
      "execution_count": 25,
      "id": "90e6d7bd",
      "metadata": {
        "deletable": false,
        "editable": false,
        "id": "90e6d7bd",
        "colab": {
          "base_uri": "https://localhost:8080/",
          "height": 46
        },
        "outputId": "da6b9212-ecda-456f-a86a-7885624007ac"
      },
      "outputs": [
        {
          "output_type": "execute_result",
          "data": {
            "text/plain": [
              "\n",
              "    All tests passed!\n",
              "    "
            ],
            "text/html": [
              "\n",
              "    \n",
              "    \n",
              "        <p>All tests passed!</p>\n",
              "    \n",
              "    "
            ]
          },
          "metadata": {},
          "execution_count": 25
        }
      ],
      "source": [
        "grader.check(\"further_testing\")"
      ]
    },
    {
      "cell_type": "markdown",
      "id": "4d17cff6",
      "metadata": {
        "id": "4d17cff6"
      },
      "source": [
        "# Preview to parsing\n",
        "\n",
        "Verifying by hand that a sentence can be generated by a grammar is cumbersome and impractical. We would like an automatic procedure for doing that at scale, that is, a *parser*. The `nltk` system can construct a parser given a grammar. In later labs, you'll write your own parsers.\n",
        "\n",
        "> Strictly speaking, an algoithm that determines *whether* a sentence can be generated by a grammar (that is, returns a simple `true` or `false`) is properly referred to as a *recognizer*. A *parser* goes further, in returning one or more parse trees for grammatical sentences."
      ]
    },
    {
      "cell_type": "code",
      "execution_count": 26,
      "id": "9582d75e",
      "metadata": {
        "id": "9582d75e"
      },
      "outputs": [],
      "source": [
        "parser = nltk.parse.BottomUpChartParser(expanded_arithmetic_grammar)"
      ]
    },
    {
      "cell_type": "markdown",
      "id": "364451a4",
      "metadata": {
        "id": "364451a4"
      },
      "source": [
        "Using this parser we can get parses for a given sentence."
      ]
    },
    {
      "cell_type": "code",
      "execution_count": 27,
      "id": "80289cc5",
      "metadata": {
        "id": "80289cc5",
        "colab": {
          "base_uri": "https://localhost:8080/"
        },
        "outputId": "e48defbd-9df9-4411-c6e4-7caf4d46b5f5"
      },
      "outputs": [
        {
          "output_type": "stream",
          "name": "stdout",
          "text": [
            "                                                                                                                 S                                                                                                                 \n",
            "                                                                                                                 |                                                                                                                  \n",
            "                                                                                                               Number                                                                                                              \n",
            "                                                                                                                 |                                                                                                                  \n",
            "                                                                                                          Operator_Result                                                                                                          \n",
            "                                                                                                                 |                                                                                                                  \n",
            "                                                                                                          Infix_Binary_Ope                                                                                                         \n",
            "                                                                                                            rator_Result                                                                                                           \n",
            "                                                      ___________________________________________________________|______________________________________________________________                                                    \n",
            "                                                     |                                                           |                                                            Number                                               \n",
            "                                                     |                                                           |                                                              |                                                   \n",
            "                                                   Number                                                        |                                                       Operator_Result                                           \n",
            "                                                     |                                                           |                                                              |                                                   \n",
            "                                              Operator_Result                                                    |                                                       Prefix_Binary_Op                                          \n",
            "                                                     |                                                           |                                                        erator_Result                                            \n",
            "                                                     |                                                           |                             _________________________________|__________________________________________         \n",
            "                                              ListOperator_Res                                                   |                     OPTIONAL_THE_Pre                                         |             |            |       \n",
            "                                                    ult                                                          |                     fix_Binary_Opera                                         |             |            |       \n",
            "                                                     |                                                           |                           tor                                                |             |            |       \n",
            "                    _________________________________|_____________________________                              |                            |                                                 |             |            |        \n",
            "            OPTIONAL_THE_Lis                                                  List_Numbers                       |                     THE_Prefix_Binar                                         |             |            |       \n",
            "               tOperator                                                           |                             |                        y_Operator                                            |             |            |       \n",
            "                   |                                                  _____________|_____________                |               _____________|________________                                 |             |            |        \n",
            "            THE_ListOperator                                         |             |        List_Numbers         |              |                       Prefix_Binary_Op                        |             |            |       \n",
            "                   |                                                 |             |             |               |              |                            erator                             |             |            |       \n",
            "      _____________|________________                                 |             |             |               |              |                              |                                |             |            |        \n",
            "     |                         ListOperator                        Number          |           Number     Infix_Binary_Ope      |                       Prefix_Binary_Op                      Number          |          Number    \n",
            "     |                              |                                |             |             |             rator            |                        erator_Literal                         |             |            |       \n",
            "     |                              |                                |             |             |               |              |                              |                                |             |            |        \n",
            "THE_Literal                  ListOperator_Lit                  Number_Literal AND_Literal  Number_Literal Infix_Binary_Ope THE_Literal                  Difference_Opera                  Number_Literal AND_Literal Number_Literal\n",
            "     |                             eral                              |             |             |         rator_Literal        |                         tor_Literal                           |             |            |       \n",
            "     |              ________________|________________                |             |             |               |              |              ________________|________________                |             |            |        \n",
            "    the           sum                                of             two           and           nine           times           the        difference                         between           five          and         three     \n",
            "\n",
            "                                                                                                   S                                                                                                                  \n",
            "                                                                                                   |                                                                                                                   \n",
            "                                                                                                 Number                                                                                                               \n",
            "                                                                                                   |                                                                                                                   \n",
            "                                                                                            Operator_Result                                                                                                           \n",
            "                                                                                                   |                                                                                                                   \n",
            "                                                                                            ListOperator_Res                                                                                                          \n",
            "                                                                                                  ult                                                                                                                 \n",
            "                    _______________________________________________________________________________|______________                                                                                                     \n",
            "                   |                                                                                         List_Numbers                                                                                             \n",
            "                   |                                     _________________________________________________________|______________                                                                                      \n",
            "                   |                                    |             |                                                     List_Numbers                                                                              \n",
            "                   |                                    |             |                                                          |                                                                                     \n",
            "                   |                                    |             |                                                        Number                                                                                 \n",
            "                   |                                    |             |                                                          |                                                                                     \n",
            "                   |                                    |             |                                                   Operator_Result                                                                             \n",
            "                   |                                    |             |                                                          |                                                                                     \n",
            "                   |                                    |             |                                                   Infix_Binary_Ope                                                                            \n",
            "                   |                                    |             |                                                     rator_Result                                                                              \n",
            "                   |                                    |             |             _____________________________________________|_________________________________                                                    \n",
            "                   |                                    |             |            |               |                                                             Number                                               \n",
            "                   |                                    |             |            |               |                                                               |                                                   \n",
            "                   |                                    |             |            |               |                                                        Operator_Result                                           \n",
            "                   |                                    |             |            |               |                                                               |                                                   \n",
            "                   |                                    |             |            |               |                                                        Prefix_Binary_Op                                          \n",
            "                   |                                    |             |            |               |                                                         erator_Result                                            \n",
            "                   |                                    |             |            |               |                              _________________________________|__________________________________________         \n",
            "                   |                                    |             |            |               |                      OPTIONAL_THE_Pre                                         |             |            |       \n",
            "                   |                                    |             |            |               |                      fix_Binary_Opera                                         |             |            |       \n",
            "                   |                                    |             |            |               |                            tor                                                |             |            |       \n",
            "                   |                                    |             |            |               |                             |                                                 |             |            |        \n",
            "            OPTIONAL_THE_Lis                            |             |            |               |                      THE_Prefix_Binar                                         |             |            |       \n",
            "               tOperator                                |             |            |               |                         y_Operator                                            |             |            |       \n",
            "                   |                                    |             |            |               |               ______________|________________                                 |             |            |        \n",
            "            THE_ListOperator                            |             |            |               |              |                        Prefix_Binary_Op                        |             |            |       \n",
            "                   |                                    |             |            |               |              |                             erator                             |             |            |       \n",
            "      _____________|________________                    |             |            |               |              |                               |                                |             |            |        \n",
            "     |                         ListOperator           Number          |          Number     Infix_Binary_Ope      |                        Prefix_Binary_Op                      Number          |          Number    \n",
            "     |                              |                   |             |            |             rator            |                         erator_Literal                         |             |            |       \n",
            "     |                              |                   |             |            |               |              |                               |                                |             |            |        \n",
            "THE_Literal                  ListOperator_Lit     Number_Literal AND_Literal Number_Literal Infix_Binary_Ope THE_Literal                   Difference_Opera                  Number_Literal AND_Literal Number_Literal\n",
            "     |                             eral                 |             |            |         rator_Literal        |                          tor_Literal                           |             |            |       \n",
            "     |              ________________|__________         |             |            |               |              |               ________________|________________                |             |            |        \n",
            "    the           sum                          of      two           and          nine           times           the         difference                         between           five          and         three     \n",
            "\n"
          ]
        }
      ],
      "source": [
        "test_sentence = \"the sum of two and nine times the difference between five and three\".split()\n",
        "for tree in parser.parse(test_sentence):\n",
        "    tree.pretty_print()"
      ]
    },
    {
      "cell_type": "markdown",
      "id": "8943d17d",
      "metadata": {
        "id": "8943d17d"
      },
      "source": [
        "You may have noticed that some of the arithmetic expressions were *ambiguous*; they had multiple distinct valid parses. In the next few labs, we will deal with the important matter of ambiguity. "
      ]
    },
    {
      "cell_type": "markdown",
      "id": "41487d19",
      "metadata": {
        "id": "41487d19"
      },
      "source": [
        "## Parser evaluation\n",
        "To evaluate the quality of a syntactic parser, we need an evaluation metric to compare a predicted _hypothesis_ parse with a gold _reference_ parse. Common evaluation metrics include:\n",
        "\n",
        "1. Exact match – 1 if the predicted and reference parses are identical; 0 otherwise\n",
        "2. Precision ($P$) – the proportion of constituents in the hypothesis that are correct (that is, match the gold parse)\n",
        "$$P = \\frac{\\cnt{\\text{correct constituents in a hypothesis parse}}}{\\cnt{\\text{constituents in a hypothesis parse}}}$$\n",
        "1. Recall ($R$) – the proportion of constituents in the gold parse that are predicted (that is, match the hypothesis parse)\n",
        "$$R = \\frac{\\cnt{\\text{correct constituents in a hypothesis parse}}}{\\cnt{\\text{constituents in a reference parse}}}$$\n",
        "1. $F_1$ score – the [harmonic mean](https://en.wikipedia.org/wiki/Harmonic_mean) of precision and recall\n",
        "$$F_1 = \\frac{2}{1/P+1/R} = \\frac{2PR}{P+R}$$\n",
        "\n",
        "We consider a constituent in one tree to match a constituent in another if they share the same nonterminal and cover the same span of terminal symbols. We don't count the terminals by themselves as constituents, so, for instance, the `ref_tree` we define below has five constituents, not eight.\n",
        "\n",
        "Consider the following trees, a reference tree `ref_tree` (the \"gold\" or \"ground truth\")  and hypothesis tree `hyp_tree` (usually, the \"predicted\" tree that we wish to measure)."
      ]
    },
    {
      "cell_type": "code",
      "execution_count": 28,
      "id": "57d85c1f",
      "metadata": {
        "id": "57d85c1f",
        "colab": {
          "base_uri": "https://localhost:8080/"
        },
        "outputId": "1e063d68-90bc-4402-faf9-33297ade5f23"
      },
      "outputs": [
        {
          "output_type": "stream",
          "name": "stdout",
          "text": [
            "       S           \n",
            "  _____|____        \n",
            " |          VP     \n",
            " |      ____|___    \n",
            " NP    V        NP \n",
            " |     |        |   \n",
            "dogs chase     cats\n",
            "\n"
          ]
        }
      ],
      "source": [
        "ref_tree = nltk.Tree.fromstring(\"(S (NP dogs) (VP (V chase) (NP cats)))\")\n",
        "ref_tree.pretty_print()"
      ]
    },
    {
      "cell_type": "code",
      "execution_count": 29,
      "id": "ddf96014",
      "metadata": {
        "id": "ddf96014",
        "colab": {
          "base_uri": "https://localhost:8080/"
        },
        "outputId": "965d6bbe-caca-47e1-da86-406b4bc28e9f"
      },
      "outputs": [
        {
          "output_type": "stream",
          "name": "stdout",
          "text": [
            "       S           \n",
            "  _____|____        \n",
            " S          VP     \n",
            " |      ____|___    \n",
            " NP    V        NP \n",
            " |     |        |   \n",
            "dogs chase     cats\n",
            "\n"
          ]
        }
      ],
      "source": [
        "hyp_tree = nltk.Tree.fromstring(\"(S (S  (NP dogs) ) (VP (V chase) (NP cats)))\")\n",
        "hyp_tree.pretty_print()"
      ]
    },
    {
      "cell_type": "markdown",
      "id": "e8fa19f9",
      "metadata": {
        "deletable": false,
        "editable": false,
        "id": "e8fa19f9"
      },
      "source": [
        "Calculate the precision, recall, and $F1$ of the hypothesis tree `hyp_tree` relative to the reference tree `ref_tree`.\n",
        "\n",
        "<!--\n",
        "BEGIN QUESTION\n",
        "name: metrics\n",
        "-->"
      ]
    },
    {
      "cell_type": "code",
      "execution_count": 30,
      "id": "280f4c6b",
      "metadata": {
        "id": "280f4c6b"
      },
      "outputs": [],
      "source": [
        "#TODO\n",
        "precision = 5/6\n",
        "recall = 1\n",
        "f1 = 2*precision*recall/(precision+recall)"
      ]
    },
    {
      "cell_type": "code",
      "execution_count": 31,
      "id": "a0828b1c",
      "metadata": {
        "deletable": false,
        "editable": false,
        "id": "a0828b1c",
        "colab": {
          "base_uri": "https://localhost:8080/",
          "height": 46
        },
        "outputId": "0c1a88d9-f19b-438b-d160-a3447ca40f45"
      },
      "outputs": [
        {
          "output_type": "execute_result",
          "data": {
            "text/plain": [
              "\n",
              "    All tests passed!\n",
              "    "
            ],
            "text/html": [
              "\n",
              "    \n",
              "    \n",
              "        <p>All tests passed!</p>\n",
              "    \n",
              "    "
            ]
          },
          "metadata": {},
          "execution_count": 31
        }
      ],
      "source": [
        "grader.check(\"metrics\")"
      ]
    },
    {
      "cell_type": "markdown",
      "id": "eeeb41cc",
      "metadata": {
        "deletable": false,
        "editable": false,
        "id": "eeeb41cc"
      },
      "source": [
        "## The precision-recall tradeoff\n",
        "\n",
        "Often there is a tradeoff between precision and recall. In the above example, the recall is good, but at the expense of precision. There can also be trees with high precision and low recall. \n",
        "\n",
        "Find the smallest tree (that is, with the fewest nodes) that has a precision of $1$ with regards to the above `ref_tree`. (The tree should have the nonterminal `S` at its root but does **not need be valid** according to the grammar) \n",
        "\n",
        "What is its recall? \n",
        "\n",
        "<!--\n",
        "BEGIN QUESTION\n",
        "name: tradeoff\n",
        "-->"
      ]
    },
    {
      "cell_type": "code",
      "execution_count": 32,
      "id": "524b4121",
      "metadata": {
        "id": "524b4121",
        "colab": {
          "base_uri": "https://localhost:8080/"
        },
        "outputId": "e7fe1bf4-c7cf-44e8-c77d-05f04c017a77"
      },
      "outputs": [
        {
          "output_type": "stream",
          "name": "stdout",
          "text": [
            "       S       \n",
            "  _____|____    \n",
            "dogs chase cats\n",
            "\n"
          ]
        }
      ],
      "source": [
        "#TODO -- Fill in the minimal precision-1 tree and its recall\n",
        "minimal_high_precision_tree = hyp_tree.flatten()\n",
        "recall_of_minimal_high_precision_tree = 1/5\n",
        "minimal_high_precision_tree.pretty_print()"
      ]
    },
    {
      "cell_type": "code",
      "execution_count": 33,
      "id": "ce34aabf",
      "metadata": {
        "deletable": false,
        "editable": false,
        "id": "ce34aabf",
        "colab": {
          "base_uri": "https://localhost:8080/",
          "height": 46
        },
        "outputId": "ffdad756-a40d-450d-f99d-d43c7b3a207f"
      },
      "outputs": [
        {
          "output_type": "execute_result",
          "data": {
            "text/plain": [
              "\n",
              "    All tests passed!\n",
              "    "
            ],
            "text/html": [
              "\n",
              "    \n",
              "    \n",
              "        <p>All tests passed!</p>\n",
              "    \n",
              "    "
            ]
          },
          "metadata": {},
          "execution_count": 33
        }
      ],
      "source": [
        "grader.check(\"tradeoff\")"
      ]
    },
    {
      "cell_type": "markdown",
      "id": "2aeb3255",
      "metadata": {
        "id": "2aeb3255"
      },
      "source": [
        "#  Normal forms\n",
        "\n",
        "As you have seen above, there are many ways to write a grammar for a given language. It is often convenient, however, to work with a standard format. A *normal form* for context-free languages is a restricted production format for context-free grammars that still allows expressing arbitrary context-free languages.\n",
        "\n",
        "As an example -- which will come in handy later -- we examine *Chomsky normal form*.\n",
        "A grammar in Chomsky Normal Form (CNF) has rules of only two kinds:\n",
        "\n",
        "1. $A \\rightarrow B \\, C$ – a rule mapping a nonterminal symbol to exactly two nonterminal symbols\n",
        "2. $A \\rightarrow a$ – a rule mapping a nonterminal symbol to exactly one terminal symbol\n",
        "\n",
        "> Actually, this version of CNF can't express languages that contain the empty string. To allow expression of any context-free language, we can allow a third type of rule $S \\rightarrow \\epsilon$, where $S$ is the start symbol of the grammar and $\\epsilon$ represents the empty string. But for our purposes, we'll stick to the simpler version here.\n",
        "\n",
        "A CFG parse tree can be transformed to one generable by a CNF grammar in a variety of ways, typically by introducing special new nonterminals. Here, we use `nltk` to perform the transformation. The result is a binary tree. The binary branching property will turn out to be useful when we turn to implementing parsers."
      ]
    },
    {
      "cell_type": "code",
      "execution_count": 34,
      "id": "14af0efa",
      "metadata": {
        "id": "14af0efa",
        "colab": {
          "base_uri": "https://localhost:8080/"
        },
        "outputId": "d7979817-8eb6-4df3-c3f6-68b5423b99a6"
      },
      "outputs": [
        {
          "output_type": "stream",
          "name": "stdout",
          "text": [
            "      S       \n",
            "  ____|____    \n",
            " NP  CONJ  NP \n",
            " |    |    |   \n",
            "dogs and  cats\n",
            "\n",
            "      S                   \n",
            "  ____|________            \n",
            " |        S|<CONJ-NP>     \n",
            " |     ________|_______    \n",
            " NP  CONJ              NP \n",
            " |    |                |   \n",
            "dogs and              cats\n",
            "\n"
          ]
        }
      ],
      "source": [
        "tree = nltk.Tree.fromstring(\"(S (NP dogs) (CONJ and) (NP cats) )\")\n",
        "tree.pretty_print()\n",
        "tree.chomsky_normal_form()\n",
        "tree.pretty_print()"
      ]
    },
    {
      "cell_type": "markdown",
      "id": "bab7563d",
      "metadata": {
        "deletable": false,
        "editable": false,
        "id": "bab7563d"
      },
      "source": [
        "Some parsing algorithms require the grammar to be in CNF. Manually convert the arithmetic grammar you wrote in the first part of this lab (`arithmetic_grammar`) to CNF. You may need to introduce \"dummy\" nonterminals to allow that. Your CNF grammar should recognize exactly the same strings as the original CFG, though the parse trees will be different.\n",
        "\n",
        "<!--\n",
        "BEGIN QUESTION\n",
        "name: cnf_conversion\n",
        "-->"
      ]
    },
    {
      "cell_type": "code",
      "execution_count": 35,
      "id": "42fbe1ab",
      "metadata": {
        "id": "42fbe1ab"
      },
      "outputs": [],
      "source": [
        "#TODO - convert the arithmetic grammar you wrote in the *first part* of \n",
        "#       this lab (arithmetic_grammar) to CNF.\n",
        "cnf_arithmetic_grammar_str = \"S -> Number Op_Number | \" + all_numbers + \"\"\"\n",
        "Op_Number -> Op Number | Single_Op Op_Number\n",
        "Single_Op -> Op Number\n",
        "Op -> 'plus' | 'minus' | DIVIDED BY | 'times'\n",
        "DIVIDED -> 'divided'\n",
        "BY -> 'by'\n",
        "\"\"\"\n",
        "cnf_arithmetic_grammar = nltk.CFG.fromstring( \n",
        "    cnf_arithmetic_grammar_str\n",
        ")"
      ]
    },
    {
      "cell_type": "code",
      "execution_count": 36,
      "id": "f18b6ae4",
      "metadata": {
        "deletable": false,
        "editable": false,
        "id": "f18b6ae4",
        "colab": {
          "base_uri": "https://localhost:8080/",
          "height": 46
        },
        "outputId": "ae049e5c-157e-4ebf-ec99-6314c8bcbac7"
      },
      "outputs": [
        {
          "output_type": "execute_result",
          "data": {
            "text/plain": [
              "\n",
              "    All tests passed!\n",
              "    "
            ],
            "text/html": [
              "\n",
              "    \n",
              "    \n",
              "        <p>All tests passed!</p>\n",
              "    \n",
              "    "
            ]
          },
          "metadata": {},
          "execution_count": 36
        }
      ],
      "source": [
        "grader.check(\"cnf_conversion\")"
      ]
    },
    {
      "cell_type": "markdown",
      "id": "fae2ac8c",
      "metadata": {
        "id": "fae2ac8c"
      },
      "source": [
        "The NLTK grammar method `is_chomsky_normal_form` allows us to verify that the grammar is indeed in CNF:"
      ]
    },
    {
      "cell_type": "code",
      "execution_count": 37,
      "id": "ed3d774a",
      "metadata": {
        "id": "ed3d774a",
        "colab": {
          "base_uri": "https://localhost:8080/"
        },
        "outputId": "34e6fe95-8f68-4d12-946b-2dc8ea5b3d3b"
      },
      "outputs": [
        {
          "output_type": "execute_result",
          "data": {
            "text/plain": [
              "True"
            ]
          },
          "metadata": {},
          "execution_count": 37
        }
      ],
      "source": [
        "cnf_arithmetic_grammar.is_chomsky_normal_form()"
      ]
    },
    {
      "cell_type": "markdown",
      "id": "26d194c4",
      "metadata": {
        "deletable": false,
        "editable": false,
        "id": "26d194c4"
      },
      "source": [
        "<!-- BEGIN QUESTION -->\n",
        "\n",
        "# Lab debrief\n",
        "**Question:** We're interested in any thoughts your group has about this lab so that we can improve this lab for later years, and to inform later labs for this year. Please list any issues that arose or comments you have to improve the lab. Useful things to comment on include the following: \n",
        "\n",
        "* Was the lab too long or too short?\n",
        "* Were the readings appropriate for the lab? \n",
        "* Was it clear (at least after you completed the lab) what the points of the exercises were? \n",
        "* Are there additions or changes you think would make the lab better?\n",
        "\n",
        "<!--\n",
        "BEGIN QUESTION\n",
        "name: open_response_debrief\n",
        "manual: true\n",
        "-->"
      ]
    },
    {
      "cell_type": "markdown",
      "id": "bf7db5b9",
      "metadata": {
        "id": "bf7db5b9"
      },
      "source": [
        "_Type your answer here, replacing this text._"
      ]
    },
    {
      "cell_type": "markdown",
      "id": "e2f0b8c4",
      "metadata": {
        "id": "e2f0b8c4"
      },
      "source": [
        "<!-- END QUESTION -->\n",
        "\n",
        "\n",
        "\n",
        "# End of lab 3-1"
      ]
    },
    {
      "cell_type": "markdown",
      "id": "b336a16a",
      "metadata": {
        "deletable": false,
        "editable": false,
        "id": "b336a16a"
      },
      "source": [
        "---\n",
        "\n",
        "To double-check your work, the cell below will rerun all of the autograder tests."
      ]
    },
    {
      "cell_type": "code",
      "execution_count": 38,
      "id": "680f6553",
      "metadata": {
        "deletable": false,
        "editable": false,
        "id": "680f6553",
        "colab": {
          "base_uri": "https://localhost:8080/",
          "height": 397
        },
        "outputId": "eaafd528-15e3-4245-eef7-322ca0b8d1db"
      },
      "outputs": [
        {
          "output_type": "execute_result",
          "data": {
            "text/plain": [
              "arithmetic_grammar:\n",
              "\n",
              "    All tests passed!\n",
              "    \n",
              "\n",
              "cnf_conversion:\n",
              "\n",
              "    All tests passed!\n",
              "    \n",
              "\n",
              "expanded_arithmetic_grammar:\n",
              "\n",
              "    All tests passed!\n",
              "    \n",
              "\n",
              "expanded_arithmetic_trees:\n",
              "\n",
              "    All tests passed!\n",
              "    \n",
              "\n",
              "further_testing:\n",
              "\n",
              "    All tests passed!\n",
              "    \n",
              "\n",
              "metrics:\n",
              "\n",
              "    All tests passed!\n",
              "    \n",
              "\n",
              "parse_trees:\n",
              "\n",
              "    All tests passed!\n",
              "    \n",
              "\n",
              "tradeoff:\n",
              "\n",
              "    All tests passed!\n",
              "    \n"
            ],
            "text/html": [
              "<p><strong>arithmetic_grammar:</strong></p>\n",
              "\n",
              "    \n",
              "    \n",
              "        <p>All tests passed!</p>\n",
              "    \n",
              "    \n",
              "\n",
              "<p><strong>cnf_conversion:</strong></p>\n",
              "\n",
              "    \n",
              "    \n",
              "        <p>All tests passed!</p>\n",
              "    \n",
              "    \n",
              "\n",
              "<p><strong>expanded_arithmetic_grammar:</strong></p>\n",
              "\n",
              "    \n",
              "    \n",
              "        <p>All tests passed!</p>\n",
              "    \n",
              "    \n",
              "\n",
              "<p><strong>expanded_arithmetic_trees:</strong></p>\n",
              "\n",
              "    \n",
              "    \n",
              "        <p>All tests passed!</p>\n",
              "    \n",
              "    \n",
              "\n",
              "<p><strong>further_testing:</strong></p>\n",
              "\n",
              "    \n",
              "    \n",
              "        <p>All tests passed!</p>\n",
              "    \n",
              "    \n",
              "\n",
              "<p><strong>metrics:</strong></p>\n",
              "\n",
              "    \n",
              "    \n",
              "        <p>All tests passed!</p>\n",
              "    \n",
              "    \n",
              "\n",
              "<p><strong>parse_trees:</strong></p>\n",
              "\n",
              "    \n",
              "    \n",
              "        <p>All tests passed!</p>\n",
              "    \n",
              "    \n",
              "\n",
              "<p><strong>tradeoff:</strong></p>\n",
              "\n",
              "    \n",
              "    \n",
              "        <p>All tests passed!</p>\n",
              "    \n",
              "    \n",
              "\n"
            ]
          },
          "metadata": {},
          "execution_count": 38
        }
      ],
      "source": [
        "grader.check_all()"
      ]
    }
  ],
  "metadata": {
    "colab": {
      "provenance": []
    },
    "kernelspec": {
      "display_name": "otter-latest",
      "language": "python",
      "name": "python3"
    },
    "language_info": {
      "codemirror_mode": {
        "name": "ipython",
        "version": 3
      },
      "file_extension": ".py",
      "mimetype": "text/x-python",
      "name": "python",
      "nbconvert_exporter": "python",
      "pygments_lexer": "ipython3",
      "version": "3.8.3"
    },
    "title": "CS236299 Lab 3-1: Context-free grammars introduced",
    "vscode": {
      "interpreter": {
        "hash": "4fba83c08fc02185bb2310bd24d0cd81fb04529c933f82aa81c61aab9d5528dc"
      }
    }
  },
  "nbformat": 4,
  "nbformat_minor": 5
}